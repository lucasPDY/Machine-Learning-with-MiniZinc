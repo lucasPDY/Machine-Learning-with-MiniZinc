{
 "cells": [
  {
   "cell_type": "markdown",
   "metadata": {
    "colab_type": "text",
    "id": "8k4V81Me0Ori"
   },
   "source": [
    "# Case  Study of  Vehicle Routing Problem with Parameter Prediction Model using Sklearn and MiniZinc"
   ]
  },
  {
   "cell_type": "markdown",
   "metadata": {
    "colab_type": "text",
    "id": "SewzU7ix0Orj"
   },
   "source": [
    "## Overview\n",
    "This case study is adapted from [\"Incorporation of parameter prediction models of different fidelity into job shop scheduling\"](https://www.sciencedirect.com/science/article/pii/S2405896319301363). \n",
    "\n",
    "In the study, the researchers used a [publicly available dataset](https://www.kaggle.com/c/nyc-taxi-trip-duration) to propose a scheduling problem.\n",
    "\n",
    "Here is the excerpt of the problem:\n",
    "\n",
    "\" We now define a scheduling problem that is based on the dataset but has features that are transferable to industrial job shop scheduling. Let us consider a company, which head quarter is at Wall Street 2, located at the South West tip of Manhattan. The company performs surveys at remote sites located around NYC. In order to perform a survey, an employee of the company travels to the site by taxi, performs the survey and travels back to the head quarter. We refer to this combination of the outbound taxi trip, the survey and the inbound taxi trip as a task. When performing a survey, an employee relies on a survey team that is based at the head quarter. We consider both taxis and survey teams as processing units, and define the number of both types of units to be two. The number of traveling employees is not restricted. In addition, a taxi that drops off an employee to location A is defined to be instantly available to pick up another employee from location B. The objective of the scheduling optimization is to minimize the make span ms of performing surveys at six different sites located in NYC. The durations of outbound and inbound taxi trips are predicted , whereas the duration of conducting a survey is fixed to 1800 s. \"\n",
    "\n",
    "\n",
    "\n",
    "### Prediction\n",
    "\n",
    "\n",
    "### Optimization\n"
   ]
  },
  {
   "cell_type": "markdown",
   "metadata": {
    "colab_type": "text",
    "id": "i7SzYd_p6SA7"
   },
   "source": []
  },
  {
   "cell_type": "markdown",
   "metadata": {
    "colab_type": "text",
    "id": "ThHYGxeG0Ork"
   },
   "source": [
    "## Import the Libraries\n",
    "\n",
    "We will use some common libraries in this project.\n",
    "However, for the installation of Altair Library, please follow this [documentation](https://altair-viz.github.io/getting_started/installation.html)\n",
    "\n",
    "teset\n"
   ]
  },
  {
   "cell_type": "code",
   "execution_count": 6,
   "metadata": {
    "colab": {},
    "colab_type": "code",
    "id": "dzUNyIAN0Orl"
   },
   "outputs": [],
   "source": [
    "import numpy as np\n",
    "import pandas as pd\n",
    "import matplotlib.pyplot as plt\n",
    "from statistics import mean \n",
    "import altair as alt # Library for drawing the Gantt Chart\n",
    "from math import sin, cos, sqrt, atan2, radians # Library for counting the distance between two points"
   ]
  },
  {
   "cell_type": "markdown",
   "metadata": {
    "colab_type": "text",
    "id": "xfvn5iR50Oro"
   },
   "source": [
    "## Import the Data\n",
    "\n",
    "In this project, we will used [NYC Taxi Trip Duration Dataset](https://www.kaggle.com/c/nyc-taxi-trip-duration) from Kaggle as the input parameters."
   ]
  },
  {
   "cell_type": "code",
   "execution_count": 8,
   "metadata": {
    "colab": {},
    "colab_type": "code",
    "id": "oD8ZU89f0Orp",
    "outputId": "3ecd4bc0-4757-4350-f832-f82e91ac2969",
    "scrolled": true
   },
   "outputs": [
    {
     "data": {
      "text/plain": [
       "(1458644, 11)"
      ]
     },
     "metadata": {},
     "output_type": "display_data"
    },
    {
     "data": {
      "text/html": [
       "<div>\n",
       "<style scoped>\n",
       "    .dataframe tbody tr th:only-of-type {\n",
       "        vertical-align: middle;\n",
       "    }\n",
       "\n",
       "    .dataframe tbody tr th {\n",
       "        vertical-align: top;\n",
       "    }\n",
       "\n",
       "    .dataframe thead th {\n",
       "        text-align: right;\n",
       "    }\n",
       "</style>\n",
       "<table border=\"1\" class=\"dataframe\">\n",
       "  <thead>\n",
       "    <tr style=\"text-align: right;\">\n",
       "      <th></th>\n",
       "      <th>id</th>\n",
       "      <th>vendor_id</th>\n",
       "      <th>pickup_datetime</th>\n",
       "      <th>dropoff_datetime</th>\n",
       "      <th>passenger_count</th>\n",
       "      <th>pickup_longitude</th>\n",
       "      <th>pickup_latitude</th>\n",
       "      <th>dropoff_longitude</th>\n",
       "      <th>dropoff_latitude</th>\n",
       "      <th>store_and_fwd_flag</th>\n",
       "      <th>trip_duration</th>\n",
       "    </tr>\n",
       "  </thead>\n",
       "  <tbody>\n",
       "    <tr>\n",
       "      <th>0</th>\n",
       "      <td>id2875421</td>\n",
       "      <td>2</td>\n",
       "      <td>2016-03-14 17:24:55</td>\n",
       "      <td>2016-03-14 17:32:30</td>\n",
       "      <td>1</td>\n",
       "      <td>-73.982155</td>\n",
       "      <td>40.767937</td>\n",
       "      <td>-73.964630</td>\n",
       "      <td>40.765602</td>\n",
       "      <td>N</td>\n",
       "      <td>455</td>\n",
       "    </tr>\n",
       "    <tr>\n",
       "      <th>1</th>\n",
       "      <td>id2377394</td>\n",
       "      <td>1</td>\n",
       "      <td>2016-06-12 00:43:35</td>\n",
       "      <td>2016-06-12 00:54:38</td>\n",
       "      <td>1</td>\n",
       "      <td>-73.980415</td>\n",
       "      <td>40.738564</td>\n",
       "      <td>-73.999481</td>\n",
       "      <td>40.731152</td>\n",
       "      <td>N</td>\n",
       "      <td>663</td>\n",
       "    </tr>\n",
       "    <tr>\n",
       "      <th>2</th>\n",
       "      <td>id3858529</td>\n",
       "      <td>2</td>\n",
       "      <td>2016-01-19 11:35:24</td>\n",
       "      <td>2016-01-19 12:10:48</td>\n",
       "      <td>1</td>\n",
       "      <td>-73.979027</td>\n",
       "      <td>40.763939</td>\n",
       "      <td>-74.005333</td>\n",
       "      <td>40.710087</td>\n",
       "      <td>N</td>\n",
       "      <td>2124</td>\n",
       "    </tr>\n",
       "    <tr>\n",
       "      <th>3</th>\n",
       "      <td>id3504673</td>\n",
       "      <td>2</td>\n",
       "      <td>2016-04-06 19:32:31</td>\n",
       "      <td>2016-04-06 19:39:40</td>\n",
       "      <td>1</td>\n",
       "      <td>-74.010040</td>\n",
       "      <td>40.719971</td>\n",
       "      <td>-74.012268</td>\n",
       "      <td>40.706718</td>\n",
       "      <td>N</td>\n",
       "      <td>429</td>\n",
       "    </tr>\n",
       "    <tr>\n",
       "      <th>4</th>\n",
       "      <td>id2181028</td>\n",
       "      <td>2</td>\n",
       "      <td>2016-03-26 13:30:55</td>\n",
       "      <td>2016-03-26 13:38:10</td>\n",
       "      <td>1</td>\n",
       "      <td>-73.973053</td>\n",
       "      <td>40.793209</td>\n",
       "      <td>-73.972923</td>\n",
       "      <td>40.782520</td>\n",
       "      <td>N</td>\n",
       "      <td>435</td>\n",
       "    </tr>\n",
       "  </tbody>\n",
       "</table>\n",
       "</div>"
      ],
      "text/plain": [
       "          id  vendor_id      pickup_datetime     dropoff_datetime  \\\n",
       "0  id2875421          2  2016-03-14 17:24:55  2016-03-14 17:32:30   \n",
       "1  id2377394          1  2016-06-12 00:43:35  2016-06-12 00:54:38   \n",
       "2  id3858529          2  2016-01-19 11:35:24  2016-01-19 12:10:48   \n",
       "3  id3504673          2  2016-04-06 19:32:31  2016-04-06 19:39:40   \n",
       "4  id2181028          2  2016-03-26 13:30:55  2016-03-26 13:38:10   \n",
       "\n",
       "   passenger_count  pickup_longitude  pickup_latitude  dropoff_longitude  \\\n",
       "0                1        -73.982155        40.767937         -73.964630   \n",
       "1                1        -73.980415        40.738564         -73.999481   \n",
       "2                1        -73.979027        40.763939         -74.005333   \n",
       "3                1        -74.010040        40.719971         -74.012268   \n",
       "4                1        -73.973053        40.793209         -73.972923   \n",
       "\n",
       "   dropoff_latitude store_and_fwd_flag  trip_duration  \n",
       "0         40.765602                  N            455  \n",
       "1         40.731152                  N            663  \n",
       "2         40.710087                  N           2124  \n",
       "3         40.706718                  N            429  \n",
       "4         40.782520                  N            435  "
      ]
     },
     "execution_count": 8,
     "metadata": {},
     "output_type": "execute_result"
    }
   ],
   "source": [
    "df = pd.read_csv(\"nyc-taxi-trip-duration/train.csv\")\n",
    "display(df.shape)\n",
    "df.head()"
   ]
  },
  {
   "cell_type": "markdown",
   "metadata": {
    "colab_type": "text",
    "id": "EW8qt-rQ0Ors"
   },
   "source": [
    "Before we start, we need to set the 6 survey's location and the headquarter's location"
   ]
  },
  {
   "cell_type": "code",
   "execution_count": 9,
   "metadata": {
    "colab": {},
    "colab_type": "code",
    "id": "Qfo_BZiJ0Ort"
   },
   "outputs": [],
   "source": [
    "# As the Headquarter\n",
    "wall_street_location = [40.70729,-74.01095]\n",
    "\n",
    "# 6 Survey's location and the headquarter location\n",
    "all_location = [[40.73,-74.05],[40.665,-73.795],[40.77,-73.995],[40.74,-73.99],[40.695,-73.95],[40.767,-73.875],[40.70729,-74.01095]]\n",
    "\n",
    "# Give the lebel of the \n",
    "all_location_label = [\"1\",\"2\",\"3\",\"4\",\"5\",\"6\",\"HQ\"]\n",
    "\n",
    "dict_location = dict(zip(all_location_label, all_location))\n"
   ]
  },
  {
   "cell_type": "code",
   "execution_count": 10,
   "metadata": {
    "colab": {},
    "colab_type": "code",
    "id": "E9GgwvDm0Orv"
   },
   "outputs": [],
   "source": [
    "# This function is used to get the distance between the first and second latitude and longitude positition\n",
    "def get_distance_between_points(lat1,lon1,lat2,lon2): \n",
    " \n",
    "    # approximate radius of earth in km\n",
    "    R = 6378.0\n",
    "    lat1 = radians(lat1)\n",
    "    lon1 = radians(lon1)\n",
    "    lat2 = radians(lat2)\n",
    "    lon2 = radians(lon2)\n",
    "    \n",
    "    dlon = lon2 - lon1\n",
    "    dlat = lat2 - lat1\n",
    "\n",
    "    a = sin(dlat / 2)**2 + cos(lat1) * cos(lat2) * sin(dlon / 2)**2\n",
    "    c = 2 * atan2(sqrt(a), sqrt(1 - a))\n",
    "\n",
    "    distance = R * c\n",
    "    return distance"
   ]
  },
  {
   "cell_type": "code",
   "execution_count": 13,
   "metadata": {},
   "outputs": [
    {
     "data": {
      "text/plain": [
       "1458644"
      ]
     },
     "execution_count": 13,
     "metadata": {},
     "output_type": "execute_result"
    }
   ],
   "source": [
    "len(np.vectorize(get_distance_between_points)(wall_street_location[0],wall_street_location[1],df['dropoff_latitude'], df['dropoff_longitude']))\n"
   ]
  },
  {
   "cell_type": "code",
   "execution_count": 12,
   "metadata": {
    "colab": {},
    "colab_type": "code",
    "id": "ln54UlRG0Orx"
   },
   "outputs": [],
   "source": [
    "\n",
    "df['dist_pickup_to_wall_street'] = np.vectorize(get_distance_between_points)(wall_street_location[0],wall_street_location[1],df['pickup_latitude'], df['pickup_longitude'])\n",
    "\n",
    "# calculate the distance between the location of wall street to others point in the dataset.\n",
    "df['dist_pickup_to_dropoff'] = np.vectorize(get_distance_between_points)(df['dropoff_latitude'],df['dropoff_longitude'],df['pickup_latitude'], df['pickup_longitude'])\n"
   ]
  },
  {
   "cell_type": "code",
   "execution_count": 0,
   "metadata": {
    "colab": {},
    "colab_type": "code",
    "id": "MBu6m62p0Ory",
    "outputId": "b60f28d2-d3fc-4c3c-8368-161687bb794e"
   },
   "outputs": [
    {
     "data": {
      "text/plain": [
       "<matplotlib.axes._subplots.AxesSubplot at 0x12267bb70>"
      ]
     },
     "execution_count": 6,
     "metadata": {
      "tags": []
     },
     "output_type": "execute_result"
    },
    {
     "data": {
      "image/png": "[encoded data removed]",
      "text/plain": [
       "<Figure size 432x288 with 1 Axes>"
      ]
     },
     "metadata": {
      "needs_background": "light",
      "tags": []
     },
     "output_type": "display_data"
    }
   ],
   "source": [
    "df.boxplot()"
   ]
  },
  {
   "cell_type": "code",
   "execution_count": 0,
   "metadata": {
    "colab": {},
    "colab_type": "code",
    "id": "EQUdHKWY0Or0",
    "outputId": "f60e1ebc-8629-4aa3-db02-463c07bff627"
   },
   "outputs": [
    {
     "data": {
      "text/html": [
       "<div>\n",
       "<style scoped>\n",
       "    .dataframe tbody tr th:only-of-type {\n",
       "        vertical-align: middle;\n",
       "    }\n",
       "\n",
       "    .dataframe tbody tr th {\n",
       "        vertical-align: top;\n",
       "    }\n",
       "\n",
       "    .dataframe thead th {\n",
       "        text-align: right;\n",
       "    }\n",
       "</style>\n",
       "<table border=\"1\" class=\"dataframe\">\n",
       "  <thead>\n",
       "    <tr style=\"text-align: right;\">\n",
       "      <th></th>\n",
       "      <th>id</th>\n",
       "      <th>vendor_id</th>\n",
       "      <th>pickup_datetime</th>\n",
       "      <th>dropoff_datetime</th>\n",
       "      <th>passenger_count</th>\n",
       "      <th>pickup_longitude</th>\n",
       "      <th>pickup_latitude</th>\n",
       "      <th>dropoff_longitude</th>\n",
       "      <th>dropoff_latitude</th>\n",
       "      <th>store_and_fwd_flag</th>\n",
       "      <th>trip_duration</th>\n",
       "      <th>dist_pickup_to_wall_street</th>\n",
       "      <th>dist_pickup_to_dropoff</th>\n",
       "    </tr>\n",
       "  </thead>\n",
       "  <tbody>\n",
       "    <tr>\n",
       "      <th>0</th>\n",
       "      <td>id2875421</td>\n",
       "      <td>2</td>\n",
       "      <td>2016-03-14 17:24:55</td>\n",
       "      <td>2016-03-14 17:32:30</td>\n",
       "      <td>1</td>\n",
       "      <td>-73.982155</td>\n",
       "      <td>40.767937</td>\n",
       "      <td>-73.964630</td>\n",
       "      <td>40.765602</td>\n",
       "      <td>N</td>\n",
       "      <td>455</td>\n",
       "      <td>7.174609</td>\n",
       "      <td>1.500167</td>\n",
       "    </tr>\n",
       "    <tr>\n",
       "      <th>1</th>\n",
       "      <td>id2377394</td>\n",
       "      <td>1</td>\n",
       "      <td>2016-06-12 00:43:35</td>\n",
       "      <td>2016-06-12 00:54:38</td>\n",
       "      <td>1</td>\n",
       "      <td>-73.980415</td>\n",
       "      <td>40.738564</td>\n",
       "      <td>-73.999481</td>\n",
       "      <td>40.731152</td>\n",
       "      <td>N</td>\n",
       "      <td>663</td>\n",
       "      <td>4.330734</td>\n",
       "      <td>1.807491</td>\n",
       "    </tr>\n",
       "    <tr>\n",
       "      <th>2</th>\n",
       "      <td>id3858529</td>\n",
       "      <td>2</td>\n",
       "      <td>2016-01-19 11:35:24</td>\n",
       "      <td>2016-01-19 12:10:48</td>\n",
       "      <td>1</td>\n",
       "      <td>-73.979027</td>\n",
       "      <td>40.763939</td>\n",
       "      <td>-74.005333</td>\n",
       "      <td>40.710087</td>\n",
       "      <td>N</td>\n",
       "      <td>2124</td>\n",
       "      <td>6.856819</td>\n",
       "      <td>6.392114</td>\n",
       "    </tr>\n",
       "    <tr>\n",
       "      <th>3</th>\n",
       "      <td>id3504673</td>\n",
       "      <td>2</td>\n",
       "      <td>2016-04-06 19:32:31</td>\n",
       "      <td>2016-04-06 19:39:40</td>\n",
       "      <td>1</td>\n",
       "      <td>-74.010040</td>\n",
       "      <td>40.719971</td>\n",
       "      <td>-74.012268</td>\n",
       "      <td>40.706718</td>\n",
       "      <td>N</td>\n",
       "      <td>429</td>\n",
       "      <td>1.413665</td>\n",
       "      <td>1.487131</td>\n",
       "    </tr>\n",
       "    <tr>\n",
       "      <th>4</th>\n",
       "      <td>id2181028</td>\n",
       "      <td>2</td>\n",
       "      <td>2016-03-26 13:30:55</td>\n",
       "      <td>2016-03-26 13:38:10</td>\n",
       "      <td>1</td>\n",
       "      <td>-73.973053</td>\n",
       "      <td>40.793209</td>\n",
       "      <td>-73.972923</td>\n",
       "      <td>40.782520</td>\n",
       "      <td>N</td>\n",
       "      <td>435</td>\n",
       "      <td>10.084072</td>\n",
       "      <td>1.189894</td>\n",
       "    </tr>\n",
       "  </tbody>\n",
       "</table>\n",
       "</div>"
      ],
      "text/plain": [
       "          id  vendor_id      pickup_datetime     dropoff_datetime  \\\n",
       "0  id2875421          2  2016-03-14 17:24:55  2016-03-14 17:32:30   \n",
       "1  id2377394          1  2016-06-12 00:43:35  2016-06-12 00:54:38   \n",
       "2  id3858529          2  2016-01-19 11:35:24  2016-01-19 12:10:48   \n",
       "3  id3504673          2  2016-04-06 19:32:31  2016-04-06 19:39:40   \n",
       "4  id2181028          2  2016-03-26 13:30:55  2016-03-26 13:38:10   \n",
       "\n",
       "   passenger_count  pickup_longitude  pickup_latitude  dropoff_longitude  \\\n",
       "0                1        -73.982155        40.767937         -73.964630   \n",
       "1                1        -73.980415        40.738564         -73.999481   \n",
       "2                1        -73.979027        40.763939         -74.005333   \n",
       "3                1        -74.010040        40.719971         -74.012268   \n",
       "4                1        -73.973053        40.793209         -73.972923   \n",
       "\n",
       "   dropoff_latitude store_and_fwd_flag  trip_duration  \\\n",
       "0         40.765602                  N            455   \n",
       "1         40.731152                  N            663   \n",
       "2         40.710087                  N           2124   \n",
       "3         40.706718                  N            429   \n",
       "4         40.782520                  N            435   \n",
       "\n",
       "   dist_pickup_to_wall_street  dist_pickup_to_dropoff  \n",
       "0                    7.174609                1.500167  \n",
       "1                    4.330734                1.807491  \n",
       "2                    6.856819                6.392114  \n",
       "3                    1.413665                1.487131  \n",
       "4                   10.084072                1.189894  "
      ]
     },
     "execution_count": 6,
     "metadata": {
      "tags": []
     },
     "output_type": "execute_result"
    }
   ],
   "source": [
    "df.head()"
   ]
  },
  {
   "cell_type": "code",
   "execution_count": 0,
   "metadata": {
    "colab": {},
    "colab_type": "code",
    "id": "C6etb4go0Or3"
   },
   "outputs": [],
   "source": [
    "# df['dropoff_time'] = pd.to_datetime(df['dropoff_datetime'])\n",
    "# df['pickup_time'] = pd.to_datetime(df['pickup_datetime'])"
   ]
  },
  {
   "cell_type": "code",
   "execution_count": 0,
   "metadata": {
    "colab": {},
    "colab_type": "code",
    "id": "ohPuZyiR0Or5"
   },
   "outputs": [],
   "source": [
    "# df['temp_time_duration'] = df['dropoff_time'] - df['pickup_time']"
   ]
  },
  {
   "cell_type": "code",
   "execution_count": 0,
   "metadata": {
    "colab": {},
    "colab_type": "code",
    "id": "21dE3Me00Or7"
   },
   "outputs": [],
   "source": [
    "# df['temp_time_duration_mins'] = df['temp_time_duration'] / np.timedelta64(1,'s')"
   ]
  },
  {
   "cell_type": "code",
   "execution_count": 0,
   "metadata": {
    "colab": {},
    "colab_type": "code",
    "id": "HjisPO4U0Or9"
   },
   "outputs": [],
   "source": [
    "# df.loc[df['temp_time_duration_mins'] - df['trip_duration']>0]"
   ]
  },
  {
   "cell_type": "code",
   "execution_count": 0,
   "metadata": {
    "colab": {},
    "colab_type": "code",
    "id": "rWl_alPJ0Or_"
   },
   "outputs": [],
   "source": [
    "# plt.figure(figsize=(20,10))\n",
    "# df.boxplot()"
   ]
  },
  {
   "cell_type": "markdown",
   "metadata": {
    "colab_type": "text",
    "id": "cTaZb8130OsB"
   },
   "source": [
    "In order to extract the most relevant information from the\n",
    "dataset for our purpose, we create a filtered dataset, in\n",
    "which either the pick-up or drop-off location lies within\n",
    "500 m from Wall Street (indicated by the red oval in Fig.\n",
    "3(b)). In addition, we filter trips with unrealistically long\n",
    "durations (>20 000 s)."
   ]
  },
  {
   "cell_type": "code",
   "execution_count": 0,
   "metadata": {
    "colab": {},
    "colab_type": "code",
    "id": "KsKFHJdM0OsB",
    "outputId": "5464f72e-a022-47f9-f525-eae8747d225e"
   },
   "outputs": [
    {
     "data": {
      "text/plain": [
       "(20535, 13)"
      ]
     },
     "execution_count": 12,
     "metadata": {
      "tags": []
     },
     "output_type": "execute_result"
    }
   ],
   "source": [
    "df_wall = df[( df['dist_pickup_to_wall_street'] <= 0.5)& (df['trip_duration'] < 20000)]\n",
    "df_wall.shape\n",
    "\n"
   ]
  },
  {
   "cell_type": "code",
   "execution_count": 0,
   "metadata": {
    "colab": {},
    "colab_type": "code",
    "id": "5yWRPWs30OsD",
    "outputId": "4dddb24c-1ea3-40fd-e102-b50f9b3cc97e"
   },
   "outputs": [
    {
     "data": {
      "text/plain": [
       "<matplotlib.axes._subplots.AxesSubplot at 0x11b356ef0>"
      ]
     },
     "execution_count": 13,
     "metadata": {
      "tags": []
     },
     "output_type": "execute_result"
    },
    {
     "data": {
      "image/png": "[encoded data removed]",
      "text/plain": [
       "<Figure size 1440x720 with 1 Axes>"
      ]
     },
     "metadata": {
      "needs_background": "light",
      "tags": []
     },
     "output_type": "display_data"
    }
   ],
   "source": [
    "plt.figure(figsize=(20,10))\n",
    "df_wall.boxplot()"
   ]
  },
  {
   "cell_type": "markdown",
   "metadata": {
    "colab_type": "text",
    "id": "5isLVLTO0OsF"
   },
   "source": [
    "### Choosing the prediction model\n",
    "\n",
    "simply use 5 different prediction algorithm as the model, and compare its performance."
   ]
  },
  {
   "cell_type": "markdown",
   "metadata": {
    "colab_type": "text",
    "id": "VJ3KkIk50OsG"
   },
   "source": [
    "From this data, we will only use its location (dropoff_longitude and dropoff_latitude) and distance from the HQ to predict the trip duration."
   ]
  },
  {
   "cell_type": "code",
   "execution_count": 0,
   "metadata": {
    "colab": {},
    "colab_type": "code",
    "id": "a6hkH_9q0OsG"
   },
   "outputs": [],
   "source": [
    " \n",
    "temp_df = df_wall[['dropoff_latitude','dropoff_longitude','dist_pickup_to_dropoff','trip_duration']].copy()\n",
    "\n",
    "# Declare the model\n",
    "from sklearn.tree import DecisionTreeRegressor\n",
    "from sklearn.ensemble import RandomForestRegressor\n",
    "from sklearn.linear_model import LinearRegression\n",
    "from sklearn.ensemble import BaggingRegressor\n",
    "from sklearn import model_selection\n",
    "from sklearn.model_selection import train_test_split\n",
    "experiments = {\"Algorithm\":[\"Ordinary Least Squares\", \"Regression Tree\", \n",
    "                            \"Big Random Forest\", \"Random Forest\", \n",
    "                            \"Bagging\"], \n",
    "               \"Objects\" : [lambda : LinearRegression(), \n",
    "                            lambda : DecisionTreeRegressor(), \n",
    "                            lambda : RandomForestRegressor(n_estimators=100), \n",
    "                            lambda : RandomForestRegressor(), \n",
    "                            lambda : BaggingRegressor()], \n",
    "               \"Predictions\":[[] for _ in range(5)]}\n",
    "actuals = []"
   ]
  },
  {
   "cell_type": "code",
   "execution_count": 0,
   "metadata": {
    "colab": {},
    "colab_type": "code",
    "id": "7DDoNdx80OsI",
    "outputId": "eecbf553-868e-4c7d-9bda-359560e5ce87"
   },
   "outputs": [
    {
     "name": "stderr",
     "output_type": "stream",
     "text": [
      "/Users/lilianaester/anaconda3/lib/python3.7/site-packages/sklearn/ensemble/forest.py:245: FutureWarning: The default value of n_estimators will change from 10 in version 0.20 to 100 in 0.22.\n",
      "  \"10 in version 0.20 to 100 in 0.22.\", FutureWarning)\n",
      "/Users/lilianaester/anaconda3/lib/python3.7/site-packages/sklearn/ensemble/forest.py:245: FutureWarning: The default value of n_estimators will change from 10 in version 0.20 to 100 in 0.22.\n",
      "  \"10 in version 0.20 to 100 in 0.22.\", FutureWarning)\n",
      "/Users/lilianaester/anaconda3/lib/python3.7/site-packages/sklearn/ensemble/forest.py:245: FutureWarning: The default value of n_estimators will change from 10 in version 0.20 to 100 in 0.22.\n",
      "  \"10 in version 0.20 to 100 in 0.22.\", FutureWarning)\n",
      "/Users/lilianaester/anaconda3/lib/python3.7/site-packages/sklearn/ensemble/forest.py:245: FutureWarning: The default value of n_estimators will change from 10 in version 0.20 to 100 in 0.22.\n",
      "  \"10 in version 0.20 to 100 in 0.22.\", FutureWarning)\n",
      "/Users/lilianaester/anaconda3/lib/python3.7/site-packages/sklearn/ensemble/forest.py:245: FutureWarning: The default value of n_estimators will change from 10 in version 0.20 to 100 in 0.22.\n",
      "  \"10 in version 0.20 to 100 in 0.22.\", FutureWarning)\n",
      "/Users/lilianaester/anaconda3/lib/python3.7/site-packages/sklearn/ensemble/forest.py:245: FutureWarning: The default value of n_estimators will change from 10 in version 0.20 to 100 in 0.22.\n",
      "  \"10 in version 0.20 to 100 in 0.22.\", FutureWarning)\n",
      "/Users/lilianaester/anaconda3/lib/python3.7/site-packages/sklearn/ensemble/forest.py:245: FutureWarning: The default value of n_estimators will change from 10 in version 0.20 to 100 in 0.22.\n",
      "  \"10 in version 0.20 to 100 in 0.22.\", FutureWarning)\n",
      "/Users/lilianaester/anaconda3/lib/python3.7/site-packages/sklearn/ensemble/forest.py:245: FutureWarning: The default value of n_estimators will change from 10 in version 0.20 to 100 in 0.22.\n",
      "  \"10 in version 0.20 to 100 in 0.22.\", FutureWarning)\n",
      "/Users/lilianaester/anaconda3/lib/python3.7/site-packages/sklearn/ensemble/forest.py:245: FutureWarning: The default value of n_estimators will change from 10 in version 0.20 to 100 in 0.22.\n",
      "  \"10 in version 0.20 to 100 in 0.22.\", FutureWarning)\n"
     ]
    },
    {
     "data": {
      "text/html": [
       "<div>\n",
       "<style scoped>\n",
       "    .dataframe tbody tr th:only-of-type {\n",
       "        vertical-align: middle;\n",
       "    }\n",
       "\n",
       "    .dataframe tbody tr th {\n",
       "        vertical-align: top;\n",
       "    }\n",
       "\n",
       "    .dataframe thead th {\n",
       "        text-align: right;\n",
       "    }\n",
       "</style>\n",
       "<table border=\"1\" class=\"dataframe\">\n",
       "  <thead>\n",
       "    <tr style=\"text-align: right;\">\n",
       "      <th></th>\n",
       "      <th>Results</th>\n",
       "    </tr>\n",
       "    <tr>\n",
       "      <th>Algorithm</th>\n",
       "      <th></th>\n",
       "    </tr>\n",
       "  </thead>\n",
       "  <tbody>\n",
       "    <tr>\n",
       "      <th>Ordinary Least Squares</th>\n",
       "      <td>0.514720</td>\n",
       "    </tr>\n",
       "    <tr>\n",
       "      <th>Regression Tree</th>\n",
       "      <td>0.176965</td>\n",
       "    </tr>\n",
       "    <tr>\n",
       "      <th>Big Random Forest</th>\n",
       "      <td>0.530713</td>\n",
       "    </tr>\n",
       "    <tr>\n",
       "      <th>Random Forest</th>\n",
       "      <td>0.497428</td>\n",
       "    </tr>\n",
       "    <tr>\n",
       "      <th>Bagging</th>\n",
       "      <td>0.494900</td>\n",
       "    </tr>\n",
       "  </tbody>\n",
       "</table>\n",
       "</div>"
      ],
      "text/plain": [
       "                         Results\n",
       "Algorithm                       \n",
       "Ordinary Least Squares  0.514720\n",
       "Regression Tree         0.176965\n",
       "Big Random Forest       0.530713\n",
       "Random Forest           0.497428\n",
       "Bagging                 0.494900"
      ]
     },
     "execution_count": 15,
     "metadata": {
      "tags": []
     },
     "output_type": "execute_result"
    }
   ],
   "source": [
    "# run the 5 differenet algorithm and compare the result\n",
    "\n",
    "for _ in range (4):\n",
    "    train_X, test_X, train_y, test_y = (\n",
    "        train_test_split(temp_df.drop(\"trip_duration\", axis=1), \n",
    "                         temp_df[\"trip_duration\"], test_size=0.33))\n",
    "    for i, obj_factory in enumerate(experiments[\"Objects\"]):\n",
    "        obj = obj_factory()\n",
    "        obj.fit(y=train_y,X=train_X)\n",
    "        experiments[\"Predictions\"][i] += list(obj.predict(test_X))\n",
    "    actuals += list(test_y)\n",
    "actuals = pd.Series(actuals)\n",
    "experiments[\"Predictions\"] = list(map(pd.Series, experiments[\"Predictions\"]))\n",
    "\n",
    "# Get the performance of every model\n",
    "experiments[\"Results\"] = []\n",
    "for o in experiments[\"Objects\"]:\n",
    "    experiments[\"Results\"].append(\n",
    "        model_selection.cross_val_score(o(), y=temp_df['trip_duration'], \n",
    "                                        X=temp_df.drop(\"trip_duration\", axis=1),\n",
    "                                        cv=5).mean())\n",
    "\n",
    "pd.DataFrame(experiments).drop([\"Objects\", \"Predictions\"], \n",
    "                            axis=1).set_index(\"Algorithm\")"
   ]
  },
  {
   "cell_type": "markdown",
   "metadata": {
    "colab_type": "text",
    "id": "BGnI0bWH0OsJ"
   },
   "source": [
    "Big random forest performance very well compare to the other. So, in this case, we will use big random forest as the algorithm for predicting trip duration. To easily re-produce the model, it is important to create the model in a function."
   ]
  },
  {
   "cell_type": "code",
   "execution_count": 0,
   "metadata": {
    "colab": {},
    "colab_type": "code",
    "id": "R52mnFTn0OsK"
   },
   "outputs": [],
   "source": [
    "def create_model(df, HQ_location,sites_dictionary):\n",
    "    '''\n",
    "    parameter : \n",
    "        - df = the training dataframe\n",
    "        - HQ_location = the headquarter\n",
    "        - sites_dictionary = all location sites + HQ location\n",
    "    '''\n",
    "    train_X, test_X, train_y, test_y = ( train_test_split(df.drop(\"trip_duration\", axis=1), \n",
    "                             df[\"trip_duration\"], test_size=0.33))\n",
    "\n",
    "    obj = RandomForestRegressor(n_estimators=100)\n",
    "    obj.fit(y=train_y,X=train_X)\n",
    "#     obj.predict(test_X)\n",
    "    \n",
    "#     print(\"Cross val score : \",model_selection.cross_val_score(obj, y=df['trip_duration'], \n",
    "#                                             X=df.drop(\"trip_duration\", axis=1),\n",
    "#                                             cv=5).mean())\n",
    "#     obj.predict(df.drop(\"trip_duration\", axis=1))\n",
    "\n",
    "    ## CREATE THE SAMPLE FOR THE MODEL\n",
    "    sample_lat = []\n",
    "    sample_lng = []\n",
    "    sample_distance = []\n",
    "\n",
    "    for k,v in sites_dictionary.items():\n",
    "        sample_lat.append(v[0])\n",
    "        sample_lng.append(v[1])\n",
    "        sample_distance.append(get_distance_between_points(HQ_location[0],HQ_location[1],v[0],v[1]))\n",
    "        \n",
    "    \n",
    "    d = {\n",
    "    'dropoff_latitude' : sample_lat,\n",
    "    'dropoff_longitude' : sample_lng,\n",
    "    'dist_pickup_to_dropoff': sample_distance\n",
    "    }\n",
    "    \n",
    "    temp_pred_df = pd.DataFrame(d)  \n",
    "    \n",
    "    temp_pred_df['predicted_duration'] = obj.predict(temp_pred_df)\n",
    "    return temp_pred_df"
   ]
  },
  {
   "cell_type": "code",
   "execution_count": 0,
   "metadata": {
    "colab": {},
    "colab_type": "code",
    "id": "YDc0diyO0OsM"
   },
   "outputs": [],
   "source": [
    "def get_location_names(lat,lng):\n",
    "    for k,v in dict_location.items():\n",
    "        if  (v[0] == lat) & (v[1] == lng) :\n",
    "            return k\n",
    "        "
   ]
  },
  {
   "cell_type": "code",
   "execution_count": 0,
   "metadata": {
    "colab": {},
    "colab_type": "code",
    "id": "2BsU-9Fm0OsP",
    "outputId": "7500791a-12a5-4d8f-a83c-a608dc200c42"
   },
   "outputs": [
    {
     "data": {
      "text/html": [
       "<div>\n",
       "<style scoped>\n",
       "    .dataframe tbody tr th:only-of-type {\n",
       "        vertical-align: middle;\n",
       "    }\n",
       "\n",
       "    .dataframe tbody tr th {\n",
       "        vertical-align: top;\n",
       "    }\n",
       "\n",
       "    .dataframe thead th {\n",
       "        text-align: right;\n",
       "    }\n",
       "</style>\n",
       "<table border=\"1\" class=\"dataframe\">\n",
       "  <thead>\n",
       "    <tr style=\"text-align: right;\">\n",
       "      <th></th>\n",
       "      <th>dropoff_latitude</th>\n",
       "      <th>dropoff_longitude</th>\n",
       "      <th>dist_pickup_to_dropoff</th>\n",
       "      <th>predicted_duration</th>\n",
       "    </tr>\n",
       "  </thead>\n",
       "  <tbody>\n",
       "    <tr>\n",
       "      <th>0</th>\n",
       "      <td>40.73000</td>\n",
       "      <td>-74.05000</td>\n",
       "      <td>0.000000</td>\n",
       "      <td>708.118333</td>\n",
       "    </tr>\n",
       "    <tr>\n",
       "      <th>1</th>\n",
       "      <td>40.66500</td>\n",
       "      <td>-73.79500</td>\n",
       "      <td>22.704878</td>\n",
       "      <td>2797.340000</td>\n",
       "    </tr>\n",
       "    <tr>\n",
       "      <th>2</th>\n",
       "      <td>40.77000</td>\n",
       "      <td>-73.99500</td>\n",
       "      <td>6.429525</td>\n",
       "      <td>1386.600000</td>\n",
       "    </tr>\n",
       "    <tr>\n",
       "      <th>3</th>\n",
       "      <td>40.74000</td>\n",
       "      <td>-73.99000</td>\n",
       "      <td>5.181914</td>\n",
       "      <td>1626.230000</td>\n",
       "    </tr>\n",
       "    <tr>\n",
       "      <th>4</th>\n",
       "      <td>40.69500</td>\n",
       "      <td>-73.95000</td>\n",
       "      <td>9.293823</td>\n",
       "      <td>1773.960000</td>\n",
       "    </tr>\n",
       "    <tr>\n",
       "      <th>5</th>\n",
       "      <td>40.76700</td>\n",
       "      <td>-73.87500</td>\n",
       "      <td>15.322028</td>\n",
       "      <td>2547.280000</td>\n",
       "    </tr>\n",
       "    <tr>\n",
       "      <th>6</th>\n",
       "      <td>40.70729</td>\n",
       "      <td>-74.01095</td>\n",
       "      <td>4.152766</td>\n",
       "      <td>1075.430000</td>\n",
       "    </tr>\n",
       "  </tbody>\n",
       "</table>\n",
       "</div>"
      ],
      "text/plain": [
       "   dropoff_latitude  dropoff_longitude  dist_pickup_to_dropoff  \\\n",
       "0          40.73000          -74.05000                0.000000   \n",
       "1          40.66500          -73.79500               22.704878   \n",
       "2          40.77000          -73.99500                6.429525   \n",
       "3          40.74000          -73.99000                5.181914   \n",
       "4          40.69500          -73.95000                9.293823   \n",
       "5          40.76700          -73.87500               15.322028   \n",
       "6          40.70729          -74.01095                4.152766   \n",
       "\n",
       "   predicted_duration  \n",
       "0          708.118333  \n",
       "1         2797.340000  \n",
       "2         1386.600000  \n",
       "3         1626.230000  \n",
       "4         1773.960000  \n",
       "5         2547.280000  \n",
       "6         1075.430000  "
      ]
     },
     "execution_count": 18,
     "metadata": {
      "tags": []
     },
     "output_type": "execute_result"
    }
   ],
   "source": [
    "df1 = create_model(temp_df,dict_location[\"1\"], dict_location)\n",
    "df1"
   ]
  },
  {
   "cell_type": "code",
   "execution_count": 0,
   "metadata": {
    "colab": {},
    "colab_type": "code",
    "id": "nF-0ipy90OsS",
    "outputId": "4c530d51-82ff-4352-d6fc-e4d0b3ddb4a3"
   },
   "outputs": [
    {
     "name": "stdout",
     "output_type": "stream",
     "text": [
      "[931, 2701, 1322, 1489, 1761, 2232, 895]\n",
      "[2494, 621, 2979, 2191, 1979, 2255, 2194]\n",
      "[1964, 2858, 1319, 997, 1908, 2294, 1588]\n",
      "[3355, 2499, 970, 1409, 1253, 2121, 904]\n",
      "[1404, 2730, 1678, 1499, 1245, 1947, 1168]\n",
      "[2198, 2616, 1660, 1414, 1738, 1144, 2027]\n",
      "[943, 2525, 1326, 1213, 1087, 1790, 421]\n"
     ]
    }
   ],
   "source": [
    "prediction_list = []\n",
    "for i in dict_location:\n",
    "    tdf = create_model(temp_df,dict_location[str(i)], dict_location)\n",
    "    prediction_list.append(list(tdf['predicted_duration'].apply(lambda x : int(x))))\n",
    "    print(list(tdf['predicted_duration'].apply(lambda x : int(x))))"
   ]
  },
  {
   "cell_type": "code",
   "execution_count": 0,
   "metadata": {
    "colab": {},
    "colab_type": "code",
    "id": "pMQxAH6B0OsW",
    "outputId": "4231ef05-3f9f-420a-9fcd-8dc96c84e3c6"
   },
   "outputs": [
    {
     "data": {
      "text/plain": [
       "[[0, 2701, 1322, 1489, 1761, 2232, 895],\n",
       " [2494, 0, 2979, 2191, 1979, 2255, 2194],\n",
       " [1964, 2858, 0, 997, 1908, 2294, 1588],\n",
       " [3355, 2499, 970, 0, 1253, 2121, 904],\n",
       " [1404, 2730, 1678, 1499, 0, 1947, 1168],\n",
       " [2198, 2616, 1660, 1414, 1738, 0, 2027],\n",
       " [943, 2525, 1326, 1213, 1087, 1790, 0]]"
      ]
     },
     "execution_count": 20,
     "metadata": {
      "tags": []
     },
     "output_type": "execute_result"
    }
   ],
   "source": [
    "for i in range(len(prediction_list)):\n",
    "    prediction_list[i][i] = 0\n",
    "prediction_list\n"
   ]
  },
  {
   "cell_type": "code",
   "execution_count": 0,
   "metadata": {
    "colab": {},
    "colab_type": "code",
    "id": "C5swrC2v0OsY",
    "outputId": "910935d0-49f5-4b19-8198-cbe538d69ce9"
   },
   "outputs": [
    {
     "data": {
      "application/javascript": [
       "\"use strict\";\n",
       "\n",
       "CodeMirror.defineMode(\"text/minizinc\", function(config) {\n",
       "\n",
       "  var isOperatorChar = /[+\\-*=<>\\/]/;\n",
       "\n",
       "  var keywords = {\"array\":true,\n",
       "  \"bool\":true,\n",
       "  \"case\":true,\n",
       "  \"constraint\":true,\n",
       "  \"diff\":true,\n",
       "  \"div\":true,\n",
       "  \"else\":true,\n",
       "  \"elseif\":true,\n",
       "  \"endif\":true,\n",
       "  \"enum\":true,\n",
       "  \"false\":true,\n",
       "  \"float\":true,\n",
       "  \"function\":true,\n",
       "  \"if\":true,\n",
       "  \"in\":true,\n",
       "  \"include\":true,\n",
       "  \"int\":true,\n",
       "  \"intersect\":true,\n",
       "  \"let\":true,\n",
       "  \"list\":true,\n",
       "  \"maximize\":true,\n",
       "  \"minimize\":true,\n",
       "  \"mod\":true,\n",
       "  \"not\":true,\n",
       "  \"of\":true,\n",
       "  \"op\":true,\n",
       "  \"output\":true,\n",
       "  \"par\":true,\n",
       "  \"predicate\":true,\n",
       "  \"record\":true,\n",
       "  \"satisfy\":true,\n",
       "  \"set\":true,\n",
       "  \"solve\":true,\n",
       "  \"string\":true,\n",
       "  \"subset\":true,\n",
       "  \"superset\":true,\n",
       "  \"symdiff\":true,\n",
       "  \"test\":true,\n",
       "  \"then\":true,\n",
       "  \"true\":true,\n",
       "  \"tuple\":true,\n",
       "  \"type\":true,\n",
       "  \"union\":true,\n",
       "  \"var\":true,\n",
       "  \"where\":true,\n",
       "  \"xor\":true};\n",
       "\n",
       "  var punc = \":;,.(){}[]\";\n",
       "\n",
       "  function tokenBase(stream, state) {\n",
       "    var ch = stream.next();\n",
       "    if (ch == '\"') {\n",
       "      state.tokenize.push(tokenString);\n",
       "      return tokenString(stream, state);\n",
       "    }\n",
       "    if (/[\\d\\.]/.test(ch)) {\n",
       "      if (ch == \".\") {\n",
       "        stream.match(/^[0-9]+([eE][\\-+]?[0-9]+)?/);\n",
       "      } else if (ch == \"0\") {\n",
       "        stream.match(/^[xX][0-9a-fA-F]+/) || stream.match(/^0[0-7]+/);\n",
       "      } else {\n",
       "        stream.match(/^[0-9]*\\.?[0-9]*([eE][\\-+]?[0-9]+)?/);\n",
       "      }\n",
       "      return \"number\";\n",
       "    }\n",
       "    if (ch == \"/\") {\n",
       "      if (stream.eat(\"*\")) {\n",
       "        state.tokenize.push(tokenComment);\n",
       "        return tokenComment(stream, state);\n",
       "      }\n",
       "    }\n",
       "    if (ch == \"%\") {\n",
       "      stream.skipToEnd();\n",
       "      return \"comment\";\n",
       "    }\n",
       "    if (isOperatorChar.test(ch)) {\n",
       "      stream.eatWhile(isOperatorChar);\n",
       "      return \"operator\";\n",
       "    }\n",
       "    if (punc.indexOf(ch) > -1) {\n",
       "      return \"punctuation\";\n",
       "    }\n",
       "    stream.eatWhile(/[\\w\\$_\\xa1-\\uffff]/);\n",
       "    var cur = stream.current();\n",
       "    if (keywords.propertyIsEnumerable(cur)) {\n",
       "      return \"keyword\";\n",
       "    }\n",
       "    return \"variable\";\n",
       "  }\n",
       "\n",
       "  function tokenComment(stream, state) {\n",
       "    var maybeEnd = false, ch;\n",
       "    while (ch = stream.next()) {\n",
       "      if (ch == \"/\" && maybeEnd) {\n",
       "        state.tokenize.pop();\n",
       "        break;\n",
       "      }\n",
       "      maybeEnd = (ch == \"*\");\n",
       "    }\n",
       "    return \"comment\";\n",
       "  }\n",
       "\n",
       "  function tokenUntilClosingParen() {\n",
       "    var depth = 0;\n",
       "    return function(stream, state, prev) {\n",
       "      var inner = tokenBase(stream, state, prev);\n",
       "      console.log(\"untilClosing\",inner,stream.current());\n",
       "      if (inner == \"punctuation\") {\n",
       "        if (stream.current() == \"(\") {\n",
       "          ++depth;\n",
       "        } else if (stream.current() == \")\") {\n",
       "          if (depth == 0) {\n",
       "            stream.backUp(1)\n",
       "            state.tokenize.pop()\n",
       "            return state.tokenize[state.tokenize.length - 1](stream, state)\n",
       "          } else {\n",
       "            --depth;\n",
       "          }\n",
       "        }\n",
       "      }\n",
       "      return inner;\n",
       "    }\n",
       "  }\n",
       "\n",
       "  function tokenString(stream, state) {\n",
       "    var escaped = false, next, end = false;\n",
       "    while ((next = stream.next()) != null) {\n",
       "      if (next=='(' && escaped) {\n",
       "        state.tokenize.push(tokenUntilClosingParen());\n",
       "        return \"string\";\n",
       "      }\n",
       "      if (next == '\"' && !escaped) {end = true; break;}\n",
       "      escaped = !escaped && next == \"\\\\\";\n",
       "    }\n",
       "    if (end || !escaped)\n",
       "      state.tokenize.pop();\n",
       "    return \"string\";\n",
       "  }\n",
       "\n",
       "  return {\n",
       "    startState: function(basecolumn) {\n",
       "      return {\n",
       "        tokenize: []\n",
       "      };\n",
       "    },\n",
       "\n",
       "    token: function(stream, state) {\n",
       "      if (stream.eatSpace()) return null;\n",
       "      var style = (state.tokenize[state.tokenize.length - 1] || tokenBase)(stream, state);\n",
       "      console.log(\"token\",style);\n",
       "      return style;\n",
       "    },\n",
       "\n",
       "    blockCommentStart: \"/*\",\n",
       "    blockCommentEnd: \"*/\",\n",
       "    lineComment: \"%\"\n",
       "  };\n",
       "});\n",
       "\n",
       "CodeMirror.defineMIME(\"text/minizinc\", \"text/minizinc\");\n",
       "\n",
       "Jupyter.CodeCell.options_default.highlight_modes['magic_text/minizinc'] = {'reg':[/^%%minizinc/]} ;\n",
       "\n",
       "Jupyter.notebook.get_cells().map(function(cell){\n",
       "  if (cell.cell_type == 'code'){ cell.auto_highlight(); }\n",
       "}) ;\n"
      ],
      "text/plain": [
       "<IPython.core.display.Javascript object>"
      ]
     },
     "metadata": {
      "tags": []
     },
     "output_type": "display_data"
    },
    {
     "name": "stdout",
     "output_type": "stream",
     "text": [
      "MiniZinc to FlatZinc converter, version 2.3.0, build 68017672\n",
      "Copyright (C) 2014-2019 Monash University, NICTA, Data61\n"
     ]
    }
   ],
   "source": [
    "%load_ext iminizinc"
   ]
  },
  {
   "cell_type": "code",
   "execution_count": 0,
   "metadata": {
    "colab": {},
    "colab_type": "code",
    "id": "bLB4-faI0Osa"
   },
   "outputs": [],
   "source": [
    "# Data for Minizinc\n",
    "dist = prediction_list\n",
    "NumLocs= 7;\n",
    "surveyTime = 1800"
   ]
  },
  {
   "cell_type": "code",
   "execution_count": 0,
   "metadata": {
    "colab": {},
    "colab_type": "code",
    "id": "SdDCZ4ua0Osm"
   },
   "outputs": [],
   "source": [
    "%%mzn_model taxi_model\n",
    "%\n",
    "% Vehicle Routing Problem\n",
    "%\n",
    "\n",
    "% Location data\n",
    "\n",
    "% Locations\n",
    "int: NumLocs;\n",
    "set of int: Locations = 1..NumLocs;\n",
    "\n",
    "array [Locations, Locations] of int: dist;\n",
    "\n",
    "\n",
    "% Survey\n",
    "int: N = NumLocs - 1;\n",
    "\n",
    "% Vehicles\n",
    "int: NumRoutes = 4*N; % Worst Case \n",
    "set of int: Vehicles = 1..NumRoutes;  % One Vehicle for each Route\n",
    "\n",
    "% Survey Time\n",
    "% We assume that the amount of time it takes to do a survey is constant, e.g. 70000 seconds\n",
    "int: surveyTime;\n",
    "\n",
    "\n",
    "% =====================================\n",
    "% Model\n",
    "% =====================================\n",
    "\n",
    "include \"globals.mzn\";\n",
    "\n",
    "% Define sets of nodes\n",
    "\n",
    "% Survey locations have 2 states, a start and an end state\n",
    "set of int: ArriveSurvey = 1..N;\n",
    "set of int: LeaveSurvey = N+1..2*N;\n",
    "% 1..2*N represent survey nodes, anything greater is a Depot Node  \n",
    "% At the worst case, A taxi will visit all survey nodes\n",
    "set of int: TaxiStart1 = 2*N+1..4*N;  % All Starting Nodes for Taxi 1\n",
    "set of int: TaxiStart2  = 4*N+1..6*N; % All Starting Nodes for Taxi 2\n",
    "set of int: Taxi = 1..4*N; % All Taxis\n",
    "set of int: TaxiEnd1 = 6*N+1..8*N; % All Ending Nodes for Taxi 1\n",
    "set of int: TaxiEnd2 = 8*N+1..10*N; % All Ending Nodes for Taxi 2\n",
    "\n",
    "% All Nodes\n",
    "set of int: Visits = 1..max(TaxiEnd2);\n",
    "% All Survey Nodes plus Taxi Starting Nodes\n",
    "set of int: SurveyPlusStarts = 1..max(TaxiStart2);\n",
    "\n",
    "\n",
    "% Array of Distances between 2 points i and j\n",
    "% Extended array of distances, including the depot start/end nodes.\n",
    "array[Visits,Visits] of int: visit_dist = array2d(Visits,Visits,\n",
    "  [if i> 2 * N /\\ j > 2 * N then 0  % Distance between Depots\n",
    "   elseif i > 2 * N then dist[NumLocs,(j mod N) + 1] % Distance between Depots and Survey (i > Survey)\n",
    "   elseif j> 2 * N then dist[(i mod N)+1,NumLocs] % Distance between Survey and Depot (j > Survey)\n",
    "   elseif i + N = j then 0\n",
    "   elseif j + N = i then 0               % Distance between the same depots is 0\n",
    "   else dist[(i mod N)+1 ,(j mod N)+1] endif | i,j in Visits]); % Euclidean Distance for the rest\n",
    "\n",
    "% =====================================\n",
    "% Decision variables\n",
    "% =====================================\n",
    "\n",
    "% Successor representation\n",
    "array[Visits] of var Visits: successor;\n",
    "\n",
    "% Time (i-th element is the time when the taxi visits the i-th node)\n",
    "array[Visits] of var 0..infinity: time;\n",
    "% Time (i-th element is the time when the i-th survey starts)\n",
    "array[ArriveSurvey] of var 0..infinity: surveyStart;\n",
    "\n",
    "% Mapping from visits to route (vehicle) number\n",
    "array[Visits] of var Vehicles: routeOf;\n",
    "\n",
    "% Objective function:\n",
    "% Maximum time taken to complete all surveys\n",
    "var int: objective = max(time);\n",
    "\n",
    "% =====================================\n",
    "% Problem Constraints\n",
    "% =====================================\n",
    "\n",
    "% Route & Successor Constraints\n",
    "% =====================================\n",
    "\n",
    "% Assign each vehicle depot start node to its route\n",
    "constraint forall (k in Taxi) ( routeOf[2*N + k] = k);\n",
    "\n",
    "% Assign each vehicle depot end node to its route\n",
    "constraint forall (k in Taxi) ( routeOf[6*N + k] = k);\n",
    "\n",
    "% The successors form a circuit (grand tour representation)\n",
    "constraint circuit (successor) ::domain;\n",
    "\n",
    "% successor of an ending taxi node is the next starting taxi node, wraps around to first depot node\n",
    "constraint\n",
    "  forall (k in Taxi)\n",
    "    ( successor[6*N + k] = ( 2*N + 1 + (k mod NumRoutes) ) );\n",
    "\n",
    "% Successor of starting survey node can only be a depot node or an ending survey node\n",
    "constraint forall(k in ArriveSurvey)(successor[k] > N);\n",
    "% Sucessor of ending survey node can only be a depot node or a starting survey node\n",
    "constraint forall(k in LeaveSurvey)(successor[k] <= N \\/ successor[k] >= 2*N + 1);\n",
    "    \n",
    "% Link up the routeOf and successor variables:\n",
    "% Each visit is on the same route as its successor.\n",
    "% This is true for all survey and start visits, but not for the end visits.\n",
    "constraint forall (i in SurveyPlusStarts) ( routeOf[i] = routeOf[successor[i]] );\n",
    "\n",
    "\n",
    "% =====================================\n",
    "% Survey Constraints\n",
    "% =====================================\n",
    "\n",
    "% Survey i should start after or at the time the survey team reaches survey site i\n",
    "constraint forall(i in ArriveSurvey)(surveyStart[i] >= time[i]);\n",
    "% The time the taxi leaves from survey site i should be after 1800 seconds from the time the survey starts\n",
    "constraint forall(i in ArriveSurvey)(surveyStart[i] + surveyTime <= time[i + N]);\n",
    "\n",
    "% This constraint makes sure that at any given time, only 2 surveys maybe be done in parallel\n",
    "% It takes in an array of start times, the amount of time it takes to finish the survey, how many survey teams are used for that survey, and the maximum number of survey teams available\n",
    "constraint cumulative(surveyStart, [surveyTime | i in 1..N], [1 | i in 1..N], 2);\n",
    "\n",
    "% =====================================\n",
    "% Time Constraints\n",
    "% =====================================\n",
    "\n",
    "% Accumulate Time\n",
    "constraint forall(i in Visits where i != 4 * N - 1 /\\ i != 6 * N - 1)(time[successor[i]] >= time[i] + visit_dist[i, successor[i]]);\n",
    "\n",
    "% Starting Taxi times are 0, at 2n + 1 and 4n + 1\n",
    "constraint time[2 * N + 1] = 0;\n",
    "constraint time[4 * N + 1] = 0;\n",
    "\n",
    "% Ending Depot Time should be the same as the next Starting Depot Time, for each Taxi\n",
    "constraint forall(i in 1..2, j in 1..2*N-1)(time[6*N + j + (i-1)*N] = time[2*N + j + 1 + (i-1)*N]);\n",
    "  \n",
    "\n",
    "% =====================================\n",
    "% Symmetry breaking\n",
    "% =====================================\n",
    "\n",
    "% If the successor of the i-th starting taxi node is its ending taxi node, then the successor of \n",
    "% the (i+1)-th starting taxi node will also be its corresponding ending taxi node\n",
    "constraint forall(i in 1..2*N-1) (successor[2*N+i] = 6*N + i -> successor[2*N+i+1] = 6*N + i + 1);\n",
    "\n",
    "% =====================================\n",
    "% Solve and output\n",
    "% =====================================\n",
    "\n",
    "% We want to minimize the time taken to complete all surveys\n",
    "solve\n",
    "  :: int_search ( successor, dom_w_deg, indomain_min, complete)\n",
    "  minimize (objective);\n",
    "\n",
    "output\n",
    "[ \"objective = \", show(objective), \"\\n\" ] ++\n",
    "[ \"successor = \", show(successor), \";\\n\" ] ++\n",
    "[ \"routeOf = \", show(routeOf), \";\\n\"] \n",
    "++ [ \"time = \", show(time), \";\\n\"]\n",
    "++ [ \"surveyStart = \", show(surveyStart), \";\\n\"];"
   ]
  },
  {
   "cell_type": "code",
   "execution_count": 0,
   "metadata": {
    "colab": {},
    "colab_type": "code",
    "id": "5vC9xa2e0Oso",
    "outputId": "82e83ea7-f906-4cfa-eebd-f228f4468722"
   },
   "outputs": [
    {
     "name": "stdout",
     "output_type": "stream",
     "text": [
      "WARNING: the --time-out flag has recently been changed.The time-out is now provided in milliseconds instead of seconds\n",
      "% Warning: Unknown or not support variable selection annotation 'dom_w_deg'! Ignore variable selection annotation and replace it by 'input_order'.\n",
      "Solver output:\n",
      "Time limit exceeded!\n",
      "{'successor': [7, 8, 9, 10, 11, 12, 3, 4, 37, 49, 2, 1, 6, 38, 39, 40, 41, 42, 43, 44, 45, 46, 47, 48, 5, 50, 51, 52, 53, 54, 55, 56, 57, 58, 59, 60, 14, 15, 16, 17, 18, 19, 20, 21, 22, 23, 24, 25, 26, 27, 28, 29, 30, 31, 32, 33, 34, 35, 36, 13], 'time': [5444, 5250, 9435, 8958, 1790, 943, 7244, 7050, 11235, 10758, 3590, 2743, 0, 12139, 12139, 12139, 12139, 12139, 12139, 12139, 12139, 12139, 12139, 0, 0, 11926, 11926, 11926, 11926, 11926, 11926, 11926, 11926, 11926, 11926, 0, 12139, 12139, 12139, 12139, 12139, 12139, 12139, 12139, 12139, 12139, 0, 0, 11926, 11926, 11926, 11926, 11926, 11926, 11926, 11926, 11926, 11926, 0, 0], 'surveyStart': [5444, 5250, 9435, 8958, 1790, 943], 'routeOf': [1, 13, 1, 13, 13, 1, 1, 13, 1, 13, 13, 1, 1, 2, 3, 4, 5, 6, 7, 8, 9, 10, 11, 12, 13, 14, 15, 16, 17, 18, 19, 20, 21, 22, 23, 24, 1, 2, 3, 4, 5, 6, 7, 8, 9, 10, 11, 12, 13, 14, 15, 16, 17, 18, 19, 20, 21, 22, 23, 24]}\n"
     ]
    }
   ],
   "source": [
    "output = %minizinc taxi_model -t 30000 --solver chuffed\n",
    "print(output)"
   ]
  },
  {
   "cell_type": "code",
   "execution_count": 0,
   "metadata": {
    "colab": {},
    "colab_type": "code",
    "id": "xlCJMTPc0Osq"
   },
   "outputs": [],
   "source": [
    "successor = output['successor']\n",
    "surveyStart = output['surveyStart']\n",
    "routeOf = output['routeOf']\n",
    "time= output['time']"
   ]
  },
  {
   "cell_type": "code",
   "execution_count": 0,
   "metadata": {
    "colab": {},
    "colab_type": "code",
    "id": "ZQlUH0zg0Oss"
   },
   "outputs": [],
   "source": [
    "n = NumLocs-1\n",
    "list_taxi1 = []\n",
    "taxi = \"taxi1\"\n",
    "start_point = 2*n + 1\n",
    "\n",
    "for i in range(len(successor)): \n",
    "    temp_start = start_point\n",
    "    start_point = successor[start_point-1]\n",
    "    \n",
    "    # Origin and Destination node\n",
    "    start_node = temp_start\n",
    "    end_node = successor[temp_start-1]\n",
    "\n",
    "    if (end_node > 2*n ):\n",
    "        state = \"HQ\"\n",
    "    elif end_node <= 2*n :\n",
    "        if int(start_node) != int(end_node - n):\n",
    "            if end_node > n:\n",
    "                place = end_node - n\n",
    "            else :\n",
    "                place = end_node\n",
    "        if place == start_node:\n",
    "            # pick up surveyor\n",
    "            place = 0\n",
    "        state = \"go to Place \" + str(place)\n",
    "    \n",
    "    list_taxi1.append([taxi, state,start_node,end_node,time[temp_start-1],time[start_point-1]])\n",
    "    temp_start = start_point\n",
    "    if i == 4*n+1 :\n",
    "        taxi = \"taxi2\"\n",
    "        \n",
    "result_taxi_df = pd.DataFrame(list_taxi1)\n",
    "result_taxi_df.columns = [\"taxi\",\"state\",\"start_node\",\"end_node\",\"start\",\"end\"]\n",
    "# result_taxi_df"
   ]
  },
  {
   "cell_type": "code",
   "execution_count": 0,
   "metadata": {
    "colab": {},
    "colab_type": "code",
    "id": "xxz_0h8l0Osv",
    "outputId": "d2044c8a-e088-4271-bbdb-3710be39c47d"
   },
   "outputs": [
    {
     "data": {
      "text/html": [
       "<div>\n",
       "<style scoped>\n",
       "    .dataframe tbody tr th:only-of-type {\n",
       "        vertical-align: middle;\n",
       "    }\n",
       "\n",
       "    .dataframe tbody tr th {\n",
       "        vertical-align: top;\n",
       "    }\n",
       "\n",
       "    .dataframe thead th {\n",
       "        text-align: right;\n",
       "    }\n",
       "</style>\n",
       "<table border=\"1\" class=\"dataframe\">\n",
       "  <thead>\n",
       "    <tr style=\"text-align: right;\">\n",
       "      <th></th>\n",
       "      <th>taxi</th>\n",
       "      <th>state</th>\n",
       "      <th>start_node</th>\n",
       "      <th>end_node</th>\n",
       "      <th>start</th>\n",
       "      <th>end</th>\n",
       "    </tr>\n",
       "  </thead>\n",
       "  <tbody>\n",
       "    <tr>\n",
       "      <th>0</th>\n",
       "      <td>taxi1</td>\n",
       "      <td>go to Place 6</td>\n",
       "      <td>13</td>\n",
       "      <td>6</td>\n",
       "      <td>0</td>\n",
       "      <td>943</td>\n",
       "    </tr>\n",
       "    <tr>\n",
       "      <th>1</th>\n",
       "      <td>taxi1</td>\n",
       "      <td>go to Place 0</td>\n",
       "      <td>6</td>\n",
       "      <td>12</td>\n",
       "      <td>943</td>\n",
       "      <td>2743</td>\n",
       "    </tr>\n",
       "    <tr>\n",
       "      <th>2</th>\n",
       "      <td>taxi1</td>\n",
       "      <td>go to Place 1</td>\n",
       "      <td>12</td>\n",
       "      <td>1</td>\n",
       "      <td>2743</td>\n",
       "      <td>5444</td>\n",
       "    </tr>\n",
       "    <tr>\n",
       "      <th>3</th>\n",
       "      <td>taxi1</td>\n",
       "      <td>go to Place 0</td>\n",
       "      <td>1</td>\n",
       "      <td>7</td>\n",
       "      <td>5444</td>\n",
       "      <td>7244</td>\n",
       "    </tr>\n",
       "    <tr>\n",
       "      <th>4</th>\n",
       "      <td>taxi1</td>\n",
       "      <td>go to Place 3</td>\n",
       "      <td>7</td>\n",
       "      <td>3</td>\n",
       "      <td>7244</td>\n",
       "      <td>9435</td>\n",
       "    </tr>\n",
       "    <tr>\n",
       "      <th>5</th>\n",
       "      <td>taxi1</td>\n",
       "      <td>go to Place 0</td>\n",
       "      <td>3</td>\n",
       "      <td>9</td>\n",
       "      <td>9435</td>\n",
       "      <td>11235</td>\n",
       "    </tr>\n",
       "    <tr>\n",
       "      <th>6</th>\n",
       "      <td>taxi1</td>\n",
       "      <td>HQ</td>\n",
       "      <td>9</td>\n",
       "      <td>37</td>\n",
       "      <td>11235</td>\n",
       "      <td>12139</td>\n",
       "    </tr>\n",
       "    <tr>\n",
       "      <th>30</th>\n",
       "      <td>taxi2</td>\n",
       "      <td>go to Place 5</td>\n",
       "      <td>25</td>\n",
       "      <td>5</td>\n",
       "      <td>0</td>\n",
       "      <td>1790</td>\n",
       "    </tr>\n",
       "    <tr>\n",
       "      <th>31</th>\n",
       "      <td>taxi2</td>\n",
       "      <td>go to Place 0</td>\n",
       "      <td>5</td>\n",
       "      <td>11</td>\n",
       "      <td>1790</td>\n",
       "      <td>3590</td>\n",
       "    </tr>\n",
       "    <tr>\n",
       "      <th>32</th>\n",
       "      <td>taxi2</td>\n",
       "      <td>go to Place 2</td>\n",
       "      <td>11</td>\n",
       "      <td>2</td>\n",
       "      <td>3590</td>\n",
       "      <td>5250</td>\n",
       "    </tr>\n",
       "    <tr>\n",
       "      <th>33</th>\n",
       "      <td>taxi2</td>\n",
       "      <td>go to Place 0</td>\n",
       "      <td>2</td>\n",
       "      <td>8</td>\n",
       "      <td>5250</td>\n",
       "      <td>7050</td>\n",
       "    </tr>\n",
       "    <tr>\n",
       "      <th>34</th>\n",
       "      <td>taxi2</td>\n",
       "      <td>go to Place 4</td>\n",
       "      <td>8</td>\n",
       "      <td>4</td>\n",
       "      <td>7050</td>\n",
       "      <td>8958</td>\n",
       "    </tr>\n",
       "    <tr>\n",
       "      <th>35</th>\n",
       "      <td>taxi2</td>\n",
       "      <td>go to Place 0</td>\n",
       "      <td>4</td>\n",
       "      <td>10</td>\n",
       "      <td>8958</td>\n",
       "      <td>10758</td>\n",
       "    </tr>\n",
       "    <tr>\n",
       "      <th>36</th>\n",
       "      <td>taxi2</td>\n",
       "      <td>HQ</td>\n",
       "      <td>10</td>\n",
       "      <td>49</td>\n",
       "      <td>10758</td>\n",
       "      <td>11926</td>\n",
       "    </tr>\n",
       "  </tbody>\n",
       "</table>\n",
       "</div>"
      ],
      "text/plain": [
       "     taxi          state  start_node  end_node  start    end\n",
       "0   taxi1  go to Place 6          13         6      0    943\n",
       "1   taxi1  go to Place 0           6        12    943   2743\n",
       "2   taxi1  go to Place 1          12         1   2743   5444\n",
       "3   taxi1  go to Place 0           1         7   5444   7244\n",
       "4   taxi1  go to Place 3           7         3   7244   9435\n",
       "5   taxi1  go to Place 0           3         9   9435  11235\n",
       "6   taxi1             HQ           9        37  11235  12139\n",
       "30  taxi2  go to Place 5          25         5      0   1790\n",
       "31  taxi2  go to Place 0           5        11   1790   3590\n",
       "32  taxi2  go to Place 2          11         2   3590   5250\n",
       "33  taxi2  go to Place 0           2         8   5250   7050\n",
       "34  taxi2  go to Place 4           8         4   7050   8958\n",
       "35  taxi2  go to Place 0           4        10   8958  10758\n",
       "36  taxi2             HQ          10        49  10758  11926"
      ]
     },
     "execution_count": 51,
     "metadata": {
      "tags": []
     },
     "output_type": "execute_result"
    }
   ],
   "source": [
    "ress_df = result_taxi_df.loc[(result_taxi_df.start != result_taxi_df.end) & (result_taxi_df.end != 0 )]\n",
    "ress_df"
   ]
  },
  {
   "cell_type": "code",
   "execution_count": 0,
   "metadata": {
    "colab": {},
    "colab_type": "code",
    "id": "gqxUkbWZ0Osx"
   },
   "outputs": [],
   "source": [
    "survey_time = 1800\n",
    "\n",
    "survey2_start_end = []\n",
    "for idx,i in enumerate(surveyStart):\n",
    "    survey2_start_end.append([\"tsurvey\" + str(idx+1),i,i+survey_time])\n",
    "    \n",
    "    \n",
    "\n",
    "survey2_df = pd.DataFrame(survey2_start_end)\n",
    "survey2_df.columns = [\"taxi\",\"start\",\"end\"]"
   ]
  },
  {
   "cell_type": "code",
   "execution_count": 0,
   "metadata": {
    "colab": {},
    "colab_type": "code",
    "id": "_WeAQEVh0Os0",
    "outputId": "a324f5d2-37d6-4dff-ff5b-f8bc2ad815b2"
   },
   "outputs": [
    {
     "data": {
      "application/javascript": [
       "var spec = {\"config\": {\"view\": {\"width\": 400, \"height\": 300}, \"mark\": {\"tooltip\": null}}, \"layer\": [{\"data\": {\"name\": \"data-c306198a33ce72cb16eb57cb64316b10\"}, \"mark\": {\"type\": \"bar\", \"color\": \"black\"}, \"encoding\": {\"x\": {\"type\": \"quantitative\", \"field\": \"start\"}, \"x2\": {\"field\": \"end\"}, \"y\": {\"type\": \"nominal\", \"field\": \"taxi\"}}}, {\"data\": {\"name\": \"data-96eb3bb4e37bef506dd1ee9422878b20\"}, \"mark\": {\"type\": \"bar\", \"color\": \"red\"}, \"encoding\": {\"x\": {\"type\": \"quantitative\", \"field\": \"start\"}, \"x2\": {\"field\": \"end\"}, \"y\": {\"type\": \"nominal\", \"field\": \"taxi\"}}}, {\"data\": {\"name\": \"data-7842d6463fd2a630b9477165be951c7f\"}, \"mark\": {\"type\": \"bar\", \"color\": \"green\"}, \"encoding\": {\"x\": {\"type\": \"quantitative\", \"field\": \"start\"}, \"x2\": {\"field\": \"end\"}, \"y\": {\"type\": \"nominal\", \"field\": \"taxi\"}}}, {\"data\": {\"name\": \"data-15ce4601c1f8b300925acad7b96c9f55\"}, \"mark\": {\"type\": \"bar\", \"color\": \"purple\"}, \"encoding\": {\"x\": {\"type\": \"quantitative\", \"field\": \"start\"}, \"x2\": {\"field\": \"end\"}, \"y\": {\"type\": \"nominal\", \"field\": \"taxi\"}}}, {\"data\": {\"name\": \"data-1373dcc41a6973b063ed020539c9a994\"}, \"mark\": {\"type\": \"bar\", \"color\": \"orange\"}, \"encoding\": {\"x\": {\"type\": \"quantitative\", \"field\": \"start\"}, \"x2\": {\"field\": \"end\"}, \"y\": {\"type\": \"nominal\", \"field\": \"taxi\"}}}, {\"data\": {\"name\": \"data-0c8b971c5dbcc0a6a29aec5d09a99bc6\"}, \"mark\": {\"type\": \"bar\", \"color\": \"darkred\"}, \"encoding\": {\"x\": {\"type\": \"quantitative\", \"field\": \"start\"}, \"x2\": {\"field\": \"end\"}, \"y\": {\"type\": \"nominal\", \"field\": \"taxi\"}}}, {\"data\": {\"name\": \"data-129e7aa082eab90ed52d61ff71b30f33\"}, \"mark\": {\"type\": \"bar\", \"color\": \"darkblue\"}, \"encoding\": {\"x\": {\"type\": \"quantitative\", \"field\": \"start\"}, \"x2\": {\"field\": \"end\"}, \"y\": {\"type\": \"nominal\", \"field\": \"taxi\"}}}, {\"data\": {\"name\": \"data-6f3e1affe89f0705f65176a50fffca03\"}, \"mark\": {\"type\": \"bar\", \"color\": \"lightgray\"}, \"encoding\": {\"x\": {\"type\": \"quantitative\", \"field\": \"start\"}, \"x2\": {\"field\": \"end\"}, \"y\": {\"type\": \"nominal\", \"field\": \"taxi\"}}}], \"$schema\": \"https://vega.github.io/schema/vega-lite/v3.3.0.json\", \"datasets\": {\"data-c306198a33ce72cb16eb57cb64316b10\": [{\"taxi\": \"taxi1\", \"state\": \"HQ\", \"start_node\": 9, \"end_node\": 37, \"start\": 11235, \"end\": 12139}, {\"taxi\": \"taxi2\", \"state\": \"HQ\", \"start_node\": 10, \"end_node\": 49, \"start\": 10758, \"end\": 11926}], \"data-96eb3bb4e37bef506dd1ee9422878b20\": [{\"taxi\": \"taxi1\", \"state\": \"go to Place 1\", \"start_node\": 12, \"end_node\": 1, \"start\": 2743, \"end\": 5444}], \"data-7842d6463fd2a630b9477165be951c7f\": [{\"taxi\": \"taxi2\", \"state\": \"go to Place 2\", \"start_node\": 11, \"end_node\": 2, \"start\": 3590, \"end\": 5250}], \"data-15ce4601c1f8b300925acad7b96c9f55\": [{\"taxi\": \"taxi1\", \"state\": \"go to Place 3\", \"start_node\": 7, \"end_node\": 3, \"start\": 7244, \"end\": 9435}], \"data-1373dcc41a6973b063ed020539c9a994\": [{\"taxi\": \"taxi2\", \"state\": \"go to Place 4\", \"start_node\": 8, \"end_node\": 4, \"start\": 7050, \"end\": 8958}], \"data-0c8b971c5dbcc0a6a29aec5d09a99bc6\": [{\"taxi\": \"taxi2\", \"state\": \"go to Place 5\", \"start_node\": 25, \"end_node\": 5, \"start\": 0, \"end\": 1790}], \"data-129e7aa082eab90ed52d61ff71b30f33\": [{\"taxi\": \"taxi1\", \"state\": \"go to Place 6\", \"start_node\": 13, \"end_node\": 6, \"start\": 0, \"end\": 943}], \"data-6f3e1affe89f0705f65176a50fffca03\": [{\"taxi\": \"tsurvey1\", \"start\": 5444, \"end\": 7244}, {\"taxi\": \"tsurvey2\", \"start\": 5250, \"end\": 7050}, {\"taxi\": \"tsurvey3\", \"start\": 9435, \"end\": 11235}, {\"taxi\": \"tsurvey4\", \"start\": 8958, \"end\": 10758}, {\"taxi\": \"tsurvey5\", \"start\": 1790, \"end\": 3590}, {\"taxi\": \"tsurvey6\", \"start\": 943, \"end\": 2743}]}};\n",
       "var opt = {};\n",
       "var type = \"vega-lite\";\n",
       "var id = \"e4779a98-a01e-449b-8dc9-ff4fe8172b27\";\n",
       "\n",
       "var output_area = this;\n",
       "\n",
       "require([\"nbextensions/jupyter-vega/index\"], function(vega) {\n",
       "  var target = document.createElement(\"div\");\n",
       "  target.id = id;\n",
       "  target.className = \"vega-embed\";\n",
       "\n",
       "  var style = document.createElement(\"style\");\n",
       "  style.textContent = [\n",
       "    \".vega-embed .error p {\",\n",
       "    \"  color: firebrick;\",\n",
       "    \"  font-size: 14px;\",\n",
       "    \"}\",\n",
       "  ].join(\"\\\\n\");\n",
       "\n",
       "  // element is a jQuery wrapped DOM element inside the output area\n",
       "  // see http://ipython.readthedocs.io/en/stable/api/generated/\\\n",
       "  // IPython.display.html#IPython.display.Javascript.__init__\n",
       "  element[0].appendChild(target);\n",
       "  element[0].appendChild(style);\n",
       "\n",
       "  vega.render(\"#\" + id, spec, type, opt, output_area);\n",
       "}, function (err) {\n",
       "  if (err.requireType !== \"scripterror\") {\n",
       "    throw(err);\n",
       "  }\n",
       "});\n"
      ],
      "text/plain": [
       "<vega.vegalite.VegaLite at 0x1274faac8>"
      ]
     },
     "metadata": {
      "jupyter-vega": "#e4779a98-a01e-449b-8dc9-ff4fe8172b27",
      "tags": []
     },
     "output_type": "display_data"
    },
    {
     "data": {
      "text/plain": []
     },
     "execution_count": 53,
     "metadata": {
      "tags": []
     },
     "output_type": "execute_result"
    },
    {
     "data": {
      "image/png": "[encoded data removed]"
     },
     "metadata": {
      "jupyter-vega": "#e4779a98-a01e-449b-8dc9-ff4fe8172b27",
      "tags": []
     },
     "output_type": "display_data"
    },
    {
     "data": {
      "image/png": "[encoded data removed]"
     },
     "metadata": {
      "jupyter-vega": "#e4779a98-a01e-449b-8dc9-ff4fe8172b27",
      "tags": []
     },
     "output_type": "display_data"
    },
    {
     "data": {
      "image/png": "[encoded data removed]"
     },
     "metadata": {
      "jupyter-vega": "#e4779a98-a01e-449b-8dc9-ff4fe8172b27",
      "tags": []
     },
     "output_type": "display_data"
    }
   ],
   "source": [
    "\n",
    "alt.renderers.enable('notebook')\n",
    "\n",
    "color = ['black','red',  'green', 'purple', 'orange', 'darkred',  'darkblue', 'darkgreen', 'cadetblue', 'darkpurple', 'white', 'pink', 'lightblue', 'lightgreen', 'gray', 'lightgray']\n",
    "\n",
    "\n",
    "backHQ = alt.Chart(ress_df[(ress_df.state == \"HQ\") ]).mark_bar(color=color[0]).encode(x='start',x2='end',y='taxi')\n",
    "\n",
    "goto = []\n",
    "for i in range(n):\n",
    "    goto.append(alt.Chart(ress_df[(ress_df['state'].str[-1] == str(i+1)) ]).mark_bar(color=color[i+1]).encode(x='start',x2='end',y='taxi'))\n",
    "\n",
    "surveys = alt.Chart(survey2_df).mark_bar(color=color[len(color)-1]).encode(x='start',x2='end',y='taxi')\n",
    "\n",
    "graph_all = backHQ\n",
    "\n",
    "for i in range(len(goto)):\n",
    "    graph_all = graph_all + goto[i]\n",
    "graph_all + surveys\n",
    "\n",
    "\n"
   ]
  },
  {
   "cell_type": "code",
   "execution_count": 0,
   "metadata": {
    "colab": {},
    "colab_type": "code",
    "id": "OYkkgzT50Os3",
    "outputId": "e3718851-ceb4-4dc7-e285-a22dfc14cd76"
   },
   "outputs": [
    {
     "data": {
      "text/html": [
       "<div style=\"width:100%;\"><div style=\"position:relative;width:100%;height:0;padding-bottom:60%;\"><iframe src=\"data:text/html;charset=utf-8;base64,PCFET0NUWVBFIGh0bWw+CjxoZWFkPiAgICAKICAgIDxtZXRhIGh0dHAtZXF1aXY9ImNvbnRlbnQtdHlwZSIgY29udGVudD0idGV4dC9odG1sOyBjaGFyc2V0PVVURi04IiAvPgogICAgCiAgICAgICAgPHNjcmlwdD4KICAgICAgICAgICAgTF9OT19UT1VDSCA9IGZhbHNlOwogICAgICAgICAgICBMX0RJU0FCTEVfM0QgPSBmYWxzZTsKICAgICAgICA8L3NjcmlwdD4KICAgIAogICAgPHNjcmlwdCBzcmM9Imh0dHBzOi8vY2RuLmpzZGVsaXZyLm5ldC9ucG0vbGVhZmxldEAxLjUuMS9kaXN0L2xlYWZsZXQuanMiPjwvc2NyaXB0PgogICAgPHNjcmlwdCBzcmM9Imh0dHBzOi8vY29kZS5qcXVlcnkuY29tL2pxdWVyeS0xLjEyLjQubWluLmpzIj48L3NjcmlwdD4KICAgIDxzY3JpcHQgc3JjPSJodHRwczovL21heGNkbi5ib290c3RyYXBjZG4uY29tL2Jvb3RzdHJhcC8zLjIuMC9qcy9ib290c3RyYXAubWluLmpzIj48L3NjcmlwdD4KICAgIDxzY3JpcHQgc3JjPSJodHRwczovL2NkbmpzLmNsb3VkZmxhcmUuY29tL2FqYXgvbGlicy9MZWFmbGV0LmF3ZXNvbWUtbWFya2Vycy8yLjAuMi9sZWFmbGV0LmF3ZXNvbWUtbWFya2Vycy5qcyI+PC9zY3JpcHQ+CiAgICA8bGluayByZWw9InN0eWxlc2hlZXQiIGhyZWY9Imh0dHBzOi8vY2RuLmpzZGVsaXZyLm5ldC9ucG0vbGVhZmxldEAxLjUuMS9kaXN0L2xlYWZsZXQuY3NzIi8+CiAgICA8bGluayByZWw9InN0eWxlc2hlZXQiIGhyZWY9Imh0dHBzOi8vbWF4Y2RuLmJvb3RzdHJhcGNkbi5jb20vYm9vdHN0cmFwLzMuMi4wL2Nzcy9ib290c3RyYXAubWluLmNzcyIvPgogICAgPGxpbmsgcmVsPSJzdHlsZXNoZWV0IiBocmVmPSJodHRwczovL21heGNkbi5ib290c3RyYXBjZG4uY29tL2Jvb3RzdHJhcC8zLjIuMC9jc3MvYm9vdHN0cmFwLXRoZW1lLm1pbi5jc3MiLz4KICAgIDxsaW5rIHJlbD0ic3R5bGVzaGVldCIgaHJlZj0iaHR0cHM6Ly9tYXhjZG4uYm9vdHN0cmFwY2RuLmNvbS9mb250LWF3ZXNvbWUvNC42LjMvY3NzL2ZvbnQtYXdlc29tZS5taW4uY3NzIi8+CiAgICA8bGluayByZWw9InN0eWxlc2hlZXQiIGhyZWY9Imh0dHBzOi8vY2RuanMuY2xvdWRmbGFyZS5jb20vYWpheC9saWJzL0xlYWZsZXQuYXdlc29tZS1tYXJrZXJzLzIuMC4yL2xlYWZsZXQuYXdlc29tZS1tYXJrZXJzLmNzcyIvPgogICAgPGxpbmsgcmVsPSJzdHlsZXNoZWV0IiBocmVmPSJodHRwczovL3Jhd2Nkbi5naXRoYWNrLmNvbS9weXRob24tdmlzdWFsaXphdGlvbi9mb2xpdW0vbWFzdGVyL2ZvbGl1bS90ZW1wbGF0ZXMvbGVhZmxldC5hd2Vzb21lLnJvdGF0ZS5jc3MiLz4KICAgIDxzdHlsZT5odG1sLCBib2R5IHt3aWR0aDogMTAwJTtoZWlnaHQ6IDEwMCU7bWFyZ2luOiAwO3BhZGRpbmc6IDA7fTwvc3R5bGU+CiAgICA8c3R5bGU+I21hcCB7cG9zaXRpb246YWJzb2x1dGU7dG9wOjA7Ym90dG9tOjA7cmlnaHQ6MDtsZWZ0OjA7fTwvc3R5bGU+CiAgICAKICAgICAgICAgICAgPG1ldGEgbmFtZT0idmlld3BvcnQiIGNvbnRlbnQ9IndpZHRoPWRldmljZS13aWR0aCwKICAgICAgICAgICAgICAgIGluaXRpYWwtc2NhbGU9MS4wLCBtYXhpbXVtLXNjYWxlPTEuMCwgdXNlci1zY2FsYWJsZT1ubyIgLz4KICAgICAgICAgICAgPHN0eWxlPgogICAgICAgICAgICAgICAgI21hcF9jNTlhYmFhZmFiN2Y0ODliOTcxYzFmZTAxZGJiZDFhNCB7CiAgICAgICAgICAgICAgICAgICAgcG9zaXRpb246IHJlbGF0aXZlOwogICAgICAgICAgICAgICAgICAgIHdpZHRoOiAxMDAuMCU7CiAgICAgICAgICAgICAgICAgICAgaGVpZ2h0OiAxMDAuMCU7CiAgICAgICAgICAgICAgICAgICAgbGVmdDogMC4wJTsKICAgICAgICAgICAgICAgICAgICB0b3A6IDAuMCU7CiAgICAgICAgICAgICAgICB9CiAgICAgICAgICAgIDwvc3R5bGU+CiAgICAgICAgCjwvaGVhZD4KPGJvZHk+ICAgIAogICAgCiAgICAgICAgICAgIDxkaXYgY2xhc3M9ImZvbGl1bS1tYXAiIGlkPSJtYXBfYzU5YWJhYWZhYjdmNDg5Yjk3MWMxZmUwMWRiYmQxYTQiID48L2Rpdj4KICAgICAgICAKPC9ib2R5Pgo8c2NyaXB0PiAgICAKICAgIAogICAgICAgICAgICB2YXIgbWFwX2M1OWFiYWFmYWI3ZjQ4OWI5NzFjMWZlMDFkYmJkMWE0ID0gTC5tYXAoCiAgICAgICAgICAgICAgICAibWFwX2M1OWFiYWFmYWI3ZjQ4OWI5NzFjMWZlMDFkYmJkMWE0IiwKICAgICAgICAgICAgICAgIHsKICAgICAgICAgICAgICAgICAgICBjZW50ZXI6IFs0MC43MjQ4OTg1NzE0Mjg1NzUsIC03My45NTIyNzg1NzE0Mjg1Nl0sCiAgICAgICAgICAgICAgICAgICAgY3JzOiBMLkNSUy5FUFNHMzg1NywKICAgICAgICAgICAgICAgICAgICB6b29tOiAxMSwKICAgICAgICAgICAgICAgICAgICB6b29tQ29udHJvbDogdHJ1ZSwKICAgICAgICAgICAgICAgICAgICBwcmVmZXJDYW52YXM6IGZhbHNlLAogICAgICAgICAgICAgICAgfQogICAgICAgICAgICApOwoKICAgICAgICAgICAgCgogICAgICAgIAogICAgCiAgICAgICAgICAgIHZhciB0aWxlX2xheWVyXzI0OTUwYTlmYTdhMTQ0ZTViNTgwYTExYWE3NGY5M2EyID0gTC50aWxlTGF5ZXIoCiAgICAgICAgICAgICAgICAiaHR0cHM6Ly9jYXJ0b2RiLWJhc2VtYXBzLXtzfS5nbG9iYWwuc3NsLmZhc3RseS5uZXQvbGlnaHRfYWxsL3t6fS97eH0ve3l9LnBuZyIsCiAgICAgICAgICAgICAgICB7ImF0dHJpYnV0aW9uIjogIlx1MDAyNmNvcHk7IFx1MDAzY2EgaHJlZj1cImh0dHA6Ly93d3cub3BlbnN0cmVldG1hcC5vcmcvY29weXJpZ2h0XCJcdTAwM2VPcGVuU3RyZWV0TWFwXHUwMDNjL2FcdTAwM2UgY29udHJpYnV0b3JzIFx1MDAyNmNvcHk7IFx1MDAzY2EgaHJlZj1cImh0dHA6Ly9jYXJ0b2RiLmNvbS9hdHRyaWJ1dGlvbnNcIlx1MDAzZUNhcnRvREJcdTAwM2MvYVx1MDAzZSwgQ2FydG9EQiBcdTAwM2NhIGhyZWYgPVwiaHR0cDovL2NhcnRvZGIuY29tL2F0dHJpYnV0aW9uc1wiXHUwMDNlYXR0cmlidXRpb25zXHUwMDNjL2FcdTAwM2UiLCAiZGV0ZWN0UmV0aW5hIjogZmFsc2UsICJtYXhOYXRpdmVab29tIjogMTgsICJtYXhab29tIjogMTgsICJtaW5ab29tIjogMCwgIm5vV3JhcCI6IGZhbHNlLCAib3BhY2l0eSI6IDEsICJzdWJkb21haW5zIjogImFiYyIsICJ0bXMiOiBmYWxzZX0KICAgICAgICAgICAgKS5hZGRUbyhtYXBfYzU5YWJhYWZhYjdmNDg5Yjk3MWMxZmUwMWRiYmQxYTQpOwogICAgICAgIAogICAgCiAgICAgICAgICAgIHZhciBtYXJrZXJfOWQxMDBkMDBkZTI3NGNjOGIwMDBiNGIyZDIzYmMzZDYgPSBMLm1hcmtlcigKICAgICAgICAgICAgICAgIFs0MC43MywgLTc0LjA1XSwKICAgICAgICAgICAgICAgIHt9CiAgICAgICAgICAgICkuYWRkVG8obWFwX2M1OWFiYWFmYWI3ZjQ4OWI5NzFjMWZlMDFkYmJkMWE0KTsKICAgICAgICAKICAgIAogICAgICAgICAgICB2YXIgaWNvbl9iOGJiZjQ3N2U4Nzc0NTM5OGJhOTZjMThhOTI1Nzg1NiA9IEwuQXdlc29tZU1hcmtlcnMuaWNvbigKICAgICAgICAgICAgICAgIHsiZXh0cmFDbGFzc2VzIjogImZhLXJvdGF0ZS0wIiwgImljb24iOiAibm9uZSIsICJpY29uQ29sb3IiOiAid2hpdGUiLCAibWFya2VyQ29sb3IiOiAiYmxhY2siLCAicHJlZml4IjogImdseXBoaWNvbiJ9CiAgICAgICAgICAgICk7CiAgICAgICAgICAgIG1hcmtlcl85ZDEwMGQwMGRlMjc0Y2M4YjAwMGI0YjJkMjNiYzNkNi5zZXRJY29uKGljb25fYjhiYmY0NzdlODc3NDUzOThiYTk2YzE4YTkyNTc4NTYpOwogICAgICAgIAogICAgCiAgICAgICAgdmFyIHBvcHVwXzUzZmRmYzY0MjllNjQ2MWNiMTNkMWU3ZWEwZGE4YmI0ID0gTC5wb3B1cCh7Im1heFdpZHRoIjogIjEwMCUifSk7CgogICAgICAgIAogICAgICAgICAgICB2YXIgaHRtbF84NjIzYmZmYTFkNWM0NzkzYWUyZmU3NGE5OGE2Njk2NCA9ICQoYDxkaXYgaWQ9Imh0bWxfODYyM2JmZmExZDVjNDc5M2FlMmZlNzRhOThhNjY5NjQiIHN0eWxlPSJ3aWR0aDogMTAwLjAlOyBoZWlnaHQ6IDEwMC4wJTsiPkhRPC9kaXY+YClbMF07CiAgICAgICAgICAgIHBvcHVwXzUzZmRmYzY0MjllNjQ2MWNiMTNkMWU3ZWEwZGE4YmI0LnNldENvbnRlbnQoaHRtbF84NjIzYmZmYTFkNWM0NzkzYWUyZmU3NGE5OGE2Njk2NCk7CiAgICAgICAgCgogICAgICAgIG1hcmtlcl85ZDEwMGQwMGRlMjc0Y2M4YjAwMGI0YjJkMjNiYzNkNi5iaW5kUG9wdXAocG9wdXBfNTNmZGZjNjQyOWU2NDYxY2IxM2QxZTdlYTBkYThiYjQpCiAgICAgICAgOwoKICAgICAgICAKICAgIAogICAgCiAgICAgICAgICAgIHZhciBtYXJrZXJfMDFjODVhZTM5ZWMwNDZkNmEzYjhmZGM0NTdiZTdmNmQgPSBMLm1hcmtlcigKICAgICAgICAgICAgICAgIFs0MC42NjUsIC03My43OTVdLAogICAgICAgICAgICAgICAge30KICAgICAgICAgICAgKS5hZGRUbyhtYXBfYzU5YWJhYWZhYjdmNDg5Yjk3MWMxZmUwMWRiYmQxYTQpOwogICAgICAgIAogICAgCiAgICAgICAgICAgIHZhciBpY29uX2ExNmQwMDFjZTZkZjQyMjRhYjU4NjYwMmY0YTlhNTEwID0gTC5Bd2Vzb21lTWFya2Vycy5pY29uKAogICAgICAgICAgICAgICAgeyJleHRyYUNsYXNzZXMiOiAiZmEtcm90YXRlLTAiLCAiaWNvbiI6ICJub25lIiwgImljb25Db2xvciI6ICJ3aGl0ZSIsICJtYXJrZXJDb2xvciI6ICJyZWQiLCAicHJlZml4IjogImdseXBoaWNvbiJ9CiAgICAgICAgICAgICk7CiAgICAgICAgICAgIG1hcmtlcl8wMWM4NWFlMzllYzA0NmQ2YTNiOGZkYzQ1N2JlN2Y2ZC5zZXRJY29uKGljb25fYTE2ZDAwMWNlNmRmNDIyNGFiNTg2NjAyZjRhOWE1MTApOwogICAgICAgIAogICAgCiAgICAgICAgdmFyIHBvcHVwX2M2MWZiZGNhZjlmNjRlYTA4ODlhMzU2OWI3Y2E5NTRjID0gTC5wb3B1cCh7Im1heFdpZHRoIjogIjEwMCUifSk7CgogICAgICAgIAogICAgICAgICAgICB2YXIgaHRtbF8yNzVhNmEwMTRkZTY0MmYzOTBiZTVhNDQ5MDlkNzIyNSA9ICQoYDxkaXYgaWQ9Imh0bWxfMjc1YTZhMDE0ZGU2NDJmMzkwYmU1YTQ0OTA5ZDcyMjUiIHN0eWxlPSJ3aWR0aDogMTAwLjAlOyBoZWlnaHQ6IDEwMC4wJTsiPjE8L2Rpdj5gKVswXTsKICAgICAgICAgICAgcG9wdXBfYzYxZmJkY2FmOWY2NGVhMDg4OWEzNTY5YjdjYTk1NGMuc2V0Q29udGVudChodG1sXzI3NWE2YTAxNGRlNjQyZjM5MGJlNWE0NDkwOWQ3MjI1KTsKICAgICAgICAKCiAgICAgICAgbWFya2VyXzAxYzg1YWUzOWVjMDQ2ZDZhM2I4ZmRjNDU3YmU3ZjZkLmJpbmRQb3B1cChwb3B1cF9jNjFmYmRjYWY5ZjY0ZWEwODg5YTM1NjliN2NhOTU0YykKICAgICAgICA7CgogICAgICAgIAogICAgCiAgICAKICAgICAgICAgICAgdmFyIG1hcmtlcl9iOGYzZDcxNjFkMjU0MTE2YTYxMTg3YTNkZWE2NzJmZSA9IEwubWFya2VyKAogICAgICAgICAgICAgICAgWzQwLjc3LCAtNzMuOTk1XSwKICAgICAgICAgICAgICAgIHt9CiAgICAgICAgICAgICkuYWRkVG8obWFwX2M1OWFiYWFmYWI3ZjQ4OWI5NzFjMWZlMDFkYmJkMWE0KTsKICAgICAgICAKICAgIAogICAgICAgICAgICB2YXIgaWNvbl81ODQ5YTY2MmQ5YzU0ZjBkOTEwYTY1OWM1YmVmNzJlOCA9IEwuQXdlc29tZU1hcmtlcnMuaWNvbigKICAgICAgICAgICAgICAgIHsiZXh0cmFDbGFzc2VzIjogImZhLXJvdGF0ZS0wIiwgImljb24iOiAibm9uZSIsICJpY29uQ29sb3IiOiAid2hpdGUiLCAibWFya2VyQ29sb3IiOiAiZ3JlZW4iLCAicHJlZml4IjogImdseXBoaWNvbiJ9CiAgICAgICAgICAgICk7CiAgICAgICAgICAgIG1hcmtlcl9iOGYzZDcxNjFkMjU0MTE2YTYxMTg3YTNkZWE2NzJmZS5zZXRJY29uKGljb25fNTg0OWE2NjJkOWM1NGYwZDkxMGE2NTljNWJlZjcyZTgpOwogICAgICAgIAogICAgCiAgICAgICAgdmFyIHBvcHVwXzFhNmY1YTBkOWNmNTQ5MmM4Zjc4ZWMyOTRhMGY4MDE5ID0gTC5wb3B1cCh7Im1heFdpZHRoIjogIjEwMCUifSk7CgogICAgICAgIAogICAgICAgICAgICB2YXIgaHRtbF9hODkzN2Y2ZTdmMTk0M2Y1YWRlYzU2YjBmODIzOTAwNCA9ICQoYDxkaXYgaWQ9Imh0bWxfYTg5MzdmNmU3ZjE5NDNmNWFkZWM1NmIwZjgyMzkwMDQiIHN0eWxlPSJ3aWR0aDogMTAwLjAlOyBoZWlnaHQ6IDEwMC4wJTsiPjI8L2Rpdj5gKVswXTsKICAgICAgICAgICAgcG9wdXBfMWE2ZjVhMGQ5Y2Y1NDkyYzhmNzhlYzI5NGEwZjgwMTkuc2V0Q29udGVudChodG1sX2E4OTM3ZjZlN2YxOTQzZjVhZGVjNTZiMGY4MjM5MDA0KTsKICAgICAgICAKCiAgICAgICAgbWFya2VyX2I4ZjNkNzE2MWQyNTQxMTZhNjExODdhM2RlYTY3MmZlLmJpbmRQb3B1cChwb3B1cF8xYTZmNWEwZDljZjU0OTJjOGY3OGVjMjk0YTBmODAxOSkKICAgICAgICA7CgogICAgICAgIAogICAgCiAgICAKICAgICAgICAgICAgdmFyIG1hcmtlcl8zM2NmYWVkNDVjOTA0MDNiYTU0MDIyMmYyNjYxOTM2YSA9IEwubWFya2VyKAogICAgICAgICAgICAgICAgWzQwLjc0LCAtNzMuOTldLAogICAgICAgICAgICAgICAge30KICAgICAgICAgICAgKS5hZGRUbyhtYXBfYzU5YWJhYWZhYjdmNDg5Yjk3MWMxZmUwMWRiYmQxYTQpOwogICAgICAgIAogICAgCiAgICAgICAgICAgIHZhciBpY29uXzIxNTU0Yzk5OTIxNzQzZWZiOTZjYjkwNTI5NmI5ZGVmID0gTC5Bd2Vzb21lTWFya2Vycy5pY29uKAogICAgICAgICAgICAgICAgeyJleHRyYUNsYXNzZXMiOiAiZmEtcm90YXRlLTAiLCAiaWNvbiI6ICJub25lIiwgImljb25Db2xvciI6ICJ3aGl0ZSIsICJtYXJrZXJDb2xvciI6ICJwdXJwbGUiLCAicHJlZml4IjogImdseXBoaWNvbiJ9CiAgICAgICAgICAgICk7CiAgICAgICAgICAgIG1hcmtlcl8zM2NmYWVkNDVjOTA0MDNiYTU0MDIyMmYyNjYxOTM2YS5zZXRJY29uKGljb25fMjE1NTRjOTk5MjE3NDNlZmI5NmNiOTA1Mjk2YjlkZWYpOwogICAgICAgIAogICAgCiAgICAgICAgdmFyIHBvcHVwXzA4MmI5MzE5NWFkMDRlYjU4NTRiNTQ0MzUwNzJlNWJmID0gTC5wb3B1cCh7Im1heFdpZHRoIjogIjEwMCUifSk7CgogICAgICAgIAogICAgICAgICAgICB2YXIgaHRtbF81YmUwNTQ1YWIzYjg0YzdhYjE3OTk3YmUxZDkzOGUwZCA9ICQoYDxkaXYgaWQ9Imh0bWxfNWJlMDU0NWFiM2I4NGM3YWIxNzk5N2JlMWQ5MzhlMGQiIHN0eWxlPSJ3aWR0aDogMTAwLjAlOyBoZWlnaHQ6IDEwMC4wJTsiPjM8L2Rpdj5gKVswXTsKICAgICAgICAgICAgcG9wdXBfMDgyYjkzMTk1YWQwNGViNTg1NGI1NDQzNTA3MmU1YmYuc2V0Q29udGVudChodG1sXzViZTA1NDVhYjNiODRjN2FiMTc5OTdiZTFkOTM4ZTBkKTsKICAgICAgICAKCiAgICAgICAgbWFya2VyXzMzY2ZhZWQ0NWM5MDQwM2JhNTQwMjIyZjI2NjE5MzZhLmJpbmRQb3B1cChwb3B1cF8wODJiOTMxOTVhZDA0ZWI1ODU0YjU0NDM1MDcyZTViZikKICAgICAgICA7CgogICAgICAgIAogICAgCiAgICAKICAgICAgICAgICAgdmFyIG1hcmtlcl85NDM5OTdkYzEwYjQ0Zjg4OGI5Y2Q0NWU4YzdjNDVkYyA9IEwubWFya2VyKAogICAgICAgICAgICAgICAgWzQwLjY5NSwgLTczLjk1XSwKICAgICAgICAgICAgICAgIHt9CiAgICAgICAgICAgICkuYWRkVG8obWFwX2M1OWFiYWFmYWI3ZjQ4OWI5NzFjMWZlMDFkYmJkMWE0KTsKICAgICAgICAKICAgIAogICAgICAgICAgICB2YXIgaWNvbl8zMWVjODZkNDFlYmQ0MmViYmY3YmYyYjg1MTdjN2Q1MCA9IEwuQXdlc29tZU1hcmtlcnMuaWNvbigKICAgICAgICAgICAgICAgIHsiZXh0cmFDbGFzc2VzIjogImZhLXJvdGF0ZS0wIiwgImljb24iOiAibm9uZSIsICJpY29uQ29sb3IiOiAid2hpdGUiLCAibWFya2VyQ29sb3IiOiAib3JhbmdlIiwgInByZWZpeCI6ICJnbHlwaGljb24ifQogICAgICAgICAgICApOwogICAgICAgICAgICBtYXJrZXJfOTQzOTk3ZGMxMGI0NGY4ODhiOWNkNDVlOGM3YzQ1ZGMuc2V0SWNvbihpY29uXzMxZWM4NmQ0MWViZDQyZWJiZjdiZjJiODUxN2M3ZDUwKTsKICAgICAgICAKICAgIAogICAgICAgIHZhciBwb3B1cF80NTcyOTgxOGNlOTk0MDhjYjE3NTNkZTFlMjc2NDQxZCA9IEwucG9wdXAoeyJtYXhXaWR0aCI6ICIxMDAlIn0pOwoKICAgICAgICAKICAgICAgICAgICAgdmFyIGh0bWxfZDgwZWQxMTFmNjA3NDhlNmEwYWQyZDhmYmNmZGZjZGIgPSAkKGA8ZGl2IGlkPSJodG1sX2Q4MGVkMTExZjYwNzQ4ZTZhMGFkMmQ4ZmJjZmRmY2RiIiBzdHlsZT0id2lkdGg6IDEwMC4wJTsgaGVpZ2h0OiAxMDAuMCU7Ij40PC9kaXY+YClbMF07CiAgICAgICAgICAgIHBvcHVwXzQ1NzI5ODE4Y2U5OTQwOGNiMTc1M2RlMWUyNzY0NDFkLnNldENvbnRlbnQoaHRtbF9kODBlZDExMWY2MDc0OGU2YTBhZDJkOGZiY2ZkZmNkYik7CiAgICAgICAgCgogICAgICAgIG1hcmtlcl85NDM5OTdkYzEwYjQ0Zjg4OGI5Y2Q0NWU4YzdjNDVkYy5iaW5kUG9wdXAocG9wdXBfNDU3Mjk4MThjZTk5NDA4Y2IxNzUzZGUxZTI3NjQ0MWQpCiAgICAgICAgOwoKICAgICAgICAKICAgIAogICAgCiAgICAgICAgICAgIHZhciBtYXJrZXJfMjgyZjMxNDE5ZTBmNGI4Yzg3ZjQyNDM2YzkwMzQ5NjggPSBMLm1hcmtlcigKICAgICAgICAgICAgICAgIFs0MC43NjcsIC03My44NzVdLAogICAgICAgICAgICAgICAge30KICAgICAgICAgICAgKS5hZGRUbyhtYXBfYzU5YWJhYWZhYjdmNDg5Yjk3MWMxZmUwMWRiYmQxYTQpOwogICAgICAgIAogICAgCiAgICAgICAgICAgIHZhciBpY29uXzA1YjdjMDI0OGEyOTQ0NzM5OGJiODM0NTBkYzQ2NjE5ID0gTC5Bd2Vzb21lTWFya2Vycy5pY29uKAogICAgICAgICAgICAgICAgeyJleHRyYUNsYXNzZXMiOiAiZmEtcm90YXRlLTAiLCAiaWNvbiI6ICJub25lIiwgImljb25Db2xvciI6ICJ3aGl0ZSIsICJtYXJrZXJDb2xvciI6ICJkYXJrcmVkIiwgInByZWZpeCI6ICJnbHlwaGljb24ifQogICAgICAgICAgICApOwogICAgICAgICAgICBtYXJrZXJfMjgyZjMxNDE5ZTBmNGI4Yzg3ZjQyNDM2YzkwMzQ5Njguc2V0SWNvbihpY29uXzA1YjdjMDI0OGEyOTQ0NzM5OGJiODM0NTBkYzQ2NjE5KTsKICAgICAgICAKICAgIAogICAgICAgIHZhciBwb3B1cF81YmM0YzQxN2M3MDg0ZDQyOWMzOTExYmRjOTQ5OWVmYyA9IEwucG9wdXAoeyJtYXhXaWR0aCI6ICIxMDAlIn0pOwoKICAgICAgICAKICAgICAgICAgICAgdmFyIGh0bWxfY2I5YWVjYWYxMTZiNGVhMDg0NGU2NmZhMGIwYzI1MDcgPSAkKGA8ZGl2IGlkPSJodG1sX2NiOWFlY2FmMTE2YjRlYTA4NDRlNjZmYTBiMGMyNTA3IiBzdHlsZT0id2lkdGg6IDEwMC4wJTsgaGVpZ2h0OiAxMDAuMCU7Ij41PC9kaXY+YClbMF07CiAgICAgICAgICAgIHBvcHVwXzViYzRjNDE3YzcwODRkNDI5YzM5MTFiZGM5NDk5ZWZjLnNldENvbnRlbnQoaHRtbF9jYjlhZWNhZjExNmI0ZWEwODQ0ZTY2ZmEwYjBjMjUwNyk7CiAgICAgICAgCgogICAgICAgIG1hcmtlcl8yODJmMzE0MTllMGY0YjhjODdmNDI0MzZjOTAzNDk2OC5iaW5kUG9wdXAocG9wdXBfNWJjNGM0MTdjNzA4NGQ0MjljMzkxMWJkYzk0OTllZmMpCiAgICAgICAgOwoKICAgICAgICAKICAgIAogICAgCiAgICAgICAgICAgIHZhciBtYXJrZXJfMGIwMDU5N2NjOWJjNDY2NTk4NDNkNjljNmQ3MzcwZTggPSBMLm1hcmtlcigKICAgICAgICAgICAgICAgIFs0MC43MDcyOSwgLTc0LjAxMDk1XSwKICAgICAgICAgICAgICAgIHt9CiAgICAgICAgICAgICkuYWRkVG8obWFwX2M1OWFiYWFmYWI3ZjQ4OWI5NzFjMWZlMDFkYmJkMWE0KTsKICAgICAgICAKICAgIAogICAgICAgICAgICB2YXIgaWNvbl9iMWIzMTg0MzlmNzU0YTllYTdjNGM5YjIyMTEzNTY1NiA9IEwuQXdlc29tZU1hcmtlcnMuaWNvbigKICAgICAgICAgICAgICAgIHsiZXh0cmFDbGFzc2VzIjogImZhLXJvdGF0ZS0wIiwgImljb24iOiAibm9uZSIsICJpY29uQ29sb3IiOiAid2hpdGUiLCAibWFya2VyQ29sb3IiOiAiZGFya2JsdWUiLCAicHJlZml4IjogImdseXBoaWNvbiJ9CiAgICAgICAgICAgICk7CiAgICAgICAgICAgIG1hcmtlcl8wYjAwNTk3Y2M5YmM0NjY1OTg0M2Q2OWM2ZDczNzBlOC5zZXRJY29uKGljb25fYjFiMzE4NDM5Zjc1NGE5ZWE3YzRjOWIyMjExMzU2NTYpOwogICAgICAgIAogICAgCiAgICAgICAgdmFyIHBvcHVwXzYxY2FhNzlkMTFjODRkNjliOTY5ZTlmMDdiODZlNGYyID0gTC5wb3B1cCh7Im1heFdpZHRoIjogIjEwMCUifSk7CgogICAgICAgIAogICAgICAgICAgICB2YXIgaHRtbF84Mjk2OGJmOWMzNzM0OWJhOTI3NzhmMWE2MzJhYjZlMCA9ICQoYDxkaXYgaWQ9Imh0bWxfODI5NjhiZjljMzczNDliYTkyNzc4ZjFhNjMyYWI2ZTAiIHN0eWxlPSJ3aWR0aDogMTAwLjAlOyBoZWlnaHQ6IDEwMC4wJTsiPjY8L2Rpdj5gKVswXTsKICAgICAgICAgICAgcG9wdXBfNjFjYWE3OWQxMWM4NGQ2OWI5NjllOWYwN2I4NmU0ZjIuc2V0Q29udGVudChodG1sXzgyOTY4YmY5YzM3MzQ5YmE5Mjc3OGYxYTYzMmFiNmUwKTsKICAgICAgICAKCiAgICAgICAgbWFya2VyXzBiMDA1OTdjYzliYzQ2NjU5ODQzZDY5YzZkNzM3MGU4LmJpbmRQb3B1cChwb3B1cF82MWNhYTc5ZDExYzg0ZDY5Yjk2OWU5ZjA3Yjg2ZTRmMikKICAgICAgICA7CgogICAgICAgIAogICAgCjwvc2NyaXB0Pg==\" style=\"position:absolute;width:100%;height:100%;left:0;top:0;border:none !important;\" allowfullscreen webkitallowfullscreen mozallowfullscreen></iframe></div></div>"
      ],
      "text/plain": [
       "<folium.folium.Map at 0x12752b710>"
      ]
     },
     "execution_count": 54,
     "metadata": {
      "tags": []
     },
     "output_type": "execute_result"
    }
   ],
   "source": [
    "# import libraries\n",
    "import folium\n",
    "import pandas as pd\n",
    " \n",
    "lat_list = []\n",
    "lon_list= []\n",
    "color_list= []\n",
    "for idx,i in enumerate(dict_location):\n",
    "    lat_list.append(dict_location[i][0])\n",
    "    lon_list.append(dict_location[i][1])\n",
    "    color_list.append(color[idx])\n",
    "    \n",
    "color_list\n",
    "    \n",
    "# Make a data frame with dots to show on the map\n",
    "data = pd.DataFrame({\n",
    "'lat': lat_list,\n",
    "'lon': lon_list,\n",
    "'name':['HQ','1','2','3','4','5','6'],\n",
    "'color_list' : color_list\n",
    "})\n",
    "data\n",
    " \n",
    "# Make an empty map\n",
    "# m = folium.Map(location=[20, 0], tiles=\"Mapbox Bright\", zoom_start=2)\n",
    "m = folium.Map(location=[mean(lat_list), mean(lon_list)], tiles=\"cartodbpositron\", zoom_start = 11)\n",
    "\n",
    " \n",
    "# I can add marker one by one on the map\n",
    "for i in range(0,len(data)):\n",
    "    folium.Marker([data.iloc[i]['lat'], data.iloc[i]['lon']], popup=data.iloc[i]['name'], icon=folium.Icon(color=data.iloc[i]['color_list'], icon='none')).add_to(m)\n",
    "\n",
    "m"
   ]
  },
  {
   "cell_type": "code",
   "execution_count": 0,
   "metadata": {
    "colab": {},
    "colab_type": "code",
    "id": "n2FqCIux0Os6"
   },
   "outputs": [],
   "source": []
  },
  {
   "cell_type": "markdown",
   "metadata": {
    "colab_type": "text",
    "id": "Vj1YhagD0Os8"
   },
   "source": [
    "## References\n",
    "Ikonen, T. J., & Harjunkoski, I. (2019). Incorporation of parameter prediction models of different fidelity into job shop scheduling. IFAC-PapersOnLine, 52(1), 142-147. doi:10.1016/j.ifacol.2019.06.051"
   ]
  },
  {
   "cell_type": "code",
   "execution_count": 0,
   "metadata": {
    "colab": {},
    "colab_type": "code",
    "id": "xo3v0jTg0Os8"
   },
   "outputs": [],
   "source": []
  }
 ],
 "metadata": {
  "colab": {
   "collapsed_sections": [
    "5isLVLTO0OsF"
   ],
   "name": "new_taxi.ipynb",
   "provenance": [],
   "version": "0.3.2"
  },
  "kernelspec": {
   "display_name": "Python 3",
   "language": "python",
   "name": "python3"
  },
  "language_info": {
   "codemirror_mode": {
    "name": "ipython",
    "version": 3
   },
   "file_extension": ".py",
   "mimetype": "text/x-python",
   "name": "python",
   "nbconvert_exporter": "python",
   "pygments_lexer": "ipython3",
   "version": "3.7.3"
  }
 },
 "nbformat": 4,
 "nbformat_minor": 1
}
