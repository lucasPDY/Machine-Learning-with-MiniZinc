{
 "cells": [
  {
   "cell_type": "markdown",
   "metadata": {
    "colab_type": "text",
    "id": "8k4V81Me0Ori"
   },
   "source": [
    "# Case  Study of  Vehicle Routing Problem with Parameter Prediction Model using Sklearn and MiniZinc"
   ]
  },
  {
   "cell_type": "markdown",
   "metadata": {
    "colab_type": "text",
    "id": "SewzU7ix0Orj"
   },
   "source": [
    "## Overview\n",
    "This case study is adapted from [\"Incorporation of parameter prediction models of different fidelity into job shop scheduling\"](https://www.sciencedirect.com/science/article/pii/S2405896319301363). In the study, the researchers used a [publicly available dataset](https://www.kaggle.com/c/nyc-taxi-trip-duration) to propose a scheduling problem.\n",
    "\n",
    "#### Here is the excerpt of the problem:\n",
    "\n",
    "\" We now define a scheduling problem that is based on the dataset but has features that are transferable to industrial job shop scheduling. Let us consider a company, which **head quarter is at Wall Street 2**, located at the South West tip of Manhattan. \n",
    "\n",
    "The company performs surveys at remote sites located around NYC. In order to perform a survey, an employee of the company travels to the site by taxi, performs the survey and travels back to the head quarter. We refer to this combination of the outbound taxi trip, the survey and the inbound taxi trip as a task. When performing a survey, an employee relies on a survey team that is based at the head quarter. We consider both taxis and survey teams as processing units, and define the number of both types of units to be two. The number of traveling employees is not restricted. In addition, a taxi that drops off an employee to location A is defined to be instantly available to pick up another employee from location B. \n",
    "\n",
    "The objective of the scheduling optimization is to minimize the make span ms of performing surveys at **six different sites located in NYC**. The durations of outbound and inbound taxi trips are predicted , whereas the duration of conducting a survey is fixed to 1800 s. \"\n",
    "\n",
    "#### Steps:\n",
    " [1. Import Libraries](#1) <br>\n",
    " [2. Get The Data Ready](#2) <br>\n",
    " <li style=\"color:white\"> [2.1. Import Data](#21) </li>\n",
    " <li style=\"color:white\">   [2.2. Clean and Filter Data](#22) </li>\n",
    "[3. PREDICT : Choose and Create Prediction Model](#3) <br>\n",
    "[4. OPTIMIZE : Create MiniZinc Model](#4) <br>\n",
    "[5. Visualization ](#5) <br>\n",
    "\n",
    "\n",
    "\n"
   ]
  },
  {
   "cell_type": "markdown",
   "metadata": {
    "colab_type": "text",
    "id": "ThHYGxeG0Ork"
   },
   "source": [
    "## 1. Import the Libraries <a class=\"anchor\" id=\"1\"></a>\n",
    "\n",
    "We will use some common python libraries in this project.\n",
    "\n",
    "However, for the installation of Altair Library, please follow this [documentation](https://altair-viz.github.io/getting_started/installation.html).\n"
   ]
  },
  {
   "cell_type": "code",
   "execution_count": 1,
   "metadata": {
    "colab": {},
    "colab_type": "code",
    "id": "dzUNyIAN0Orl"
   },
   "outputs": [],
   "source": [
    "import numpy as np\n",
    "import pandas as pd\n",
    "import matplotlib.pyplot as plt\n",
    "from statistics import mean \n",
    "import altair as alt # Library for drawing the Gantt Chart\n",
    "import folium # Library to draw maps\n",
    "from math import sin, cos, sqrt, atan2, radians # Library for counting the distance between two points\n",
    "\n",
    "# Sklearn library\n",
    "from sklearn.tree import DecisionTreeRegressor\n",
    "from sklearn.ensemble import RandomForestRegressor\n",
    "from sklearn.linear_model import LinearRegression\n",
    "from sklearn.ensemble import BaggingRegressor\n",
    "from sklearn import model_selection\n",
    "from sklearn.model_selection import train_test_split"
   ]
  },
  {
   "cell_type": "markdown",
   "metadata": {},
   "source": [
    "## 2. Get The Data Ready <a class=\"anchor\" id=\"2\"></a>"
   ]
  },
  {
   "cell_type": "markdown",
   "metadata": {
    "colab_type": "text",
    "id": "xfvn5iR50Oro"
   },
   "source": [
    "### 2.1 Import Data <a class=\"anchor\" id=\"21\"></a>\n",
    "\n",
    "Get The Kaggle's [NYC Taxi Trip Duration Dataset](https://www.kaggle.com/c/nyc-taxi-trip-duration) as the input parameter for the predictive model."
   ]
  },
  {
   "cell_type": "code",
   "execution_count": 2,
   "metadata": {
    "colab": {},
    "colab_type": "code",
    "id": "oD8ZU89f0Orp",
    "outputId": "3ecd4bc0-4757-4350-f832-f82e91ac2969",
    "scrolled": true
   },
   "outputs": [
    {
     "data": {
      "text/plain": [
       "(1458644, 11)"
      ]
     },
     "metadata": {},
     "output_type": "display_data"
    },
    {
     "data": {
      "text/html": [
       "<div>\n",
       "<style scoped>\n",
       "    .dataframe tbody tr th:only-of-type {\n",
       "        vertical-align: middle;\n",
       "    }\n",
       "\n",
       "    .dataframe tbody tr th {\n",
       "        vertical-align: top;\n",
       "    }\n",
       "\n",
       "    .dataframe thead th {\n",
       "        text-align: right;\n",
       "    }\n",
       "</style>\n",
       "<table border=\"1\" class=\"dataframe\">\n",
       "  <thead>\n",
       "    <tr style=\"text-align: right;\">\n",
       "      <th></th>\n",
       "      <th>id</th>\n",
       "      <th>vendor_id</th>\n",
       "      <th>pickup_datetime</th>\n",
       "      <th>dropoff_datetime</th>\n",
       "      <th>passenger_count</th>\n",
       "      <th>pickup_longitude</th>\n",
       "      <th>pickup_latitude</th>\n",
       "      <th>dropoff_longitude</th>\n",
       "      <th>dropoff_latitude</th>\n",
       "      <th>store_and_fwd_flag</th>\n",
       "      <th>trip_duration</th>\n",
       "    </tr>\n",
       "  </thead>\n",
       "  <tbody>\n",
       "    <tr>\n",
       "      <th>0</th>\n",
       "      <td>id2875421</td>\n",
       "      <td>2</td>\n",
       "      <td>2016-03-14 17:24:55</td>\n",
       "      <td>2016-03-14 17:32:30</td>\n",
       "      <td>1</td>\n",
       "      <td>-73.982155</td>\n",
       "      <td>40.767937</td>\n",
       "      <td>-73.964630</td>\n",
       "      <td>40.765602</td>\n",
       "      <td>N</td>\n",
       "      <td>455</td>\n",
       "    </tr>\n",
       "    <tr>\n",
       "      <th>1</th>\n",
       "      <td>id2377394</td>\n",
       "      <td>1</td>\n",
       "      <td>2016-06-12 00:43:35</td>\n",
       "      <td>2016-06-12 00:54:38</td>\n",
       "      <td>1</td>\n",
       "      <td>-73.980415</td>\n",
       "      <td>40.738564</td>\n",
       "      <td>-73.999481</td>\n",
       "      <td>40.731152</td>\n",
       "      <td>N</td>\n",
       "      <td>663</td>\n",
       "    </tr>\n",
       "    <tr>\n",
       "      <th>2</th>\n",
       "      <td>id3858529</td>\n",
       "      <td>2</td>\n",
       "      <td>2016-01-19 11:35:24</td>\n",
       "      <td>2016-01-19 12:10:48</td>\n",
       "      <td>1</td>\n",
       "      <td>-73.979027</td>\n",
       "      <td>40.763939</td>\n",
       "      <td>-74.005333</td>\n",
       "      <td>40.710087</td>\n",
       "      <td>N</td>\n",
       "      <td>2124</td>\n",
       "    </tr>\n",
       "    <tr>\n",
       "      <th>3</th>\n",
       "      <td>id3504673</td>\n",
       "      <td>2</td>\n",
       "      <td>2016-04-06 19:32:31</td>\n",
       "      <td>2016-04-06 19:39:40</td>\n",
       "      <td>1</td>\n",
       "      <td>-74.010040</td>\n",
       "      <td>40.719971</td>\n",
       "      <td>-74.012268</td>\n",
       "      <td>40.706718</td>\n",
       "      <td>N</td>\n",
       "      <td>429</td>\n",
       "    </tr>\n",
       "    <tr>\n",
       "      <th>4</th>\n",
       "      <td>id2181028</td>\n",
       "      <td>2</td>\n",
       "      <td>2016-03-26 13:30:55</td>\n",
       "      <td>2016-03-26 13:38:10</td>\n",
       "      <td>1</td>\n",
       "      <td>-73.973053</td>\n",
       "      <td>40.793209</td>\n",
       "      <td>-73.972923</td>\n",
       "      <td>40.782520</td>\n",
       "      <td>N</td>\n",
       "      <td>435</td>\n",
       "    </tr>\n",
       "  </tbody>\n",
       "</table>\n",
       "</div>"
      ],
      "text/plain": [
       "          id  vendor_id      pickup_datetime     dropoff_datetime  \\\n",
       "0  id2875421          2  2016-03-14 17:24:55  2016-03-14 17:32:30   \n",
       "1  id2377394          1  2016-06-12 00:43:35  2016-06-12 00:54:38   \n",
       "2  id3858529          2  2016-01-19 11:35:24  2016-01-19 12:10:48   \n",
       "3  id3504673          2  2016-04-06 19:32:31  2016-04-06 19:39:40   \n",
       "4  id2181028          2  2016-03-26 13:30:55  2016-03-26 13:38:10   \n",
       "\n",
       "   passenger_count  pickup_longitude  pickup_latitude  dropoff_longitude  \\\n",
       "0                1        -73.982155        40.767937         -73.964630   \n",
       "1                1        -73.980415        40.738564         -73.999481   \n",
       "2                1        -73.979027        40.763939         -74.005333   \n",
       "3                1        -74.010040        40.719971         -74.012268   \n",
       "4                1        -73.973053        40.793209         -73.972923   \n",
       "\n",
       "   dropoff_latitude store_and_fwd_flag  trip_duration  \n",
       "0         40.765602                  N            455  \n",
       "1         40.731152                  N            663  \n",
       "2         40.710087                  N           2124  \n",
       "3         40.706718                  N            429  \n",
       "4         40.782520                  N            435  "
      ]
     },
     "execution_count": 2,
     "metadata": {},
     "output_type": "execute_result"
    }
   ],
   "source": [
    "df = pd.read_csv(\"nyc-taxi-trip-duration/train.csv\")\n",
    "display(df.shape)\n",
    "df.head()"
   ]
  },
  {
   "cell_type": "markdown",
   "metadata": {
    "colab_type": "text",
    "id": "EW8qt-rQ0Ors"
   },
   "source": [
    "### 2.2 Clean and Filter Data <a class=\"anchor\" id=\"22\"></a>\n",
    "\n",
    "It is mentioned in the paper on how to clean and filter the dataset, as below:\n",
    "\n",
    "\"In order to extract the most relevant information from the dataset for our purpose, we create a filtered dataset, in which either the **pick-up or drop-off** location lies within **500m** from **Wall Street**. In addition, we filter trips with **unrealistically long durations** (>20 000 s).\"\n",
    "\n",
    "Thus, we need to create a function to get the distance between two locations."
   ]
  },
  {
   "cell_type": "code",
   "execution_count": 3,
   "metadata": {
    "colab": {},
    "colab_type": "code",
    "id": "E9GgwvDm0Orv"
   },
   "outputs": [],
   "source": [
    "# This function is used to get the distance between the first and second latitude and longitude positition\n",
    "def get_distance_between_points(lat1,lon1,lat2,lon2): \n",
    " \n",
    "    # approximate radius of earth in km\n",
    "    R = 6378.0\n",
    "    lat1 = radians(lat1)\n",
    "    lon1 = radians(lon1)\n",
    "    lat2 = radians(lat2)\n",
    "    lon2 = radians(lon2)\n",
    "    \n",
    "    dlon = lon2 - lon1\n",
    "    dlat = lat2 - lat1\n",
    "\n",
    "    a = sin(dlat / 2)**2 + cos(lat1) * cos(lat2) * sin(dlon / 2)**2\n",
    "    c = 2 * atan2(sqrt(a), sqrt(1 - a))\n",
    "\n",
    "    distance = R * c\n",
    "    return distance"
   ]
  },
  {
   "cell_type": "markdown",
   "metadata": {},
   "source": [
    "Set the Headquarter(wall street) and all of the survey's locations."
   ]
  },
  {
   "cell_type": "code",
   "execution_count": 4,
   "metadata": {
    "colab": {},
    "colab_type": "code",
    "id": "Qfo_BZiJ0Ort"
   },
   "outputs": [],
   "source": [
    "# As the Headquarter\n",
    "wall_street_location = [40.70729,-74.01095]\n",
    "\n",
    "# 6 Survey's location + the headquarter location\n",
    "all_location = [[40.73,-74.05],[40.665,-73.795],[40.77,-73.995],[40.74,-73.99],[40.695,-73.95],[40.767,-73.875],[40.70729,-74.01095]]\n",
    "\n",
    "# Give the label for the data\n",
    "all_location_label = [\"1\",\"2\",\"3\",\"4\",\"5\",\"6\",\"HQ\"]\n",
    "\n",
    "dict_location = dict(zip(all_location_label, all_location))\n"
   ]
  },
  {
   "cell_type": "markdown",
   "metadata": {},
   "source": [
    "calculate the distance to filter the data"
   ]
  },
  {
   "cell_type": "code",
   "execution_count": 5,
   "metadata": {
    "colab": {},
    "colab_type": "code",
    "id": "ln54UlRG0Orx"
   },
   "outputs": [
    {
     "name": "stderr",
     "output_type": "stream",
     "text": [
      "/Users/lilianaester/anaconda3/lib/python3.7/site-packages/pandas/core/frame.py:4025: SettingWithCopyWarning: \n",
      "A value is trying to be set on a copy of a slice from a DataFrame\n",
      "\n",
      "See the caveats in the documentation: http://pandas.pydata.org/pandas-docs/stable/indexing.html#indexing-view-versus-copy\n",
      "  return super(DataFrame, self).rename(**kwargs)\n",
      "/Users/lilianaester/anaconda3/lib/python3.7/site-packages/ipykernel_launcher.py:25: FutureWarning: Sorting because non-concatenation axis is not aligned. A future version\n",
      "of pandas will change to not sort by default.\n",
      "\n",
      "To accept the future behavior, pass 'sort=False'.\n",
      "\n",
      "To retain the current behavior and silence the warning, pass 'sort=True'.\n",
      "\n"
     ]
    },
    {
     "data": {
      "text/html": [
       "<div>\n",
       "<style scoped>\n",
       "    .dataframe tbody tr th:only-of-type {\n",
       "        vertical-align: middle;\n",
       "    }\n",
       "\n",
       "    .dataframe tbody tr th {\n",
       "        vertical-align: top;\n",
       "    }\n",
       "\n",
       "    .dataframe thead th {\n",
       "        text-align: right;\n",
       "    }\n",
       "</style>\n",
       "<table border=\"1\" class=\"dataframe\">\n",
       "  <thead>\n",
       "    <tr style=\"text-align: right;\">\n",
       "      <th></th>\n",
       "      <th>destination_latitude</th>\n",
       "      <th>destination_longitude</th>\n",
       "      <th>dist_dropoff_to_wall_street</th>\n",
       "      <th>dist_pickup_to_wall_street</th>\n",
       "      <th>dropoff_datetime</th>\n",
       "      <th>id</th>\n",
       "      <th>origin_latitude</th>\n",
       "      <th>origin_longitude</th>\n",
       "      <th>passenger_count</th>\n",
       "      <th>pickup_datetime</th>\n",
       "      <th>store_and_fwd_flag</th>\n",
       "      <th>trip_duration</th>\n",
       "      <th>vendor_id</th>\n",
       "      <th>dist_pickup_to_dropoff</th>\n",
       "    </tr>\n",
       "  </thead>\n",
       "  <tbody>\n",
       "    <tr>\n",
       "      <th>3</th>\n",
       "      <td>40.719971</td>\n",
       "      <td>-74.010040</td>\n",
       "      <td>0.128136</td>\n",
       "      <td>1.413665</td>\n",
       "      <td>2016-04-06 19:39:40</td>\n",
       "      <td>id3504673</td>\n",
       "      <td>40.706718</td>\n",
       "      <td>-74.012268</td>\n",
       "      <td>1</td>\n",
       "      <td>2016-04-06 19:32:31</td>\n",
       "      <td>N</td>\n",
       "      <td>429</td>\n",
       "      <td>2</td>\n",
       "      <td>1.487131</td>\n",
       "    </tr>\n",
       "    <tr>\n",
       "      <th>79</th>\n",
       "      <td>40.758850</td>\n",
       "      <td>-73.980316</td>\n",
       "      <td>0.255134</td>\n",
       "      <td>6.294377</td>\n",
       "      <td>2016-04-12 21:49:06</td>\n",
       "      <td>id0982165</td>\n",
       "      <td>40.705082</td>\n",
       "      <td>-74.010139</td>\n",
       "      <td>1</td>\n",
       "      <td>2016-04-12 21:29:16</td>\n",
       "      <td>N</td>\n",
       "      <td>1190</td>\n",
       "      <td>2</td>\n",
       "      <td>6.492507</td>\n",
       "    </tr>\n",
       "    <tr>\n",
       "      <th>111</th>\n",
       "      <td>40.769772</td>\n",
       "      <td>-73.863678</td>\n",
       "      <td>0.412659</td>\n",
       "      <td>14.236269</td>\n",
       "      <td>2016-05-22 18:20:01</td>\n",
       "      <td>id0589360</td>\n",
       "      <td>40.704895</td>\n",
       "      <td>-74.007217</td>\n",
       "      <td>1</td>\n",
       "      <td>2016-05-22 17:34:08</td>\n",
       "      <td>N</td>\n",
       "      <td>2753</td>\n",
       "      <td>1</td>\n",
       "      <td>14.097312</td>\n",
       "    </tr>\n",
       "    <tr>\n",
       "      <th>275</th>\n",
       "      <td>40.717850</td>\n",
       "      <td>-74.000122</td>\n",
       "      <td>0.405326</td>\n",
       "      <td>1.488783</td>\n",
       "      <td>2016-01-06 15:38:22</td>\n",
       "      <td>id0860600</td>\n",
       "      <td>40.709675</td>\n",
       "      <td>-74.014580</td>\n",
       "      <td>1</td>\n",
       "      <td>2016-01-06 15:23:44</td>\n",
       "      <td>N</td>\n",
       "      <td>878</td>\n",
       "      <td>1</td>\n",
       "      <td>1.521914</td>\n",
       "    </tr>\n",
       "    <tr>\n",
       "      <th>306</th>\n",
       "      <td>40.726902</td>\n",
       "      <td>-73.985840</td>\n",
       "      <td>0.455422</td>\n",
       "      <td>3.042130</td>\n",
       "      <td>2016-06-26 11:30:33</td>\n",
       "      <td>id0105984</td>\n",
       "      <td>40.704067</td>\n",
       "      <td>-74.014275</td>\n",
       "      <td>1</td>\n",
       "      <td>2016-06-26 11:17:25</td>\n",
       "      <td>N</td>\n",
       "      <td>788</td>\n",
       "      <td>1</td>\n",
       "      <td>3.495305</td>\n",
       "    </tr>\n",
       "  </tbody>\n",
       "</table>\n",
       "</div>"
      ],
      "text/plain": [
       "     destination_latitude  destination_longitude  dist_dropoff_to_wall_street  \\\n",
       "3               40.719971             -74.010040                     0.128136   \n",
       "79              40.758850             -73.980316                     0.255134   \n",
       "111             40.769772             -73.863678                     0.412659   \n",
       "275             40.717850             -74.000122                     0.405326   \n",
       "306             40.726902             -73.985840                     0.455422   \n",
       "\n",
       "     dist_pickup_to_wall_street     dropoff_datetime         id  \\\n",
       "3                      1.413665  2016-04-06 19:39:40  id3504673   \n",
       "79                     6.294377  2016-04-12 21:49:06  id0982165   \n",
       "111                   14.236269  2016-05-22 18:20:01  id0589360   \n",
       "275                    1.488783  2016-01-06 15:38:22  id0860600   \n",
       "306                    3.042130  2016-06-26 11:30:33  id0105984   \n",
       "\n",
       "     origin_latitude  origin_longitude  passenger_count      pickup_datetime  \\\n",
       "3          40.706718        -74.012268                1  2016-04-06 19:32:31   \n",
       "79         40.705082        -74.010139                1  2016-04-12 21:29:16   \n",
       "111        40.704895        -74.007217                1  2016-05-22 17:34:08   \n",
       "275        40.709675        -74.014580                1  2016-01-06 15:23:44   \n",
       "306        40.704067        -74.014275                1  2016-06-26 11:17:25   \n",
       "\n",
       "    store_and_fwd_flag  trip_duration  vendor_id  dist_pickup_to_dropoff  \n",
       "3                    N            429          2                1.487131  \n",
       "79                   N           1190          2                6.492507  \n",
       "111                  N           2753          1               14.097312  \n",
       "275                  N            878          1                1.521914  \n",
       "306                  N            788          1                3.495305  "
      ]
     },
     "execution_count": 5,
     "metadata": {},
     "output_type": "execute_result"
    }
   ],
   "source": [
    "# Get the distance from either pickup or dropoff location to the wall street\n",
    "df['dist_pickup_to_wall_street'] = np.vectorize(get_distance_between_points)(wall_street_location[0],wall_street_location[1],df['pickup_latitude'], df['pickup_longitude'])\n",
    "df['dist_dropoff_to_wall_street'] = np.vectorize(get_distance_between_points)(wall_street_location[0],wall_street_location[1],df['dropoff_latitude'], df['dropoff_longitude'])\n",
    "\n",
    "# Filtered based on the location and the trip durations\n",
    "df_pickup = df[( df['dist_pickup_to_wall_street'] <= 0.5)& (df['trip_duration'] < 20000)]\n",
    "df_dropoff = df[( df['dist_dropoff_to_wall_street'] <= 0.5)& (df['trip_duration'] < 20000)]\n",
    "\n",
    "# Rename the columns name for the concatenation purpose\n",
    "df_pickup.rename(columns={\n",
    "    'dropoff_latitude' : 'destination_latitude',\n",
    "    'dropoff_longitude' : 'destination_longitude',\n",
    "    'pickup_latitude' : 'origin_latitude',\n",
    "    'pickup_longitude' : 'origin_longitude'\n",
    "}, inplace= True)\n",
    "\n",
    "df_dropoff.rename(columns={\n",
    "    'dropoff_latitude' : 'origin_latitude',\n",
    "    'dropoff_longitude' : 'origin_longitude',\n",
    "    'pickup_latitude' : 'destination_latitude',\n",
    "    'pickup_longitude' : 'destination_longitude'\n",
    "}, inplace= True)\n",
    "\n",
    "# concate those two dataframe\n",
    "tempp = pd.concat([df_dropoff, df_pickup])\n",
    "\n",
    "# Calculate distance between origin and destination locations\n",
    "tempp['dist_pickup_to_dropoff'] = np.vectorize(get_distance_between_points)(tempp['origin_latitude'],tempp['origin_longitude'],tempp['destination_latitude'], tempp['destination_longitude'])\n",
    "tempp.head()"
   ]
  },
  {
   "cell_type": "markdown",
   "metadata": {
    "colab_type": "text",
    "id": "5isLVLTO0OsF"
   },
   "source": [
    "## 3 PREDICT: Choose and Create Prediction Model <a class=\"anchor\" id=\"3\"></a>\n",
    "\n",
    "In order to create the model, we will simply try 5 different algorithms from sklearn library, and evaluate its performance. \n",
    "\n",
    "Those algorithms are :\n",
    "<li>Linear Regression</li>\n",
    "<li>Decision Tree Regressor</li>\n",
    "<li>Big Random Forest Regressor</li>\n",
    "<li>Random Forest Regressor</li>\n",
    "<li>BaggingRegressor</li>\n",
    "\n",
    "<br>\n",
    "\n",
    "**Input Parameters:**\n",
    "- Destination Latitude\n",
    "- Destination Longitude\n",
    "- Distance pickup to dropodd\n",
    "- Trip Duration\n",
    "\n",
    "**Target Parameter :** Trip Duration"
   ]
  },
  {
   "cell_type": "code",
   "execution_count": 6,
   "metadata": {
    "colab": {},
    "colab_type": "code",
    "id": "a6hkH_9q0OsG"
   },
   "outputs": [],
   "source": [
    " \n",
    "temp_df = tempp[['destination_latitude','destination_longitude','dist_pickup_to_dropoff','trip_duration']].copy()\n",
    "\n",
    "# Declare the model\n",
    "\n",
    "experiments = {\"Algorithm\":[\"Ordinary Least Squares\", \"Regression Tree\", \n",
    "                            \"Big Random Forest\", \"Random Forest\", \n",
    "                            \"Bagging\"], \n",
    "               \"Objects\" : [lambda : LinearRegression(), \n",
    "                            lambda : DecisionTreeRegressor(), \n",
    "                            lambda : RandomForestRegressor(n_estimators=100), \n",
    "                            lambda : RandomForestRegressor(n_estimators=10), \n",
    "                            lambda : BaggingRegressor()], \n",
    "               \"Predictions\":[[] for _ in range(5)]}\n",
    "actuals = []"
   ]
  },
  {
   "cell_type": "code",
   "execution_count": 7,
   "metadata": {
    "colab": {},
    "colab_type": "code",
    "id": "7DDoNdx80OsI",
    "outputId": "eecbf553-868e-4c7d-9bda-359560e5ce87"
   },
   "outputs": [
    {
     "data": {
      "text/html": [
       "<div>\n",
       "<style scoped>\n",
       "    .dataframe tbody tr th:only-of-type {\n",
       "        vertical-align: middle;\n",
       "    }\n",
       "\n",
       "    .dataframe tbody tr th {\n",
       "        vertical-align: top;\n",
       "    }\n",
       "\n",
       "    .dataframe thead th {\n",
       "        text-align: right;\n",
       "    }\n",
       "</style>\n",
       "<table border=\"1\" class=\"dataframe\">\n",
       "  <thead>\n",
       "    <tr style=\"text-align: right;\">\n",
       "      <th></th>\n",
       "      <th>Results</th>\n",
       "    </tr>\n",
       "    <tr>\n",
       "      <th>Algorithm</th>\n",
       "      <th></th>\n",
       "    </tr>\n",
       "  </thead>\n",
       "  <tbody>\n",
       "    <tr>\n",
       "      <th>Ordinary Least Squares</th>\n",
       "      <td>0.568671</td>\n",
       "    </tr>\n",
       "    <tr>\n",
       "      <th>Regression Tree</th>\n",
       "      <td>0.233700</td>\n",
       "    </tr>\n",
       "    <tr>\n",
       "      <th>Big Random Forest</th>\n",
       "      <td>0.582372</td>\n",
       "    </tr>\n",
       "    <tr>\n",
       "      <th>Random Forest</th>\n",
       "      <td>0.555594</td>\n",
       "    </tr>\n",
       "    <tr>\n",
       "      <th>Bagging</th>\n",
       "      <td>0.553416</td>\n",
       "    </tr>\n",
       "  </tbody>\n",
       "</table>\n",
       "</div>"
      ],
      "text/plain": [
       "                         Results\n",
       "Algorithm                       \n",
       "Ordinary Least Squares  0.568671\n",
       "Regression Tree         0.233700\n",
       "Big Random Forest       0.582372\n",
       "Random Forest           0.555594\n",
       "Bagging                 0.553416"
      ]
     },
     "execution_count": 7,
     "metadata": {},
     "output_type": "execute_result"
    }
   ],
   "source": [
    "# This cell needs sometimes to finish for it will runs 5 different models and evaluate the result\n",
    "\n",
    "for _ in range (4):\n",
    "    train_X, test_X, train_y, test_y = (\n",
    "        train_test_split(temp_df.drop(\"trip_duration\", axis=1), \n",
    "                         temp_df[\"trip_duration\"], test_size=0.33))\n",
    "    for i, obj_factory in enumerate(experiments[\"Objects\"]):\n",
    "        obj = obj_factory()\n",
    "        obj.fit(y=train_y,X=train_X)\n",
    "        experiments[\"Predictions\"][i] += list(obj.predict(test_X))\n",
    "    actuals += list(test_y)\n",
    "actuals = pd.Series(actuals)\n",
    "experiments[\"Predictions\"] = list(map(pd.Series, experiments[\"Predictions\"]))\n",
    "\n",
    "# Get the performance of every model\n",
    "experiments[\"Results\"] = []\n",
    "for o in experiments[\"Objects\"]:\n",
    "    experiments[\"Results\"].append(\n",
    "        model_selection.cross_val_score(o(), y=temp_df['trip_duration'], \n",
    "                                        X=temp_df.drop(\"trip_duration\", axis=1),\n",
    "                                        cv=5).mean())\n",
    "\n",
    "pd.DataFrame(experiments).drop([\"Objects\", \"Predictions\"], \n",
    "                            axis=1).set_index(\"Algorithm\")"
   ]
  },
  {
   "cell_type": "markdown",
   "metadata": {
    "colab_type": "text",
    "id": "BGnI0bWH0OsJ"
   },
   "source": [
    "Big random forest performance very well compare to the other. So, in this case, we will use big random forest as the algorithm to predict the trip duration. To easily re-produce the model, it is important to create the model in a function."
   ]
  },
  {
   "cell_type": "code",
   "execution_count": 30,
   "metadata": {
    "colab": {},
    "colab_type": "code",
    "id": "R52mnFTn0OsK"
   },
   "outputs": [],
   "source": [
    "def create_model(df, origin_location,sites_dictionary):\n",
    "    '''\n",
    "    parameters : \n",
    "        - df = the training dataframe\n",
    "        - origin_location = the origin location\n",
    "        - sites_dictionary = all location sites + HQ location\n",
    "        \n",
    "    output:\n",
    "    a list of float that tell the time needed to go to every sites from a given origin location.\n",
    "    '''\n",
    "    train_X, test_X, train_y, test_y = ( train_test_split(df.drop(\"trip_duration\", axis=1), \n",
    "                             df[\"trip_duration\"], test_size=0.33))\n",
    "\n",
    "    obj = RandomForestRegressor(n_estimators=100)\n",
    "    obj.fit(y=train_y,X=train_X)\n",
    "\n",
    "    ## CREATE THE SAMPLE FOR THE MODEL\n",
    "    sample_lat = []\n",
    "    sample_lng = []\n",
    "    sample_distance = []\n",
    "\n",
    "    for k,v in sites_dictionary.items():\n",
    "        sample_lat.append(v[0])\n",
    "        sample_lng.append(v[1])\n",
    "        sample_distance.append(get_distance_between_points(origin_location[0],origin_location[1],v[0],v[1]))\n",
    "        \n",
    "    \n",
    "    d = {\n",
    "    'destination_latitude' : sample_lat,\n",
    "    'destination_longitude' : sample_lng,\n",
    "    'dist_pickup_to_dropoff': sample_distance\n",
    "    }\n",
    "    \n",
    "    temp_pred_df = pd.DataFrame(d)  \n",
    "    \n",
    "    temp_pred_df['predicted_duration'] = obj.predict(temp_pred_df)\n",
    "    return temp_pred_df"
   ]
  },
  {
   "cell_type": "code",
   "execution_count": 31,
   "metadata": {
    "colab": {},
    "colab_type": "code",
    "id": "nF-0ipy90OsS",
    "outputId": "4c530d51-82ff-4352-d6fc-e4d0b3ddb4a3"
   },
   "outputs": [
    {
     "name": "stdout",
     "output_type": "stream",
     "text": [
      "[715, 3378, 1407, 1399, 2076, 2449, 812]\n",
      "[2381, 1432, 3064, 2277, 1993, 2173, 2184]\n",
      "[3052, 3078, 1659, 947, 2078, 1993, 1392]\n",
      "[2686, 2945, 1051, 1753, 1177, 2397, 895]\n",
      "[1291, 3857, 2053, 1275, 1502, 2253, 1195]\n",
      "[2222, 3179, 1874, 1622, 2184, 1246, 1920]\n",
      "[968, 2781, 1617, 1312, 1245, 1725, 540]\n"
     ]
    }
   ],
   "source": [
    "# Get the predicted time duration matrix\n",
    "prediction_list = []\n",
    "for i in dict_location:\n",
    "    tdf = create_model(temp_df,dict_location[str(i)], dict_location)\n",
    "    prediction_list.append(list(tdf['predicted_duration'].apply(lambda x : int(x))))\n",
    "    print(list(tdf['predicted_duration'].apply(lambda x : int(x))))"
   ]
  },
  {
   "cell_type": "code",
   "execution_count": 32,
   "metadata": {
    "colab": {},
    "colab_type": "code",
    "id": "pMQxAH6B0OsW",
    "outputId": "4231ef05-3f9f-420a-9fcd-8dc96c84e3c6"
   },
   "outputs": [
    {
     "data": {
      "text/plain": [
       "[[0, 3378, 1407, 1399, 2076, 2449, 812],\n",
       " [2381, 0, 3064, 2277, 1993, 2173, 2184],\n",
       " [3052, 3078, 0, 947, 2078, 1993, 1392],\n",
       " [2686, 2945, 1051, 0, 1177, 2397, 895],\n",
       " [1291, 3857, 2053, 1275, 0, 2253, 1195],\n",
       " [2222, 3179, 1874, 1622, 2184, 0, 1920],\n",
       " [968, 2781, 1617, 1312, 1245, 1725, 0]]"
      ]
     },
     "execution_count": 32,
     "metadata": {},
     "output_type": "execute_result"
    }
   ],
   "source": [
    "# For every data in the diagonal(time duration from the same place) need to be set to 0.\n",
    "\n",
    "for i in range(len(prediction_list)):\n",
    "    prediction_list[i][i] = 0\n",
    "prediction_list\n"
   ]
  },
  {
   "cell_type": "markdown",
   "metadata": {},
   "source": [
    "## 4. OPTIMIZE: Create MiniZinc Model <a class=\"anchor\" id=\"4\"></a>\n",
    "\n",
    "iMiniZinc Installation guide : https://github.com/MiniZinc/iminizinc"
   ]
  },
  {
   "cell_type": "code",
   "execution_count": 33,
   "metadata": {
    "colab": {},
    "colab_type": "code",
    "id": "C5swrC2v0OsY",
    "outputId": "910935d0-49f5-4b19-8198-cbe538d69ce9"
   },
   "outputs": [
    {
     "name": "stdout",
     "output_type": "stream",
     "text": [
      "The iminizinc extension is already loaded. To reload it, use:\n",
      "  %reload_ext iminizinc\n"
     ]
    }
   ],
   "source": [
    "%load_ext iminizinc"
   ]
  },
  {
   "cell_type": "code",
   "execution_count": 34,
   "metadata": {
    "colab": {},
    "colab_type": "code",
    "id": "bLB4-faI0Osa"
   },
   "outputs": [],
   "source": [
    "# Data for Minizinc\n",
    "dist = prediction_list # The distance matrix\n",
    "NumLocs= 7; # Number of sites + 1 (headquarter)\n",
    "surveyTime = 1800"
   ]
  },
  {
   "cell_type": "code",
   "execution_count": 35,
   "metadata": {
    "colab": {},
    "colab_type": "code",
    "id": "SdDCZ4ua0Osm"
   },
   "outputs": [],
   "source": [
    "%%mzn_model taxi_model\n",
    "%\n",
    "% Vehicle Routing Problem\n",
    "%\n",
    "\n",
    "% Location data\n",
    "\n",
    "% Locations\n",
    "int: NumLocs;\n",
    "set of int: Locations = 1..NumLocs;\n",
    "\n",
    "array [Locations, Locations] of int: dist;\n",
    "\n",
    "\n",
    "% Survey\n",
    "int: N = NumLocs - 1;\n",
    "\n",
    "% Vehicles\n",
    "int: NumRoutes = 4*N; % Worst Case \n",
    "set of int: Vehicles = 1..NumRoutes;  % One Vehicle for each Route\n",
    "\n",
    "% Survey Time\n",
    "% We assume that the amount of time it takes to do a survey is constant, e.g. 70000 seconds\n",
    "int: surveyTime;\n",
    "\n",
    "\n",
    "% =====================================\n",
    "% Model\n",
    "% =====================================\n",
    "\n",
    "include \"globals.mzn\";\n",
    "\n",
    "% Define sets of nodes\n",
    "\n",
    "% Survey locations have 2 states, a start and an end state\n",
    "set of int: ArriveSurvey = 1..N;\n",
    "set of int: LeaveSurvey = N+1..2*N;\n",
    "% 1..2*N represent survey nodes, anything greater is a Depot Node  \n",
    "% At the worst case, A taxi will visit all survey nodes\n",
    "set of int: TaxiStart1 = 2*N+1..4*N;  % All Starting Nodes for Taxi 1\n",
    "set of int: TaxiStart2  = 4*N+1..6*N; % All Starting Nodes for Taxi 2\n",
    "set of int: Taxi = 1..4*N; % All Taxis\n",
    "set of int: TaxiEnd1 = 6*N+1..8*N; % All Ending Nodes for Taxi 1\n",
    "set of int: TaxiEnd2 = 8*N+1..10*N; % All Ending Nodes for Taxi 2\n",
    "\n",
    "% All Nodes\n",
    "set of int: Visits = 1..max(TaxiEnd2);\n",
    "% All Survey Nodes plus Taxi Starting Nodes\n",
    "set of int: SurveyPlusStarts = 1..max(TaxiStart2);\n",
    "\n",
    "\n",
    "% Array of Distances between 2 points i and j\n",
    "% Extended array of distances, including the depot start/end nodes.\n",
    "array[Visits,Visits] of int: visit_dist = array2d(Visits,Visits,\n",
    "  [if i> 2 * N /\\ j > 2 * N then 0  % Distance between Depots\n",
    "   elseif i > 2 * N then dist[NumLocs,(j mod N) + 1] % Distance between Depots and Survey (i > Survey)\n",
    "   elseif j> 2 * N then dist[(i mod N)+1,NumLocs] % Distance between Survey and Depot (j > Survey)\n",
    "   elseif i + N = j then 0\n",
    "   elseif j + N = i then 0               % Distance between the same depots is 0\n",
    "   else dist[(i mod N)+1 ,(j mod N)+1] endif | i,j in Visits]); % Euclidean Distance for the rest\n",
    "\n",
    "% =====================================\n",
    "% Decision variables\n",
    "% =====================================\n",
    "\n",
    "% Successor representation\n",
    "array[Visits] of var Visits: successor;\n",
    "\n",
    "% Time (i-th element is the time when the taxi visits the i-th node)\n",
    "array[Visits] of var 0..infinity: time;\n",
    "% Time (i-th element is the time when the i-th survey starts)\n",
    "array[ArriveSurvey] of var 0..infinity: surveyStart;\n",
    "\n",
    "% Mapping from visits to route (vehicle) number\n",
    "array[Visits] of var Vehicles: routeOf;\n",
    "\n",
    "% Objective function:\n",
    "% Maximum time taken to complete all surveys\n",
    "var int: objective = max(time);\n",
    "\n",
    "% =====================================\n",
    "% Problem Constraints\n",
    "% =====================================\n",
    "\n",
    "% Route & Successor Constraints\n",
    "% =====================================\n",
    "\n",
    "% Assign each vehicle depot start node to its route\n",
    "constraint forall (k in Taxi) ( routeOf[2*N + k] = k);\n",
    "\n",
    "% Assign each vehicle depot end node to its route\n",
    "constraint forall (k in Taxi) ( routeOf[6*N + k] = k);\n",
    "\n",
    "% The successors form a circuit (grand tour representation)\n",
    "constraint circuit (successor) ::domain;\n",
    "\n",
    "% successor of an ending taxi node is the next starting taxi node, wraps around to first depot node\n",
    "constraint\n",
    "  forall (k in Taxi)\n",
    "    ( successor[6*N + k] = ( 2*N + 1 + (k mod NumRoutes) ) );\n",
    "\n",
    "% Successor of starting survey node can only be a depot node or an ending survey node\n",
    "constraint forall(k in ArriveSurvey)(successor[k] > N);\n",
    "% Sucessor of ending survey node can only be a depot node or a starting survey node\n",
    "constraint forall(k in LeaveSurvey)(successor[k] <= N \\/ successor[k] >= 2*N + 1);\n",
    "    \n",
    "% Link up the routeOf and successor variables:\n",
    "% Each visit is on the same route as its successor.\n",
    "% This is true for all survey and start visits, but not for the end visits.\n",
    "constraint forall (i in SurveyPlusStarts) ( routeOf[i] = routeOf[successor[i]] );\n",
    "\n",
    "\n",
    "% =====================================\n",
    "% Survey Constraints\n",
    "% =====================================\n",
    "\n",
    "% Survey i should start after or at the time the survey team reaches survey site i\n",
    "constraint forall(i in ArriveSurvey)(surveyStart[i] >= time[i]);\n",
    "% The time the taxi leaves from survey site i should be after 1800 seconds from the time the survey starts\n",
    "constraint forall(i in ArriveSurvey)(surveyStart[i] + surveyTime <= time[i + N]);\n",
    "\n",
    "% This constraint makes sure that at any given time, only 2 surveys maybe be done in parallel\n",
    "% It takes in an array of start times, the amount of time it takes to finish the survey, how many survey teams are used for that survey, and the maximum number of survey teams available\n",
    "constraint cumulative(surveyStart, [surveyTime | i in 1..N], [1 | i in 1..N], 2);\n",
    "\n",
    "% =====================================\n",
    "% Time Constraints\n",
    "% =====================================\n",
    "\n",
    "% Accumulate Time\n",
    "constraint forall(i in Visits where i != 4 * N - 1 /\\ i != 6 * N - 1)(time[successor[i]] >= time[i] + visit_dist[i, successor[i]]);\n",
    "\n",
    "% Starting Taxi times are 0, at 2n + 1 and 4n + 1\n",
    "constraint time[2 * N + 1] = 0;\n",
    "constraint time[4 * N + 1] = 0;\n",
    "\n",
    "% Ending Depot Time should be the same as the next Starting Depot Time, for each Taxi\n",
    "constraint forall(i in 1..2, j in 1..2*N-1)(time[6*N + j + (i-1)*N] = time[2*N + j + 1 + (i-1)*N]);\n",
    "  \n",
    "\n",
    "% =====================================\n",
    "% Symmetry breaking\n",
    "% =====================================\n",
    "\n",
    "% If the successor of the i-th starting taxi node is its ending taxi node, then the successor of \n",
    "% the (i+1)-th starting taxi node will also be its corresponding ending taxi node\n",
    "constraint forall(i in 1..2*N-1) (successor[2*N+i] = 6*N + i -> successor[2*N+i+1] = 6*N + i + 1);\n",
    "\n",
    "% =====================================\n",
    "% Solve and output\n",
    "% =====================================\n",
    "\n",
    "% We want to minimize the time taken to complete all surveys\n",
    "solve\n",
    "  :: int_search ( successor, dom_w_deg, indomain_min, complete)\n",
    "  minimize (objective);\n",
    "\n",
    "output\n",
    "[ \"objective = \", show(objective), \"\\n\" ] ++\n",
    "[ \"successor = \", show(successor), \";\\n\" ] ++\n",
    "[ \"routeOf = \", show(routeOf), \";\\n\"] \n",
    "++ [ \"time = \", show(time), \";\\n\"]\n",
    "++ [ \"surveyStart = \", show(surveyStart), \";\\n\"];"
   ]
  },
  {
   "cell_type": "markdown",
   "metadata": {},
   "source": [
    "Set the time limit of the minizinc model to 30000s.\n",
    "Thus, the minizinc model will produce the **best result** after running for 30000 seconds."
   ]
  },
  {
   "cell_type": "code",
   "execution_count": 36,
   "metadata": {
    "colab": {},
    "colab_type": "code",
    "id": "5vC9xa2e0Oso",
    "outputId": "82e83ea7-f906-4cfa-eebd-f228f4468722"
   },
   "outputs": [
    {
     "name": "stdout",
     "output_type": "stream",
     "text": [
      "WARNING: the --time-out flag has recently been changed.The time-out is now provided in milliseconds instead of seconds\n",
      "% Warning: Unknown or not support variable selection annotation 'dom_w_deg'! Ignore variable selection annotation and replace it by 'input_order'.\n",
      "Solver output:\n",
      "Time limit exceeded!\n",
      "{'successor': [7, 8, 9, 10, 11, 12, 4, 3, 37, 6, 2, 49, 5, 38, 39, 40, 41, 42, 43, 44, 45, 46, 47, 48, 1, 50, 51, 52, 53, 54, 55, 56, 57, 58, 59, 60, 14, 15, 16, 17, 18, 19, 20, 21, 22, 23, 24, 25, 26, 27, 28, 29, 30, 31, 32, 33, 34, 35, 36, 13], 'time': [2781, 5399, 8146, 6574, 1725, 9665, 4581, 7199, 9946, 8374, 3525, 11465, 0, 10841, 10841, 10841, 10841, 10841, 10841, 10841, 10841, 10841, 10841, 0, 0, 12277, 12277, 12277, 12277, 12277, 12277, 12277, 12277, 12277, 12277, 0, 10841, 10841, 10841, 10841, 10841, 10841, 10841, 10841, 10841, 10841, 0, 0, 12277, 12277, 12277, 12277, 12277, 12277, 12277, 12277, 12277, 12277, 0, 0], 'surveyStart': [2781, 5399, 8146, 6574, 1725, 9665], 'routeOf': [13, 1, 1, 13, 1, 13, 13, 1, 1, 13, 1, 13, 1, 2, 3, 4, 5, 6, 7, 8, 9, 10, 11, 12, 13, 14, 15, 16, 17, 18, 19, 20, 21, 22, 23, 24, 1, 2, 3, 4, 5, 6, 7, 8, 9, 10, 11, 12, 13, 14, 15, 16, 17, 18, 19, 20, 21, 22, 23, 24]}\n"
     ]
    }
   ],
   "source": [
    "output = %minizinc taxi_model -t 30000 --solver chuffed\n",
    "print(output)"
   ]
  },
  {
   "cell_type": "code",
   "execution_count": 37,
   "metadata": {
    "colab": {},
    "colab_type": "code",
    "id": "xlCJMTPc0Osq"
   },
   "outputs": [],
   "source": [
    "# Get the minizinc result into a new variable\n",
    "successor = output['successor']\n",
    "surveyStart = output['surveyStart']\n",
    "routeOf = output['routeOf']\n",
    "time= output['time']"
   ]
  },
  {
   "cell_type": "code",
   "execution_count": 38,
   "metadata": {},
   "outputs": [
    {
     "name": "stdout",
     "output_type": "stream",
     "text": [
      "Finished all of the task in : 3:24:37\n"
     ]
    }
   ],
   "source": [
    "m, s = divmod(int(max(time)), 60)\n",
    "h, m = divmod(m, 60)\n",
    "\n",
    "print(\"Finished all of the task in :\",f'{h:d}:{m:02d}:{s:02d}')"
   ]
  },
  {
   "cell_type": "markdown",
   "metadata": {},
   "source": [
    "## 5. Visualization <a class=\"anchor\" id=\"5\"></a>\n",
    "\n",
    "Visualization is the best way to get understand of a data. Thus, in this part we will give two visualization. <br> \n",
    "<ul>\n",
    "<li><b>Map Visualization</b>  to see the survey's location </li>\n",
    "<li><b>Gantt Chart</b> to see the taxi's allocation and movement.</li>\n",
    "</ul>\n",
    "\n",
    "### 5.1 Map Visualization"
   ]
  },
  {
   "cell_type": "code",
   "execution_count": 39,
   "metadata": {},
   "outputs": [
    {
     "data": {
      "text/html": [
       "<div style=\"width:100%;\"><div style=\"position:relative;width:100%;height:0;padding-bottom:60%;\"><iframe src=\"data:text/html;charset=utf-8;base64,PCFET0NUWVBFIGh0bWw+CjxoZWFkPiAgICAKICAgIDxtZXRhIGh0dHAtZXF1aXY9ImNvbnRlbnQtdHlwZSIgY29udGVudD0idGV4dC9odG1sOyBjaGFyc2V0PVVURi04IiAvPgogICAgCiAgICAgICAgPHNjcmlwdD4KICAgICAgICAgICAgTF9OT19UT1VDSCA9IGZhbHNlOwogICAgICAgICAgICBMX0RJU0FCTEVfM0QgPSBmYWxzZTsKICAgICAgICA8L3NjcmlwdD4KICAgIAogICAgPHNjcmlwdCBzcmM9Imh0dHBzOi8vY2RuLmpzZGVsaXZyLm5ldC9ucG0vbGVhZmxldEAxLjUuMS9kaXN0L2xlYWZsZXQuanMiPjwvc2NyaXB0PgogICAgPHNjcmlwdCBzcmM9Imh0dHBzOi8vY29kZS5qcXVlcnkuY29tL2pxdWVyeS0xLjEyLjQubWluLmpzIj48L3NjcmlwdD4KICAgIDxzY3JpcHQgc3JjPSJodHRwczovL21heGNkbi5ib290c3RyYXBjZG4uY29tL2Jvb3RzdHJhcC8zLjIuMC9qcy9ib290c3RyYXAubWluLmpzIj48L3NjcmlwdD4KICAgIDxzY3JpcHQgc3JjPSJodHRwczovL2NkbmpzLmNsb3VkZmxhcmUuY29tL2FqYXgvbGlicy9MZWFmbGV0LmF3ZXNvbWUtbWFya2Vycy8yLjAuMi9sZWFmbGV0LmF3ZXNvbWUtbWFya2Vycy5qcyI+PC9zY3JpcHQ+CiAgICA8bGluayByZWw9InN0eWxlc2hlZXQiIGhyZWY9Imh0dHBzOi8vY2RuLmpzZGVsaXZyLm5ldC9ucG0vbGVhZmxldEAxLjUuMS9kaXN0L2xlYWZsZXQuY3NzIi8+CiAgICA8bGluayByZWw9InN0eWxlc2hlZXQiIGhyZWY9Imh0dHBzOi8vbWF4Y2RuLmJvb3RzdHJhcGNkbi5jb20vYm9vdHN0cmFwLzMuMi4wL2Nzcy9ib290c3RyYXAubWluLmNzcyIvPgogICAgPGxpbmsgcmVsPSJzdHlsZXNoZWV0IiBocmVmPSJodHRwczovL21heGNkbi5ib290c3RyYXBjZG4uY29tL2Jvb3RzdHJhcC8zLjIuMC9jc3MvYm9vdHN0cmFwLXRoZW1lLm1pbi5jc3MiLz4KICAgIDxsaW5rIHJlbD0ic3R5bGVzaGVldCIgaHJlZj0iaHR0cHM6Ly9tYXhjZG4uYm9vdHN0cmFwY2RuLmNvbS9mb250LWF3ZXNvbWUvNC42LjMvY3NzL2ZvbnQtYXdlc29tZS5taW4uY3NzIi8+CiAgICA8bGluayByZWw9InN0eWxlc2hlZXQiIGhyZWY9Imh0dHBzOi8vY2RuanMuY2xvdWRmbGFyZS5jb20vYWpheC9saWJzL0xlYWZsZXQuYXdlc29tZS1tYXJrZXJzLzIuMC4yL2xlYWZsZXQuYXdlc29tZS1tYXJrZXJzLmNzcyIvPgogICAgPGxpbmsgcmVsPSJzdHlsZXNoZWV0IiBocmVmPSJodHRwczovL3Jhd2Nkbi5naXRoYWNrLmNvbS9weXRob24tdmlzdWFsaXphdGlvbi9mb2xpdW0vbWFzdGVyL2ZvbGl1bS90ZW1wbGF0ZXMvbGVhZmxldC5hd2Vzb21lLnJvdGF0ZS5jc3MiLz4KICAgIDxzdHlsZT5odG1sLCBib2R5IHt3aWR0aDogMTAwJTtoZWlnaHQ6IDEwMCU7bWFyZ2luOiAwO3BhZGRpbmc6IDA7fTwvc3R5bGU+CiAgICA8c3R5bGU+I21hcCB7cG9zaXRpb246YWJzb2x1dGU7dG9wOjA7Ym90dG9tOjA7cmlnaHQ6MDtsZWZ0OjA7fTwvc3R5bGU+CiAgICAKICAgICAgICAgICAgPG1ldGEgbmFtZT0idmlld3BvcnQiIGNvbnRlbnQ9IndpZHRoPWRldmljZS13aWR0aCwKICAgICAgICAgICAgICAgIGluaXRpYWwtc2NhbGU9MS4wLCBtYXhpbXVtLXNjYWxlPTEuMCwgdXNlci1zY2FsYWJsZT1ubyIgLz4KICAgICAgICAgICAgPHN0eWxlPgogICAgICAgICAgICAgICAgI21hcF82MzBmZTY3MTAxMzE0ZWNlYTEyYjdjZDNlM2ViNWVlNSB7CiAgICAgICAgICAgICAgICAgICAgcG9zaXRpb246IHJlbGF0aXZlOwogICAgICAgICAgICAgICAgICAgIHdpZHRoOiAxMDAuMCU7CiAgICAgICAgICAgICAgICAgICAgaGVpZ2h0OiAxMDAuMCU7CiAgICAgICAgICAgICAgICAgICAgbGVmdDogMC4wJTsKICAgICAgICAgICAgICAgICAgICB0b3A6IDAuMCU7CiAgICAgICAgICAgICAgICB9CiAgICAgICAgICAgIDwvc3R5bGU+CiAgICAgICAgCjwvaGVhZD4KPGJvZHk+ICAgIAogICAgCiAgICAgICAgICAgIDxkaXYgY2xhc3M9ImZvbGl1bS1tYXAiIGlkPSJtYXBfNjMwZmU2NzEwMTMxNGVjZWExMmI3Y2QzZTNlYjVlZTUiID48L2Rpdj4KICAgICAgICAKPC9ib2R5Pgo8c2NyaXB0PiAgICAKICAgIAogICAgICAgICAgICB2YXIgbWFwXzYzMGZlNjcxMDEzMTRlY2VhMTJiN2NkM2UzZWI1ZWU1ID0gTC5tYXAoCiAgICAgICAgICAgICAgICAibWFwXzYzMGZlNjcxMDEzMTRlY2VhMTJiN2NkM2UzZWI1ZWU1IiwKICAgICAgICAgICAgICAgIHsKICAgICAgICAgICAgICAgICAgICBjZW50ZXI6IFs0MC43MjQ4OTg1NzE0Mjg1NzUsIC03My45NTIyNzg1NzE0Mjg1Nl0sCiAgICAgICAgICAgICAgICAgICAgY3JzOiBMLkNSUy5FUFNHMzg1NywKICAgICAgICAgICAgICAgICAgICB6b29tOiAxMSwKICAgICAgICAgICAgICAgICAgICB6b29tQ29udHJvbDogdHJ1ZSwKICAgICAgICAgICAgICAgICAgICBwcmVmZXJDYW52YXM6IGZhbHNlLAogICAgICAgICAgICAgICAgfQogICAgICAgICAgICApOwoKICAgICAgICAgICAgCgogICAgICAgIAogICAgCiAgICAgICAgICAgIHZhciB0aWxlX2xheWVyXzRmYjQzNjFiMTEwZDRhNzdiMTcwZGM1NWQyMmI5YzcxID0gTC50aWxlTGF5ZXIoCiAgICAgICAgICAgICAgICAiaHR0cHM6Ly9jYXJ0b2RiLWJhc2VtYXBzLXtzfS5nbG9iYWwuc3NsLmZhc3RseS5uZXQvbGlnaHRfYWxsL3t6fS97eH0ve3l9LnBuZyIsCiAgICAgICAgICAgICAgICB7ImF0dHJpYnV0aW9uIjogIlx1MDAyNmNvcHk7IFx1MDAzY2EgaHJlZj1cImh0dHA6Ly93d3cub3BlbnN0cmVldG1hcC5vcmcvY29weXJpZ2h0XCJcdTAwM2VPcGVuU3RyZWV0TWFwXHUwMDNjL2FcdTAwM2UgY29udHJpYnV0b3JzIFx1MDAyNmNvcHk7IFx1MDAzY2EgaHJlZj1cImh0dHA6Ly9jYXJ0b2RiLmNvbS9hdHRyaWJ1dGlvbnNcIlx1MDAzZUNhcnRvREJcdTAwM2MvYVx1MDAzZSwgQ2FydG9EQiBcdTAwM2NhIGhyZWYgPVwiaHR0cDovL2NhcnRvZGIuY29tL2F0dHJpYnV0aW9uc1wiXHUwMDNlYXR0cmlidXRpb25zXHUwMDNjL2FcdTAwM2UiLCAiZGV0ZWN0UmV0aW5hIjogZmFsc2UsICJtYXhOYXRpdmVab29tIjogMTgsICJtYXhab29tIjogMTgsICJtaW5ab29tIjogMCwgIm5vV3JhcCI6IGZhbHNlLCAib3BhY2l0eSI6IDEsICJzdWJkb21haW5zIjogImFiYyIsICJ0bXMiOiBmYWxzZX0KICAgICAgICAgICAgKS5hZGRUbyhtYXBfNjMwZmU2NzEwMTMxNGVjZWExMmI3Y2QzZTNlYjVlZTUpOwogICAgICAgIAogICAgCiAgICAgICAgICAgIHZhciBtYXJrZXJfMTRkZmU1ZDMzMzRkNDdjM2I4NGRjMTc0ZWFlNjcwZmYgPSBMLm1hcmtlcigKICAgICAgICAgICAgICAgIFs0MC43MywgLTc0LjA1XSwKICAgICAgICAgICAgICAgIHt9CiAgICAgICAgICAgICkuYWRkVG8obWFwXzYzMGZlNjcxMDEzMTRlY2VhMTJiN2NkM2UzZWI1ZWU1KTsKICAgICAgICAKICAgIAogICAgICAgICAgICB2YXIgaWNvbl8wYWFkMWE0ODBmMTQ0M2I5YmQ5ZGQzNWIyOTk2NmFlNiA9IEwuQXdlc29tZU1hcmtlcnMuaWNvbigKICAgICAgICAgICAgICAgIHsiZXh0cmFDbGFzc2VzIjogImZhLXJvdGF0ZS0wIiwgImljb24iOiAibm9uZSIsICJpY29uQ29sb3IiOiAid2hpdGUiLCAibWFya2VyQ29sb3IiOiAiYmxhY2siLCAicHJlZml4IjogImdseXBoaWNvbiJ9CiAgICAgICAgICAgICk7CiAgICAgICAgICAgIG1hcmtlcl8xNGRmZTVkMzMzNGQ0N2MzYjg0ZGMxNzRlYWU2NzBmZi5zZXRJY29uKGljb25fMGFhZDFhNDgwZjE0NDNiOWJkOWRkMzViMjk5NjZhZTYpOwogICAgICAgIAogICAgCiAgICAgICAgdmFyIHBvcHVwX2Y3ZDdmNjY2MDI5ODRlZWFiNWFjNjEyOTYyMzRlNzcxID0gTC5wb3B1cCh7Im1heFdpZHRoIjogIjEwMCUifSk7CgogICAgICAgIAogICAgICAgICAgICB2YXIgaHRtbF83NTQ5YzIwYTI2YTQ0MTgxYmQ0ODdhMGYzY2JhZTliZCA9ICQoYDxkaXYgaWQ9Imh0bWxfNzU0OWMyMGEyNmE0NDE4MWJkNDg3YTBmM2NiYWU5YmQiIHN0eWxlPSJ3aWR0aDogMTAwLjAlOyBoZWlnaHQ6IDEwMC4wJTsiPkhRPC9kaXY+YClbMF07CiAgICAgICAgICAgIHBvcHVwX2Y3ZDdmNjY2MDI5ODRlZWFiNWFjNjEyOTYyMzRlNzcxLnNldENvbnRlbnQoaHRtbF83NTQ5YzIwYTI2YTQ0MTgxYmQ0ODdhMGYzY2JhZTliZCk7CiAgICAgICAgCgogICAgICAgIG1hcmtlcl8xNGRmZTVkMzMzNGQ0N2MzYjg0ZGMxNzRlYWU2NzBmZi5iaW5kUG9wdXAocG9wdXBfZjdkN2Y2NjYwMjk4NGVlYWI1YWM2MTI5NjIzNGU3NzEpCiAgICAgICAgOwoKICAgICAgICAKICAgIAogICAgCiAgICAgICAgICAgIHZhciBtYXJrZXJfM2U2ZGMwYzVmNDM4NDgzYjhmZTQ5N2I4MmY3ZjY5NGQgPSBMLm1hcmtlcigKICAgICAgICAgICAgICAgIFs0MC42NjUsIC03My43OTVdLAogICAgICAgICAgICAgICAge30KICAgICAgICAgICAgKS5hZGRUbyhtYXBfNjMwZmU2NzEwMTMxNGVjZWExMmI3Y2QzZTNlYjVlZTUpOwogICAgICAgIAogICAgCiAgICAgICAgICAgIHZhciBpY29uXzVjYTkxMzQwNTQ4YTRjNWM4NGM5NjczOWJhMTBmZDY5ID0gTC5Bd2Vzb21lTWFya2Vycy5pY29uKAogICAgICAgICAgICAgICAgeyJleHRyYUNsYXNzZXMiOiAiZmEtcm90YXRlLTAiLCAiaWNvbiI6ICJub25lIiwgImljb25Db2xvciI6ICJ3aGl0ZSIsICJtYXJrZXJDb2xvciI6ICJyZWQiLCAicHJlZml4IjogImdseXBoaWNvbiJ9CiAgICAgICAgICAgICk7CiAgICAgICAgICAgIG1hcmtlcl8zZTZkYzBjNWY0Mzg0ODNiOGZlNDk3YjgyZjdmNjk0ZC5zZXRJY29uKGljb25fNWNhOTEzNDA1NDhhNGM1Yzg0Yzk2NzM5YmExMGZkNjkpOwogICAgICAgIAogICAgCiAgICAgICAgdmFyIHBvcHVwXzRmZjgxOTgyMzVmMDRiMWI5MzA2ZjkyODE1OGQ2ZTA0ID0gTC5wb3B1cCh7Im1heFdpZHRoIjogIjEwMCUifSk7CgogICAgICAgIAogICAgICAgICAgICB2YXIgaHRtbF8zNTI1NDkwYmM5OGE0YTU2YThhM2UwYzViYjAzNGExZSA9ICQoYDxkaXYgaWQ9Imh0bWxfMzUyNTQ5MGJjOThhNGE1NmE4YTNlMGM1YmIwMzRhMWUiIHN0eWxlPSJ3aWR0aDogMTAwLjAlOyBoZWlnaHQ6IDEwMC4wJTsiPjE8L2Rpdj5gKVswXTsKICAgICAgICAgICAgcG9wdXBfNGZmODE5ODIzNWYwNGIxYjkzMDZmOTI4MTU4ZDZlMDQuc2V0Q29udGVudChodG1sXzM1MjU0OTBiYzk4YTRhNTZhOGEzZTBjNWJiMDM0YTFlKTsKICAgICAgICAKCiAgICAgICAgbWFya2VyXzNlNmRjMGM1ZjQzODQ4M2I4ZmU0OTdiODJmN2Y2OTRkLmJpbmRQb3B1cChwb3B1cF80ZmY4MTk4MjM1ZjA0YjFiOTMwNmY5MjgxNThkNmUwNCkKICAgICAgICA7CgogICAgICAgIAogICAgCiAgICAKICAgICAgICAgICAgdmFyIG1hcmtlcl9kZmEyYjNhYmEyNTc0Yzg2OGMzZjg0OGVjMDA5NzU0NSA9IEwubWFya2VyKAogICAgICAgICAgICAgICAgWzQwLjc3LCAtNzMuOTk1XSwKICAgICAgICAgICAgICAgIHt9CiAgICAgICAgICAgICkuYWRkVG8obWFwXzYzMGZlNjcxMDEzMTRlY2VhMTJiN2NkM2UzZWI1ZWU1KTsKICAgICAgICAKICAgIAogICAgICAgICAgICB2YXIgaWNvbl9iYTMyOTJlZGY0NDk0MzBjYjY4ZWU4ZTg4Y2JhYTM3MSA9IEwuQXdlc29tZU1hcmtlcnMuaWNvbigKICAgICAgICAgICAgICAgIHsiZXh0cmFDbGFzc2VzIjogImZhLXJvdGF0ZS0wIiwgImljb24iOiAibm9uZSIsICJpY29uQ29sb3IiOiAid2hpdGUiLCAibWFya2VyQ29sb3IiOiAiZ3JlZW4iLCAicHJlZml4IjogImdseXBoaWNvbiJ9CiAgICAgICAgICAgICk7CiAgICAgICAgICAgIG1hcmtlcl9kZmEyYjNhYmEyNTc0Yzg2OGMzZjg0OGVjMDA5NzU0NS5zZXRJY29uKGljb25fYmEzMjkyZWRmNDQ5NDMwY2I2OGVlOGU4OGNiYWEzNzEpOwogICAgICAgIAogICAgCiAgICAgICAgdmFyIHBvcHVwXzMxYjc4Njk4MWNjNDQ0ZmRiNzJjYmFmNzFhYTVjZTZiID0gTC5wb3B1cCh7Im1heFdpZHRoIjogIjEwMCUifSk7CgogICAgICAgIAogICAgICAgICAgICB2YXIgaHRtbF82M2NjZGQ3MGFmMDI0ZjVkYmQ3YmIzMzlhZWNiMjBkOCA9ICQoYDxkaXYgaWQ9Imh0bWxfNjNjY2RkNzBhZjAyNGY1ZGJkN2JiMzM5YWVjYjIwZDgiIHN0eWxlPSJ3aWR0aDogMTAwLjAlOyBoZWlnaHQ6IDEwMC4wJTsiPjI8L2Rpdj5gKVswXTsKICAgICAgICAgICAgcG9wdXBfMzFiNzg2OTgxY2M0NDRmZGI3MmNiYWY3MWFhNWNlNmIuc2V0Q29udGVudChodG1sXzYzY2NkZDcwYWYwMjRmNWRiZDdiYjMzOWFlY2IyMGQ4KTsKICAgICAgICAKCiAgICAgICAgbWFya2VyX2RmYTJiM2FiYTI1NzRjODY4YzNmODQ4ZWMwMDk3NTQ1LmJpbmRQb3B1cChwb3B1cF8zMWI3ODY5ODFjYzQ0NGZkYjcyY2JhZjcxYWE1Y2U2YikKICAgICAgICA7CgogICAgICAgIAogICAgCiAgICAKICAgICAgICAgICAgdmFyIG1hcmtlcl8wZDUxOTAzZDJmMjI0MzZhYmNkOTk5NzZjMjY5ZmEwZCA9IEwubWFya2VyKAogICAgICAgICAgICAgICAgWzQwLjc0LCAtNzMuOTldLAogICAgICAgICAgICAgICAge30KICAgICAgICAgICAgKS5hZGRUbyhtYXBfNjMwZmU2NzEwMTMxNGVjZWExMmI3Y2QzZTNlYjVlZTUpOwogICAgICAgIAogICAgCiAgICAgICAgICAgIHZhciBpY29uXzM2MjdhZTdmYTAyZjQ4MjA5NmNlZWUwYzRhZmY1ODUxID0gTC5Bd2Vzb21lTWFya2Vycy5pY29uKAogICAgICAgICAgICAgICAgeyJleHRyYUNsYXNzZXMiOiAiZmEtcm90YXRlLTAiLCAiaWNvbiI6ICJub25lIiwgImljb25Db2xvciI6ICJ3aGl0ZSIsICJtYXJrZXJDb2xvciI6ICJwdXJwbGUiLCAicHJlZml4IjogImdseXBoaWNvbiJ9CiAgICAgICAgICAgICk7CiAgICAgICAgICAgIG1hcmtlcl8wZDUxOTAzZDJmMjI0MzZhYmNkOTk5NzZjMjY5ZmEwZC5zZXRJY29uKGljb25fMzYyN2FlN2ZhMDJmNDgyMDk2Y2VlZTBjNGFmZjU4NTEpOwogICAgICAgIAogICAgCiAgICAgICAgdmFyIHBvcHVwXzU5OTdiZTBhMTY5MDQ4YTU5OTU2NjBmMmUyNThmZDRkID0gTC5wb3B1cCh7Im1heFdpZHRoIjogIjEwMCUifSk7CgogICAgICAgIAogICAgICAgICAgICB2YXIgaHRtbF8xYTRhZmMwZmU2YzQ0N2M5YjUxOGY1ZDg5OTRmNDcwOSA9ICQoYDxkaXYgaWQ9Imh0bWxfMWE0YWZjMGZlNmM0NDdjOWI1MThmNWQ4OTk0ZjQ3MDkiIHN0eWxlPSJ3aWR0aDogMTAwLjAlOyBoZWlnaHQ6IDEwMC4wJTsiPjM8L2Rpdj5gKVswXTsKICAgICAgICAgICAgcG9wdXBfNTk5N2JlMGExNjkwNDhhNTk5NTY2MGYyZTI1OGZkNGQuc2V0Q29udGVudChodG1sXzFhNGFmYzBmZTZjNDQ3YzliNTE4ZjVkODk5NGY0NzA5KTsKICAgICAgICAKCiAgICAgICAgbWFya2VyXzBkNTE5MDNkMmYyMjQzNmFiY2Q5OTk3NmMyNjlmYTBkLmJpbmRQb3B1cChwb3B1cF81OTk3YmUwYTE2OTA0OGE1OTk1NjYwZjJlMjU4ZmQ0ZCkKICAgICAgICA7CgogICAgICAgIAogICAgCiAgICAKICAgICAgICAgICAgdmFyIG1hcmtlcl85YTI4N2U5YjQxNGM0NDFjYTQ2MTFlMWU5ODVmOTcyMSA9IEwubWFya2VyKAogICAgICAgICAgICAgICAgWzQwLjY5NSwgLTczLjk1XSwKICAgICAgICAgICAgICAgIHt9CiAgICAgICAgICAgICkuYWRkVG8obWFwXzYzMGZlNjcxMDEzMTRlY2VhMTJiN2NkM2UzZWI1ZWU1KTsKICAgICAgICAKICAgIAogICAgICAgICAgICB2YXIgaWNvbl9iNTAxMTZhYmZhMjQ0OWQxOTQwMGU4ZDQ0YTRlMGNjNiA9IEwuQXdlc29tZU1hcmtlcnMuaWNvbigKICAgICAgICAgICAgICAgIHsiZXh0cmFDbGFzc2VzIjogImZhLXJvdGF0ZS0wIiwgImljb24iOiAibm9uZSIsICJpY29uQ29sb3IiOiAid2hpdGUiLCAibWFya2VyQ29sb3IiOiAib3JhbmdlIiwgInByZWZpeCI6ICJnbHlwaGljb24ifQogICAgICAgICAgICApOwogICAgICAgICAgICBtYXJrZXJfOWEyODdlOWI0MTRjNDQxY2E0NjExZTFlOTg1Zjk3MjEuc2V0SWNvbihpY29uX2I1MDExNmFiZmEyNDQ5ZDE5NDAwZThkNDRhNGUwY2M2KTsKICAgICAgICAKICAgIAogICAgICAgIHZhciBwb3B1cF8wMjZlMDJjZDAxMTg0ZGZjYjZhZmZhNzY1YzcwMjJiYSA9IEwucG9wdXAoeyJtYXhXaWR0aCI6ICIxMDAlIn0pOwoKICAgICAgICAKICAgICAgICAgICAgdmFyIGh0bWxfZjhlY2ZlYWQyYTJiNDRiMjg5ZmMwMGQxMmIxN2M3NGUgPSAkKGA8ZGl2IGlkPSJodG1sX2Y4ZWNmZWFkMmEyYjQ0YjI4OWZjMDBkMTJiMTdjNzRlIiBzdHlsZT0id2lkdGg6IDEwMC4wJTsgaGVpZ2h0OiAxMDAuMCU7Ij40PC9kaXY+YClbMF07CiAgICAgICAgICAgIHBvcHVwXzAyNmUwMmNkMDExODRkZmNiNmFmZmE3NjVjNzAyMmJhLnNldENvbnRlbnQoaHRtbF9mOGVjZmVhZDJhMmI0NGIyODlmYzAwZDEyYjE3Yzc0ZSk7CiAgICAgICAgCgogICAgICAgIG1hcmtlcl85YTI4N2U5YjQxNGM0NDFjYTQ2MTFlMWU5ODVmOTcyMS5iaW5kUG9wdXAocG9wdXBfMDI2ZTAyY2QwMTE4NGRmY2I2YWZmYTc2NWM3MDIyYmEpCiAgICAgICAgOwoKICAgICAgICAKICAgIAogICAgCiAgICAgICAgICAgIHZhciBtYXJrZXJfOWU5ZjYxZWZkNTNiNGFmOWJjOTU4ZmQ3NzFiMTZhZDIgPSBMLm1hcmtlcigKICAgICAgICAgICAgICAgIFs0MC43NjcsIC03My44NzVdLAogICAgICAgICAgICAgICAge30KICAgICAgICAgICAgKS5hZGRUbyhtYXBfNjMwZmU2NzEwMTMxNGVjZWExMmI3Y2QzZTNlYjVlZTUpOwogICAgICAgIAogICAgCiAgICAgICAgICAgIHZhciBpY29uX2U5MWRhZWYxNDUxNzQxMzQ5OTlmMjg0ZDc3ZTkyZWZiID0gTC5Bd2Vzb21lTWFya2Vycy5pY29uKAogICAgICAgICAgICAgICAgeyJleHRyYUNsYXNzZXMiOiAiZmEtcm90YXRlLTAiLCAiaWNvbiI6ICJub25lIiwgImljb25Db2xvciI6ICJ3aGl0ZSIsICJtYXJrZXJDb2xvciI6ICJkYXJrcmVkIiwgInByZWZpeCI6ICJnbHlwaGljb24ifQogICAgICAgICAgICApOwogICAgICAgICAgICBtYXJrZXJfOWU5ZjYxZWZkNTNiNGFmOWJjOTU4ZmQ3NzFiMTZhZDIuc2V0SWNvbihpY29uX2U5MWRhZWYxNDUxNzQxMzQ5OTlmMjg0ZDc3ZTkyZWZiKTsKICAgICAgICAKICAgIAogICAgICAgIHZhciBwb3B1cF8yNmRkZGFiZTdlZjA0Y2VjYWEyNzllN2Y3N2NlMjU0OCA9IEwucG9wdXAoeyJtYXhXaWR0aCI6ICIxMDAlIn0pOwoKICAgICAgICAKICAgICAgICAgICAgdmFyIGh0bWxfYmUzMzczYWI3YzVlNDdmMTk2MWYzNGUwNGRmNTcwM2IgPSAkKGA8ZGl2IGlkPSJodG1sX2JlMzM3M2FiN2M1ZTQ3ZjE5NjFmMzRlMDRkZjU3MDNiIiBzdHlsZT0id2lkdGg6IDEwMC4wJTsgaGVpZ2h0OiAxMDAuMCU7Ij41PC9kaXY+YClbMF07CiAgICAgICAgICAgIHBvcHVwXzI2ZGRkYWJlN2VmMDRjZWNhYTI3OWU3Zjc3Y2UyNTQ4LnNldENvbnRlbnQoaHRtbF9iZTMzNzNhYjdjNWU0N2YxOTYxZjM0ZTA0ZGY1NzAzYik7CiAgICAgICAgCgogICAgICAgIG1hcmtlcl85ZTlmNjFlZmQ1M2I0YWY5YmM5NThmZDc3MWIxNmFkMi5iaW5kUG9wdXAocG9wdXBfMjZkZGRhYmU3ZWYwNGNlY2FhMjc5ZTdmNzdjZTI1NDgpCiAgICAgICAgOwoKICAgICAgICAKICAgIAogICAgCiAgICAgICAgICAgIHZhciBtYXJrZXJfZTUzMzcwNTQ4MmJiNDNiOWI5ODZlMDRjOTM1MWFlMmMgPSBMLm1hcmtlcigKICAgICAgICAgICAgICAgIFs0MC43MDcyOSwgLTc0LjAxMDk1XSwKICAgICAgICAgICAgICAgIHt9CiAgICAgICAgICAgICkuYWRkVG8obWFwXzYzMGZlNjcxMDEzMTRlY2VhMTJiN2NkM2UzZWI1ZWU1KTsKICAgICAgICAKICAgIAogICAgICAgICAgICB2YXIgaWNvbl80MzBmZDA0OTlhOTM0N2Q4OGQwZTNkNmZlNDk0NWJhYiA9IEwuQXdlc29tZU1hcmtlcnMuaWNvbigKICAgICAgICAgICAgICAgIHsiZXh0cmFDbGFzc2VzIjogImZhLXJvdGF0ZS0wIiwgImljb24iOiAibm9uZSIsICJpY29uQ29sb3IiOiAid2hpdGUiLCAibWFya2VyQ29sb3IiOiAiZGFya2JsdWUiLCAicHJlZml4IjogImdseXBoaWNvbiJ9CiAgICAgICAgICAgICk7CiAgICAgICAgICAgIG1hcmtlcl9lNTMzNzA1NDgyYmI0M2I5Yjk4NmUwNGM5MzUxYWUyYy5zZXRJY29uKGljb25fNDMwZmQwNDk5YTkzNDdkODhkMGUzZDZmZTQ5NDViYWIpOwogICAgICAgIAogICAgCiAgICAgICAgdmFyIHBvcHVwXzdhYmY0ODE0YjU3NDQwMmFhNGVhYjZhMWVhNjI5NzE1ID0gTC5wb3B1cCh7Im1heFdpZHRoIjogIjEwMCUifSk7CgogICAgICAgIAogICAgICAgICAgICB2YXIgaHRtbF8xNDU0NmVkYjZkNWU0NTY1YmI2MzgzNzkxNTJjZTcxMiA9ICQoYDxkaXYgaWQ9Imh0bWxfMTQ1NDZlZGI2ZDVlNDU2NWJiNjM4Mzc5MTUyY2U3MTIiIHN0eWxlPSJ3aWR0aDogMTAwLjAlOyBoZWlnaHQ6IDEwMC4wJTsiPjY8L2Rpdj5gKVswXTsKICAgICAgICAgICAgcG9wdXBfN2FiZjQ4MTRiNTc0NDAyYWE0ZWFiNmExZWE2Mjk3MTUuc2V0Q29udGVudChodG1sXzE0NTQ2ZWRiNmQ1ZTQ1NjViYjYzODM3OTE1MmNlNzEyKTsKICAgICAgICAKCiAgICAgICAgbWFya2VyX2U1MzM3MDU0ODJiYjQzYjliOTg2ZTA0YzkzNTFhZTJjLmJpbmRQb3B1cChwb3B1cF83YWJmNDgxNGI1NzQ0MDJhYTRlYWI2YTFlYTYyOTcxNSkKICAgICAgICA7CgogICAgICAgIAogICAgCjwvc2NyaXB0Pg==\" style=\"position:absolute;width:100%;height:100%;left:0;top:0;border:none !important;\" allowfullscreen webkitallowfullscreen mozallowfullscreen></iframe></div></div>"
      ],
      "text/plain": [
       "<folium.folium.Map at 0x1a21fa24e0>"
      ]
     },
     "execution_count": 39,
     "metadata": {},
     "output_type": "execute_result"
    }
   ],
   "source": [
    "color = ['black','red',  'green', 'purple', 'orange', 'darkred',  'darkblue', 'darkgreen', 'cadetblue', 'darkpurple', 'white', 'pink', 'lightblue', 'lightgreen', 'gray', 'lightgray'] \n",
    "\n",
    "lat_list = []\n",
    "lon_list= []\n",
    "color_list= []\n",
    "for idx,i in enumerate(dict_location):\n",
    "    lat_list.append(dict_location[i][0])\n",
    "    lon_list.append(dict_location[i][1])\n",
    "    color_list.append(color[idx])\n",
    "    \n",
    "color_list\n",
    "    \n",
    "# Make a data frame with dots to show on the map\n",
    "data = pd.DataFrame({\n",
    "'lat': lat_list,\n",
    "'lon': lon_list,\n",
    "'name':['HQ','1','2','3','4','5','6'],\n",
    "'color_list' : color_list\n",
    "})\n",
    "data\n",
    " \n",
    "# Make an empty map\n",
    "# m = folium.Map(location=[20, 0], tiles=\"Mapbox Bright\", zoom_start=2)\n",
    "m = folium.Map(location=[mean(lat_list), mean(lon_list)], tiles=\"cartodbpositron\", zoom_start = 11)\n",
    "\n",
    " \n",
    "# I can add marker one by one on the map\n",
    "for i in range(0,len(data)):\n",
    "    folium.Marker([data.iloc[i]['lat'], data.iloc[i]['lon']], popup=data.iloc[i]['name'], icon=folium.Icon(color=data.iloc[i]['color_list'], icon='none')).add_to(m)\n",
    "\n",
    "m"
   ]
  },
  {
   "cell_type": "markdown",
   "metadata": {},
   "source": [
    "### 5.2 Gantt Chart\n",
    "\n",
    "Before we draw the gantt chart, we need to prepared the data so that it can be plotted.\n",
    "Thus, we need to trace the taxi's path from the minizinc result."
   ]
  },
  {
   "cell_type": "code",
   "execution_count": 40,
   "metadata": {
    "colab": {},
    "colab_type": "code",
    "id": "ZQlUH0zg0Oss"
   },
   "outputs": [],
   "source": [
    "n = NumLocs-1\n",
    "list_taxi1 = []\n",
    "taxi = \"taxi1\"\n",
    "start_point = 2*n + 1\n",
    "\n",
    "for i in range(len(successor)): \n",
    "    temp_start = start_point\n",
    "    start_point = successor[start_point-1]\n",
    "    \n",
    "    # Origin and Destination node\n",
    "    start_node = temp_start\n",
    "    end_node = successor[temp_start-1]\n",
    "\n",
    "    if (end_node > 2*n ):\n",
    "        state = \"HQ\"\n",
    "    elif end_node <= 2*n :\n",
    "        if int(start_node) != int(end_node - n):\n",
    "            if end_node > n:\n",
    "                place = end_node - n\n",
    "            else :\n",
    "                place = end_node\n",
    "        if place == start_node:\n",
    "            # pick up surveyor\n",
    "            place = 0\n",
    "        state = \"go to Place \" + str(place)\n",
    "        sites= str(place)\n",
    "    \n",
    "    list_taxi1.append([taxi, state,start_node,end_node,time[temp_start-1],time[start_point-1], sites])\n",
    "    temp_start = start_point\n",
    "    if i == 4*n+1 :\n",
    "        taxi = \"taxi2\"\n",
    "        \n",
    "result_taxi_df = pd.DataFrame(list_taxi1)\n",
    "result_taxi_df.columns = [\"taxi\",\"state\",\"start_node\",\"end_node\",\"start\",\"end\",'Sites']\n"
   ]
  },
  {
   "cell_type": "markdown",
   "metadata": {},
   "source": [
    "Produce the summary of the taxi's path.\n",
    "\n",
    "Go to place 1-n : dropped surveyor to site-n <br>\n",
    "Go to place 0 : picked up someone from the survey's place. <br>\n",
    "HQ : back to Headquarter\n"
   ]
  },
  {
   "cell_type": "code",
   "execution_count": 41,
   "metadata": {
    "colab": {},
    "colab_type": "code",
    "id": "xxz_0h8l0Osv",
    "outputId": "d2044c8a-e088-4271-bbdb-3710be39c47d"
   },
   "outputs": [
    {
     "data": {
      "text/html": [
       "<div>\n",
       "<style scoped>\n",
       "    .dataframe tbody tr th:only-of-type {\n",
       "        vertical-align: middle;\n",
       "    }\n",
       "\n",
       "    .dataframe tbody tr th {\n",
       "        vertical-align: top;\n",
       "    }\n",
       "\n",
       "    .dataframe thead th {\n",
       "        text-align: right;\n",
       "    }\n",
       "</style>\n",
       "<table border=\"1\" class=\"dataframe\">\n",
       "  <thead>\n",
       "    <tr style=\"text-align: right;\">\n",
       "      <th></th>\n",
       "      <th>taxi</th>\n",
       "      <th>state</th>\n",
       "      <th>start_node</th>\n",
       "      <th>end_node</th>\n",
       "      <th>start</th>\n",
       "      <th>end</th>\n",
       "      <th>Sites</th>\n",
       "    </tr>\n",
       "  </thead>\n",
       "  <tbody>\n",
       "    <tr>\n",
       "      <th>0</th>\n",
       "      <td>taxi1</td>\n",
       "      <td>go to Place 5</td>\n",
       "      <td>13</td>\n",
       "      <td>5</td>\n",
       "      <td>0</td>\n",
       "      <td>1725</td>\n",
       "      <td>5</td>\n",
       "    </tr>\n",
       "    <tr>\n",
       "      <th>1</th>\n",
       "      <td>taxi1</td>\n",
       "      <td>go to Place 0</td>\n",
       "      <td>5</td>\n",
       "      <td>11</td>\n",
       "      <td>1725</td>\n",
       "      <td>3525</td>\n",
       "      <td>0</td>\n",
       "    </tr>\n",
       "    <tr>\n",
       "      <th>2</th>\n",
       "      <td>taxi1</td>\n",
       "      <td>go to Place 2</td>\n",
       "      <td>11</td>\n",
       "      <td>2</td>\n",
       "      <td>3525</td>\n",
       "      <td>5399</td>\n",
       "      <td>2</td>\n",
       "    </tr>\n",
       "    <tr>\n",
       "      <th>3</th>\n",
       "      <td>taxi1</td>\n",
       "      <td>go to Place 0</td>\n",
       "      <td>2</td>\n",
       "      <td>8</td>\n",
       "      <td>5399</td>\n",
       "      <td>7199</td>\n",
       "      <td>0</td>\n",
       "    </tr>\n",
       "    <tr>\n",
       "      <th>4</th>\n",
       "      <td>taxi1</td>\n",
       "      <td>go to Place 3</td>\n",
       "      <td>8</td>\n",
       "      <td>3</td>\n",
       "      <td>7199</td>\n",
       "      <td>8146</td>\n",
       "      <td>3</td>\n",
       "    </tr>\n",
       "    <tr>\n",
       "      <th>5</th>\n",
       "      <td>taxi1</td>\n",
       "      <td>go to Place 0</td>\n",
       "      <td>3</td>\n",
       "      <td>9</td>\n",
       "      <td>8146</td>\n",
       "      <td>9946</td>\n",
       "      <td>0</td>\n",
       "    </tr>\n",
       "    <tr>\n",
       "      <th>6</th>\n",
       "      <td>taxi1</td>\n",
       "      <td>HQ</td>\n",
       "      <td>9</td>\n",
       "      <td>37</td>\n",
       "      <td>9946</td>\n",
       "      <td>10841</td>\n",
       "      <td>0</td>\n",
       "    </tr>\n",
       "    <tr>\n",
       "      <th>30</th>\n",
       "      <td>taxi2</td>\n",
       "      <td>go to Place 1</td>\n",
       "      <td>25</td>\n",
       "      <td>1</td>\n",
       "      <td>0</td>\n",
       "      <td>2781</td>\n",
       "      <td>1</td>\n",
       "    </tr>\n",
       "    <tr>\n",
       "      <th>31</th>\n",
       "      <td>taxi2</td>\n",
       "      <td>go to Place 0</td>\n",
       "      <td>1</td>\n",
       "      <td>7</td>\n",
       "      <td>2781</td>\n",
       "      <td>4581</td>\n",
       "      <td>0</td>\n",
       "    </tr>\n",
       "    <tr>\n",
       "      <th>32</th>\n",
       "      <td>taxi2</td>\n",
       "      <td>go to Place 4</td>\n",
       "      <td>7</td>\n",
       "      <td>4</td>\n",
       "      <td>4581</td>\n",
       "      <td>6574</td>\n",
       "      <td>4</td>\n",
       "    </tr>\n",
       "    <tr>\n",
       "      <th>33</th>\n",
       "      <td>taxi2</td>\n",
       "      <td>go to Place 0</td>\n",
       "      <td>4</td>\n",
       "      <td>10</td>\n",
       "      <td>6574</td>\n",
       "      <td>8374</td>\n",
       "      <td>0</td>\n",
       "    </tr>\n",
       "    <tr>\n",
       "      <th>34</th>\n",
       "      <td>taxi2</td>\n",
       "      <td>go to Place 6</td>\n",
       "      <td>10</td>\n",
       "      <td>6</td>\n",
       "      <td>8374</td>\n",
       "      <td>9665</td>\n",
       "      <td>6</td>\n",
       "    </tr>\n",
       "    <tr>\n",
       "      <th>35</th>\n",
       "      <td>taxi2</td>\n",
       "      <td>go to Place 0</td>\n",
       "      <td>6</td>\n",
       "      <td>12</td>\n",
       "      <td>9665</td>\n",
       "      <td>11465</td>\n",
       "      <td>0</td>\n",
       "    </tr>\n",
       "    <tr>\n",
       "      <th>36</th>\n",
       "      <td>taxi2</td>\n",
       "      <td>HQ</td>\n",
       "      <td>12</td>\n",
       "      <td>49</td>\n",
       "      <td>11465</td>\n",
       "      <td>12277</td>\n",
       "      <td>0</td>\n",
       "    </tr>\n",
       "  </tbody>\n",
       "</table>\n",
       "</div>"
      ],
      "text/plain": [
       "     taxi          state  start_node  end_node  start    end Sites\n",
       "0   taxi1  go to Place 5          13         5      0   1725     5\n",
       "1   taxi1  go to Place 0           5        11   1725   3525     0\n",
       "2   taxi1  go to Place 2          11         2   3525   5399     2\n",
       "3   taxi1  go to Place 0           2         8   5399   7199     0\n",
       "4   taxi1  go to Place 3           8         3   7199   8146     3\n",
       "5   taxi1  go to Place 0           3         9   8146   9946     0\n",
       "6   taxi1             HQ           9        37   9946  10841     0\n",
       "30  taxi2  go to Place 1          25         1      0   2781     1\n",
       "31  taxi2  go to Place 0           1         7   2781   4581     0\n",
       "32  taxi2  go to Place 4           7         4   4581   6574     4\n",
       "33  taxi2  go to Place 0           4        10   6574   8374     0\n",
       "34  taxi2  go to Place 6          10         6   8374   9665     6\n",
       "35  taxi2  go to Place 0           6        12   9665  11465     0\n",
       "36  taxi2             HQ          12        49  11465  12277     0"
      ]
     },
     "execution_count": 41,
     "metadata": {},
     "output_type": "execute_result"
    }
   ],
   "source": [
    "ress_df = result_taxi_df.loc[(result_taxi_df.start != result_taxi_df.end) & (result_taxi_df.end != 0 )]\n",
    "ress_df"
   ]
  },
  {
   "cell_type": "code",
   "execution_count": 42,
   "metadata": {
    "colab": {},
    "colab_type": "code",
    "id": "gqxUkbWZ0Osx"
   },
   "outputs": [],
   "source": [
    "# Prepared the surveyor timetable\n",
    "survey2_start_end = []\n",
    "for idx,i in enumerate(surveyStart):\n",
    "    survey2_start_end.append([\"tsurvey\" + str(idx+1),i,i+surveyTime])\n",
    "    \n",
    "    \n",
    "\n",
    "survey2_df = pd.DataFrame(survey2_start_end)\n",
    "survey2_df.columns = [\"taxi\",\"start\",\"end\"]"
   ]
  },
  {
   "cell_type": "code",
   "execution_count": 44,
   "metadata": {
    "colab": {},
    "colab_type": "code",
    "id": "_WeAQEVh0Os0",
    "outputId": "a324f5d2-37d6-4dff-ff5b-f8bc2ad815b2"
   },
   "outputs": [
    {
     "data": {
      "application/javascript": [
       "var spec = {\"config\": {\"view\": {\"width\": 400, \"height\": 300}, \"mark\": {\"tooltip\": null}}, \"layer\": [{\"data\": {\"name\": \"data-f342a6f73108aa4feaba91ee8d2e7746\"}, \"mark\": {\"type\": \"bar\", \"color\": \"black\"}, \"encoding\": {\"x\": {\"type\": \"quantitative\", \"field\": \"start\"}, \"x2\": {\"field\": \"end\"}, \"y\": {\"type\": \"nominal\", \"field\": \"taxi\"}}}, {\"data\": {\"name\": \"data-62a18c27a6ab17f729d23a88650d65a7\"}, \"mark\": {\"type\": \"bar\", \"color\": \"red\"}, \"encoding\": {\"color\": {\"type\": \"nominal\", \"field\": \"Sites\", \"scale\": {\"domain\": [\"HQ\", \"1\", \"2\", \"3\", \"4\", \"5\", \"6\"], \"range\": [\"black\", \"red\", \"green\", \"purple\", \"orange\", \"darkred\", \"darkblue\", \"darkgreen\", \"cadetblue\", \"darkpurple\", \"white\", \"pink\", \"lightblue\", \"lightgreen\", \"gray\", \"lightgray\"]}}, \"x\": {\"type\": \"quantitative\", \"field\": \"start\"}, \"x2\": {\"field\": \"end\"}, \"y\": {\"type\": \"nominal\", \"field\": \"taxi\"}}}, {\"data\": {\"name\": \"data-a10b4af8d36a330d18f874384608285f\"}, \"mark\": {\"type\": \"bar\", \"color\": \"green\"}, \"encoding\": {\"color\": {\"type\": \"nominal\", \"field\": \"Sites\", \"scale\": {\"domain\": [\"HQ\", \"1\", \"2\", \"3\", \"4\", \"5\", \"6\"], \"range\": [\"black\", \"red\", \"green\", \"purple\", \"orange\", \"darkred\", \"darkblue\", \"darkgreen\", \"cadetblue\", \"darkpurple\", \"white\", \"pink\", \"lightblue\", \"lightgreen\", \"gray\", \"lightgray\"]}}, \"x\": {\"type\": \"quantitative\", \"field\": \"start\"}, \"x2\": {\"field\": \"end\"}, \"y\": {\"type\": \"nominal\", \"field\": \"taxi\"}}}, {\"data\": {\"name\": \"data-f814ced91ab303e8f9fa2b0f2634caed\"}, \"mark\": {\"type\": \"bar\", \"color\": \"purple\"}, \"encoding\": {\"color\": {\"type\": \"nominal\", \"field\": \"Sites\", \"scale\": {\"domain\": [\"HQ\", \"1\", \"2\", \"3\", \"4\", \"5\", \"6\"], \"range\": [\"black\", \"red\", \"green\", \"purple\", \"orange\", \"darkred\", \"darkblue\", \"darkgreen\", \"cadetblue\", \"darkpurple\", \"white\", \"pink\", \"lightblue\", \"lightgreen\", \"gray\", \"lightgray\"]}}, \"x\": {\"type\": \"quantitative\", \"field\": \"start\"}, \"x2\": {\"field\": \"end\"}, \"y\": {\"type\": \"nominal\", \"field\": \"taxi\"}}}, {\"data\": {\"name\": \"data-6923c91a205861357f816228fadf29c6\"}, \"mark\": {\"type\": \"bar\", \"color\": \"orange\"}, \"encoding\": {\"color\": {\"type\": \"nominal\", \"field\": \"Sites\", \"scale\": {\"domain\": [\"HQ\", \"1\", \"2\", \"3\", \"4\", \"5\", \"6\"], \"range\": [\"black\", \"red\", \"green\", \"purple\", \"orange\", \"darkred\", \"darkblue\", \"darkgreen\", \"cadetblue\", \"darkpurple\", \"white\", \"pink\", \"lightblue\", \"lightgreen\", \"gray\", \"lightgray\"]}}, \"x\": {\"type\": \"quantitative\", \"field\": \"start\"}, \"x2\": {\"field\": \"end\"}, \"y\": {\"type\": \"nominal\", \"field\": \"taxi\"}}}, {\"data\": {\"name\": \"data-fb689c722cafead059bce70f24ca1546\"}, \"mark\": {\"type\": \"bar\", \"color\": \"darkred\"}, \"encoding\": {\"color\": {\"type\": \"nominal\", \"field\": \"Sites\", \"scale\": {\"domain\": [\"HQ\", \"1\", \"2\", \"3\", \"4\", \"5\", \"6\"], \"range\": [\"black\", \"red\", \"green\", \"purple\", \"orange\", \"darkred\", \"darkblue\", \"darkgreen\", \"cadetblue\", \"darkpurple\", \"white\", \"pink\", \"lightblue\", \"lightgreen\", \"gray\", \"lightgray\"]}}, \"x\": {\"type\": \"quantitative\", \"field\": \"start\"}, \"x2\": {\"field\": \"end\"}, \"y\": {\"type\": \"nominal\", \"field\": \"taxi\"}}}, {\"data\": {\"name\": \"data-d6fa0db388dc2034a6f92144e6025db7\"}, \"mark\": {\"type\": \"bar\", \"color\": \"darkblue\"}, \"encoding\": {\"color\": {\"type\": \"nominal\", \"field\": \"Sites\", \"scale\": {\"domain\": [\"HQ\", \"1\", \"2\", \"3\", \"4\", \"5\", \"6\"], \"range\": [\"black\", \"red\", \"green\", \"purple\", \"orange\", \"darkred\", \"darkblue\", \"darkgreen\", \"cadetblue\", \"darkpurple\", \"white\", \"pink\", \"lightblue\", \"lightgreen\", \"gray\", \"lightgray\"]}}, \"x\": {\"type\": \"quantitative\", \"field\": \"start\"}, \"x2\": {\"field\": \"end\"}, \"y\": {\"type\": \"nominal\", \"field\": \"taxi\"}}}, {\"data\": {\"name\": \"data-3ac0e66a0b2318aa67218dd0782cc917\"}, \"mark\": {\"type\": \"bar\", \"color\": \"lightgray\"}, \"encoding\": {\"x\": {\"type\": \"quantitative\", \"field\": \"start\"}, \"x2\": {\"field\": \"end\"}, \"y\": {\"type\": \"nominal\", \"field\": \"taxi\"}}}], \"$schema\": \"https://vega.github.io/schema/vega-lite/v3.3.0.json\", \"datasets\": {\"data-f342a6f73108aa4feaba91ee8d2e7746\": [{\"taxi\": \"taxi1\", \"state\": \"HQ\", \"start_node\": 9, \"end_node\": 37, \"start\": 9946, \"end\": 10841, \"Sites\": \"0\"}, {\"taxi\": \"taxi2\", \"state\": \"HQ\", \"start_node\": 12, \"end_node\": 49, \"start\": 11465, \"end\": 12277, \"Sites\": \"0\"}], \"data-62a18c27a6ab17f729d23a88650d65a7\": [{\"taxi\": \"taxi2\", \"state\": \"go to Place 1\", \"start_node\": 25, \"end_node\": 1, \"start\": 0, \"end\": 2781, \"Sites\": \"1\"}], \"data-a10b4af8d36a330d18f874384608285f\": [{\"taxi\": \"taxi1\", \"state\": \"go to Place 2\", \"start_node\": 11, \"end_node\": 2, \"start\": 3525, \"end\": 5399, \"Sites\": \"2\"}], \"data-f814ced91ab303e8f9fa2b0f2634caed\": [{\"taxi\": \"taxi1\", \"state\": \"go to Place 3\", \"start_node\": 8, \"end_node\": 3, \"start\": 7199, \"end\": 8146, \"Sites\": \"3\"}], \"data-6923c91a205861357f816228fadf29c6\": [{\"taxi\": \"taxi2\", \"state\": \"go to Place 4\", \"start_node\": 7, \"end_node\": 4, \"start\": 4581, \"end\": 6574, \"Sites\": \"4\"}], \"data-fb689c722cafead059bce70f24ca1546\": [{\"taxi\": \"taxi1\", \"state\": \"go to Place 5\", \"start_node\": 13, \"end_node\": 5, \"start\": 0, \"end\": 1725, \"Sites\": \"5\"}], \"data-d6fa0db388dc2034a6f92144e6025db7\": [{\"taxi\": \"taxi2\", \"state\": \"go to Place 6\", \"start_node\": 10, \"end_node\": 6, \"start\": 8374, \"end\": 9665, \"Sites\": \"6\"}], \"data-3ac0e66a0b2318aa67218dd0782cc917\": [{\"taxi\": \"tsurvey1\", \"start\": 2781, \"end\": 4581}, {\"taxi\": \"tsurvey2\", \"start\": 5399, \"end\": 7199}, {\"taxi\": \"tsurvey3\", \"start\": 8146, \"end\": 9946}, {\"taxi\": \"tsurvey4\", \"start\": 6574, \"end\": 8374}, {\"taxi\": \"tsurvey5\", \"start\": 1725, \"end\": 3525}, {\"taxi\": \"tsurvey6\", \"start\": 9665, \"end\": 11465}]}};\n",
       "var opt = {};\n",
       "var type = \"vega-lite\";\n",
       "var id = \"5703065f-9d6c-4d6f-a6fe-304cdae5dd3c\";\n",
       "\n",
       "var output_area = this;\n",
       "\n",
       "require([\"nbextensions/jupyter-vega/index\"], function(vega) {\n",
       "  var target = document.createElement(\"div\");\n",
       "  target.id = id;\n",
       "  target.className = \"vega-embed\";\n",
       "\n",
       "  var style = document.createElement(\"style\");\n",
       "  style.textContent = [\n",
       "    \".vega-embed .error p {\",\n",
       "    \"  color: firebrick;\",\n",
       "    \"  font-size: 14px;\",\n",
       "    \"}\",\n",
       "  ].join(\"\\\\n\");\n",
       "\n",
       "  // element is a jQuery wrapped DOM element inside the output area\n",
       "  // see http://ipython.readthedocs.io/en/stable/api/generated/\\\n",
       "  // IPython.display.html#IPython.display.Javascript.__init__\n",
       "  element[0].appendChild(target);\n",
       "  element[0].appendChild(style);\n",
       "\n",
       "  vega.render(\"#\" + id, spec, type, opt, output_area);\n",
       "}, function (err) {\n",
       "  if (err.requireType !== \"scripterror\") {\n",
       "    throw(err);\n",
       "  }\n",
       "});\n"
      ],
      "text/plain": [
       "<vega.vegalite.VegaLite at 0x1a21c9e390>"
      ]
     },
     "metadata": {
      "jupyter-vega": "#5703065f-9d6c-4d6f-a6fe-304cdae5dd3c"
     },
     "output_type": "display_data"
    },
    {
     "data": {
      "text/plain": []
     },
     "execution_count": 44,
     "metadata": {},
     "output_type": "execute_result"
    },
    {
     "data": {
      "image/png": "[encoded data removed]"
     },
     "metadata": {
      "jupyter-vega": "#5703065f-9d6c-4d6f-a6fe-304cdae5dd3c"
     },
     "output_type": "display_data"
    }
   ],
   "source": [
    "\n",
    "alt.renderers.enable('notebook')\n",
    "\n",
    "backHQ = alt.Chart(ress_df[(ress_df.state == \"HQ\") ]).mark_bar(color=color[0]).encode(x='start',x2='end',y='taxi')\n",
    "\n",
    "goto = []\n",
    "for i in range(n):\n",
    "    goto.append(alt.Chart(ress_df[(ress_df['state'].str[-1] == str(i+1))]).mark_bar(color=color[i+1]).encode(\n",
    "        x='start',\n",
    "        x2='end',\n",
    "        y='taxi',\n",
    "        color=alt.Color('Sites', scale=alt.Scale(domain=list(data['name']) , range=color))\n",
    "    ))\n",
    "surveys = alt.Chart(survey2_df).mark_bar(color=color[len(color)-1]).encode(x='start',x2='end',y='taxi')\n",
    "\n",
    "graph_all = backHQ\n",
    "\n",
    "for i in range(len(goto)):\n",
    "    graph_all = graph_all + goto[i]\n",
    "graph_all + surveys\n",
    "\n",
    "\n"
   ]
  },
  {
   "cell_type": "markdown",
   "metadata": {
    "colab_type": "text",
    "id": "Vj1YhagD0Os8"
   },
   "source": [
    "## References\n",
    "Ikonen, T. J., & Harjunkoski, I. (2019). Incorporation of parameter prediction models of different fidelity into job shop scheduling. IFAC-PapersOnLine, 52(1), 142-147. doi:10.1016/j.ifacol.2019.06.051"
   ]
  },
  {
   "cell_type": "code",
   "execution_count": null,
   "metadata": {},
   "outputs": [],
   "source": []
  },
  {
   "cell_type": "code",
   "execution_count": null,
   "metadata": {},
   "outputs": [],
   "source": []
  }
 ],
 "metadata": {
  "colab": {
   "collapsed_sections": [
    "5isLVLTO0OsF"
   ],
   "name": "new_taxi.ipynb",
   "provenance": [],
   "version": "0.3.2"
  },
  "kernelspec": {
   "display_name": "Python 3",
   "language": "python",
   "name": "python3"
  },
  "language_info": {
   "codemirror_mode": {
    "name": "ipython",
    "version": 3
   },
   "file_extension": ".py",
   "mimetype": "text/x-python",
   "name": "python",
   "nbconvert_exporter": "python",
   "pygments_lexer": "ipython3",
   "version": "3.7.3"
  }
 },
 "nbformat": 4,
 "nbformat_minor": 1
}
