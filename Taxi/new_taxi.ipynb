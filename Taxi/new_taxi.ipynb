{
 "cells": [
  {
   "cell_type": "markdown",
   "metadata": {},
   "source": [
    "### Import the library "
   ]
  },
  {
   "cell_type": "code",
   "execution_count": 62,
   "metadata": {},
   "outputs": [],
   "source": [
    "import numpy as np\n",
    "import pandas as pd\n",
    "import matplotlib.pyplot as plt\n",
    "from math import sin, cos, sqrt, atan2, radians\n",
    "# import pymc3 as pm"
   ]
  },
  {
   "cell_type": "markdown",
   "metadata": {},
   "source": [
    "### Import the data"
   ]
  },
  {
   "cell_type": "code",
   "execution_count": 63,
   "metadata": {},
   "outputs": [
    {
     "data": {
      "text/plain": [
       "(1458644, 11)"
      ]
     },
     "metadata": {},
     "output_type": "display_data"
    },
    {
     "data": {
      "text/html": [
       "<div>\n",
       "<style scoped>\n",
       "    .dataframe tbody tr th:only-of-type {\n",
       "        vertical-align: middle;\n",
       "    }\n",
       "\n",
       "    .dataframe tbody tr th {\n",
       "        vertical-align: top;\n",
       "    }\n",
       "\n",
       "    .dataframe thead th {\n",
       "        text-align: right;\n",
       "    }\n",
       "</style>\n",
       "<table border=\"1\" class=\"dataframe\">\n",
       "  <thead>\n",
       "    <tr style=\"text-align: right;\">\n",
       "      <th></th>\n",
       "      <th>id</th>\n",
       "      <th>vendor_id</th>\n",
       "      <th>pickup_datetime</th>\n",
       "      <th>dropoff_datetime</th>\n",
       "      <th>passenger_count</th>\n",
       "      <th>pickup_longitude</th>\n",
       "      <th>pickup_latitude</th>\n",
       "      <th>dropoff_longitude</th>\n",
       "      <th>dropoff_latitude</th>\n",
       "      <th>store_and_fwd_flag</th>\n",
       "      <th>trip_duration</th>\n",
       "    </tr>\n",
       "  </thead>\n",
       "  <tbody>\n",
       "    <tr>\n",
       "      <th>0</th>\n",
       "      <td>id2875421</td>\n",
       "      <td>2</td>\n",
       "      <td>2016-03-14 17:24:55</td>\n",
       "      <td>2016-03-14 17:32:30</td>\n",
       "      <td>1</td>\n",
       "      <td>-73.982155</td>\n",
       "      <td>40.767937</td>\n",
       "      <td>-73.964630</td>\n",
       "      <td>40.765602</td>\n",
       "      <td>N</td>\n",
       "      <td>455</td>\n",
       "    </tr>\n",
       "    <tr>\n",
       "      <th>1</th>\n",
       "      <td>id2377394</td>\n",
       "      <td>1</td>\n",
       "      <td>2016-06-12 00:43:35</td>\n",
       "      <td>2016-06-12 00:54:38</td>\n",
       "      <td>1</td>\n",
       "      <td>-73.980415</td>\n",
       "      <td>40.738564</td>\n",
       "      <td>-73.999481</td>\n",
       "      <td>40.731152</td>\n",
       "      <td>N</td>\n",
       "      <td>663</td>\n",
       "    </tr>\n",
       "    <tr>\n",
       "      <th>2</th>\n",
       "      <td>id3858529</td>\n",
       "      <td>2</td>\n",
       "      <td>2016-01-19 11:35:24</td>\n",
       "      <td>2016-01-19 12:10:48</td>\n",
       "      <td>1</td>\n",
       "      <td>-73.979027</td>\n",
       "      <td>40.763939</td>\n",
       "      <td>-74.005333</td>\n",
       "      <td>40.710087</td>\n",
       "      <td>N</td>\n",
       "      <td>2124</td>\n",
       "    </tr>\n",
       "    <tr>\n",
       "      <th>3</th>\n",
       "      <td>id3504673</td>\n",
       "      <td>2</td>\n",
       "      <td>2016-04-06 19:32:31</td>\n",
       "      <td>2016-04-06 19:39:40</td>\n",
       "      <td>1</td>\n",
       "      <td>-74.010040</td>\n",
       "      <td>40.719971</td>\n",
       "      <td>-74.012268</td>\n",
       "      <td>40.706718</td>\n",
       "      <td>N</td>\n",
       "      <td>429</td>\n",
       "    </tr>\n",
       "    <tr>\n",
       "      <th>4</th>\n",
       "      <td>id2181028</td>\n",
       "      <td>2</td>\n",
       "      <td>2016-03-26 13:30:55</td>\n",
       "      <td>2016-03-26 13:38:10</td>\n",
       "      <td>1</td>\n",
       "      <td>-73.973053</td>\n",
       "      <td>40.793209</td>\n",
       "      <td>-73.972923</td>\n",
       "      <td>40.782520</td>\n",
       "      <td>N</td>\n",
       "      <td>435</td>\n",
       "    </tr>\n",
       "  </tbody>\n",
       "</table>\n",
       "</div>"
      ],
      "text/plain": [
       "          id  vendor_id      pickup_datetime     dropoff_datetime  \\\n",
       "0  id2875421          2  2016-03-14 17:24:55  2016-03-14 17:32:30   \n",
       "1  id2377394          1  2016-06-12 00:43:35  2016-06-12 00:54:38   \n",
       "2  id3858529          2  2016-01-19 11:35:24  2016-01-19 12:10:48   \n",
       "3  id3504673          2  2016-04-06 19:32:31  2016-04-06 19:39:40   \n",
       "4  id2181028          2  2016-03-26 13:30:55  2016-03-26 13:38:10   \n",
       "\n",
       "   passenger_count  pickup_longitude  pickup_latitude  dropoff_longitude  \\\n",
       "0                1        -73.982155        40.767937         -73.964630   \n",
       "1                1        -73.980415        40.738564         -73.999481   \n",
       "2                1        -73.979027        40.763939         -74.005333   \n",
       "3                1        -74.010040        40.719971         -74.012268   \n",
       "4                1        -73.973053        40.793209         -73.972923   \n",
       "\n",
       "   dropoff_latitude store_and_fwd_flag  trip_duration  \n",
       "0         40.765602                  N            455  \n",
       "1         40.731152                  N            663  \n",
       "2         40.710087                  N           2124  \n",
       "3         40.706718                  N            429  \n",
       "4         40.782520                  N            435  "
      ]
     },
     "execution_count": 63,
     "metadata": {},
     "output_type": "execute_result"
    }
   ],
   "source": [
    "df = pd.read_csv(\"nyc-taxi-trip-duration/train.csv\")\n",
    "display(df.shape)\n",
    "df.head()"
   ]
  },
  {
   "cell_type": "code",
   "execution_count": 64,
   "metadata": {},
   "outputs": [],
   "source": [
    "wall_street_location = [40.70729,-74.01095]\n",
    "# sample_location = [[40.73,-74.05],[40.665,-73.795],[40.77,-73.995],[40.74,-73.99],[40.695,-73.95],[40.767,-73.875]]\n",
    "all_location = [[40.73,-74.05],[40.665,-73.795],[40.77,-73.995],[40.74,-73.99],[40.695,-73.95],[40.767,-73.875],[40.70729,-74.01095]]\n",
    "all_location_label = [\"1\",\"2\",\"3\",\"4\",\"5\",\"6\",\"HQ\"]\n",
    "\n",
    "dict_location = dict(zip(all_location_label, all_location))\n"
   ]
  },
  {
   "cell_type": "code",
   "execution_count": 65,
   "metadata": {},
   "outputs": [],
   "source": [
    "def get_distance_between_points(lat1,lon1,lat2,lon2):\n",
    "    '''\n",
    "    This function is used to get the distance between lat1, lon1 and lat2, lon2\n",
    "    '''\n",
    "    # approximate radius of earth in km\n",
    "    R = 6378.0\n",
    "    lat1 = radians(lat1)\n",
    "    lon1 = radians(lon1)\n",
    "    lat2 = radians(lat2)\n",
    "    lon2 = radians(lon2)\n",
    "    \n",
    "    dlon = lon2 - lon1\n",
    "    dlat = lat2 - lat1\n",
    "\n",
    "    a = sin(dlat / 2)**2 + cos(lat1) * cos(lat2) * sin(dlon / 2)**2\n",
    "    c = 2 * atan2(sqrt(a), sqrt(1 - a))\n",
    "\n",
    "    distance = R * c\n",
    "    return distance"
   ]
  },
  {
   "cell_type": "code",
   "execution_count": 66,
   "metadata": {},
   "outputs": [],
   "source": [
    "# calculate the distance between the location of wall street to others point in the dataset.\n",
    "df['dist_pickup_to_wall_street'] = np.vectorize(get_distance_between_points)(wall_street_location[0],wall_street_location[1],df['pickup_latitude'], df['pickup_longitude'])\n",
    "\n",
    "\n",
    "df['dist_pickup_to_dropoff'] = np.vectorize(get_distance_between_points)(df['dropoff_latitude'],df['dropoff_longitude'],df['pickup_latitude'], df['pickup_longitude'])\n"
   ]
  },
  {
   "cell_type": "markdown",
   "metadata": {},
   "source": [
    "In order to extract the most relevant information from the\n",
    "dataset for our purpose, we create a filtered dataset, in\n",
    "which either the pick-up or drop-off location lies within\n",
    "500 m from Wall Street (indicated by the red oval in Fig.\n",
    "3(b)). In addition, we filter trips with unrealistically long\n",
    "durations (>20 000 s)."
   ]
  },
  {
   "cell_type": "code",
   "execution_count": 67,
   "metadata": {},
   "outputs": [
    {
     "data": {
      "text/plain": [
       "(20535, 13)"
      ]
     },
     "execution_count": 67,
     "metadata": {},
     "output_type": "execute_result"
    }
   ],
   "source": [
    "df_wall = df[( df['dist_pickup_to_wall_street'] <= 0.5)& (df['trip_duration'] < 20000)]\n",
    "df_wall.shape\n",
    "\n"
   ]
  },
  {
   "cell_type": "markdown",
   "metadata": {},
   "source": [
    "### Choosing the prediction model\n",
    "\n",
    "simply use 5 different prediction algorithm as the model, and compare its performance."
   ]
  },
  {
   "cell_type": "markdown",
   "metadata": {},
   "source": [
    "From this data, we will only use its location (dropoff_longitude and dropoff_latitude) and distance from the HQ to predict the trip duration."
   ]
  },
  {
   "cell_type": "code",
   "execution_count": 68,
   "metadata": {},
   "outputs": [],
   "source": [
    " \n",
    "temp_df = df_wall[['dropoff_latitude','dropoff_longitude','dist_pickup_to_dropoff','trip_duration']].copy()\n",
    "\n",
    "# Declare the model\n",
    "from sklearn.tree import DecisionTreeRegressor\n",
    "from sklearn.ensemble import RandomForestRegressor\n",
    "from sklearn.linear_model import LinearRegression\n",
    "from sklearn.ensemble import BaggingRegressor\n",
    "from sklearn import model_selection\n",
    "from sklearn.model_selection import train_test_split\n",
    "experiments = {\"Algorithm\":[\"Ordinary Least Squares\", \"Regression Tree\", \n",
    "                            \"Big Random Forest\", \"Random Forest\", \n",
    "                            \"Bagging\"], \n",
    "               \"Objects\" : [lambda : LinearRegression(), \n",
    "                            lambda : DecisionTreeRegressor(), \n",
    "                            lambda : RandomForestRegressor(n_estimators=100), \n",
    "                            lambda : RandomForestRegressor(), \n",
    "                            lambda : BaggingRegressor()], \n",
    "               \"Predictions\":[[] for _ in range(5)]}\n",
    "actuals = []"
   ]
  },
  {
   "cell_type": "code",
   "execution_count": 69,
   "metadata": {},
   "outputs": [
    {
     "name": "stderr",
     "output_type": "stream",
     "text": [
      "/Users/lilianaester/anaconda3/lib/python3.7/site-packages/sklearn/ensemble/forest.py:245: FutureWarning: The default value of n_estimators will change from 10 in version 0.20 to 100 in 0.22.\n",
      "  \"10 in version 0.20 to 100 in 0.22.\", FutureWarning)\n",
      "/Users/lilianaester/anaconda3/lib/python3.7/site-packages/sklearn/ensemble/forest.py:245: FutureWarning: The default value of n_estimators will change from 10 in version 0.20 to 100 in 0.22.\n",
      "  \"10 in version 0.20 to 100 in 0.22.\", FutureWarning)\n",
      "/Users/lilianaester/anaconda3/lib/python3.7/site-packages/sklearn/ensemble/forest.py:245: FutureWarning: The default value of n_estimators will change from 10 in version 0.20 to 100 in 0.22.\n",
      "  \"10 in version 0.20 to 100 in 0.22.\", FutureWarning)\n",
      "/Users/lilianaester/anaconda3/lib/python3.7/site-packages/sklearn/ensemble/forest.py:245: FutureWarning: The default value of n_estimators will change from 10 in version 0.20 to 100 in 0.22.\n",
      "  \"10 in version 0.20 to 100 in 0.22.\", FutureWarning)\n",
      "/Users/lilianaester/anaconda3/lib/python3.7/site-packages/sklearn/ensemble/forest.py:245: FutureWarning: The default value of n_estimators will change from 10 in version 0.20 to 100 in 0.22.\n",
      "  \"10 in version 0.20 to 100 in 0.22.\", FutureWarning)\n",
      "/Users/lilianaester/anaconda3/lib/python3.7/site-packages/sklearn/ensemble/forest.py:245: FutureWarning: The default value of n_estimators will change from 10 in version 0.20 to 100 in 0.22.\n",
      "  \"10 in version 0.20 to 100 in 0.22.\", FutureWarning)\n",
      "/Users/lilianaester/anaconda3/lib/python3.7/site-packages/sklearn/ensemble/forest.py:245: FutureWarning: The default value of n_estimators will change from 10 in version 0.20 to 100 in 0.22.\n",
      "  \"10 in version 0.20 to 100 in 0.22.\", FutureWarning)\n",
      "/Users/lilianaester/anaconda3/lib/python3.7/site-packages/sklearn/ensemble/forest.py:245: FutureWarning: The default value of n_estimators will change from 10 in version 0.20 to 100 in 0.22.\n",
      "  \"10 in version 0.20 to 100 in 0.22.\", FutureWarning)\n",
      "/Users/lilianaester/anaconda3/lib/python3.7/site-packages/sklearn/ensemble/forest.py:245: FutureWarning: The default value of n_estimators will change from 10 in version 0.20 to 100 in 0.22.\n",
      "  \"10 in version 0.20 to 100 in 0.22.\", FutureWarning)\n"
     ]
    },
    {
     "data": {
      "text/html": [
       "<div>\n",
       "<style scoped>\n",
       "    .dataframe tbody tr th:only-of-type {\n",
       "        vertical-align: middle;\n",
       "    }\n",
       "\n",
       "    .dataframe tbody tr th {\n",
       "        vertical-align: top;\n",
       "    }\n",
       "\n",
       "    .dataframe thead th {\n",
       "        text-align: right;\n",
       "    }\n",
       "</style>\n",
       "<table border=\"1\" class=\"dataframe\">\n",
       "  <thead>\n",
       "    <tr style=\"text-align: right;\">\n",
       "      <th></th>\n",
       "      <th>Results</th>\n",
       "    </tr>\n",
       "    <tr>\n",
       "      <th>Algorithm</th>\n",
       "      <th></th>\n",
       "    </tr>\n",
       "  </thead>\n",
       "  <tbody>\n",
       "    <tr>\n",
       "      <th>Ordinary Least Squares</th>\n",
       "      <td>0.514720</td>\n",
       "    </tr>\n",
       "    <tr>\n",
       "      <th>Regression Tree</th>\n",
       "      <td>0.166908</td>\n",
       "    </tr>\n",
       "    <tr>\n",
       "      <th>Big Random Forest</th>\n",
       "      <td>0.529410</td>\n",
       "    </tr>\n",
       "    <tr>\n",
       "      <th>Random Forest</th>\n",
       "      <td>0.500419</td>\n",
       "    </tr>\n",
       "    <tr>\n",
       "      <th>Bagging</th>\n",
       "      <td>0.496262</td>\n",
       "    </tr>\n",
       "  </tbody>\n",
       "</table>\n",
       "</div>"
      ],
      "text/plain": [
       "                         Results\n",
       "Algorithm                       \n",
       "Ordinary Least Squares  0.514720\n",
       "Regression Tree         0.166908\n",
       "Big Random Forest       0.529410\n",
       "Random Forest           0.500419\n",
       "Bagging                 0.496262"
      ]
     },
     "execution_count": 69,
     "metadata": {},
     "output_type": "execute_result"
    }
   ],
   "source": [
    "# run the 5 differenet algorithm and compare the result\n",
    "\n",
    "for _ in range (4):\n",
    "    train_X, test_X, train_y, test_y = (\n",
    "        train_test_split(temp_df.drop(\"trip_duration\", axis=1), \n",
    "                         temp_df[\"trip_duration\"], test_size=0.33))\n",
    "    for i, obj_factory in enumerate(experiments[\"Objects\"]):\n",
    "        obj = obj_factory()\n",
    "        obj.fit(y=train_y,X=train_X)\n",
    "        experiments[\"Predictions\"][i] += list(obj.predict(test_X))\n",
    "    actuals += list(test_y)\n",
    "actuals = pd.Series(actuals)\n",
    "experiments[\"Predictions\"] = list(map(pd.Series, experiments[\"Predictions\"]))\n",
    "\n",
    "# Get the performance of every model\n",
    "experiments[\"Results\"] = []\n",
    "for o in experiments[\"Objects\"]:\n",
    "    experiments[\"Results\"].append(\n",
    "        model_selection.cross_val_score(o(), y=temp_df['trip_duration'], \n",
    "                                        X=temp_df.drop(\"trip_duration\", axis=1),\n",
    "                                        cv=5).mean())\n",
    "\n",
    "pd.DataFrame(experiments).drop([\"Objects\", \"Predictions\"], \n",
    "                            axis=1).set_index(\"Algorithm\")"
   ]
  },
  {
   "cell_type": "markdown",
   "metadata": {},
   "source": [
    "Big random forest performance very well compare to the other. So, in this case, we will use big random forest as the algorithm for predicting trip duration. To easily re-produce the model, it is important to create the model in a function."
   ]
  },
  {
   "cell_type": "code",
   "execution_count": 70,
   "metadata": {},
   "outputs": [],
   "source": [
    "def create_model(temp_df, wall_street_location):\n",
    "    '''\n",
    "    parameter : \n",
    "        - temp_df = the training dataframe\n",
    "        - wall_street_location = the headquarter\n",
    "    '''\n",
    "    train_X, test_X, train_y, test_y = ( train_test_split(temp_df.drop(\"trip_duration\", axis=1), \n",
    "                             temp_df[\"trip_duration\"], test_size=0.33))\n",
    "\n",
    "    obj = RandomForestRegressor(n_estimators=100)\n",
    "    obj.fit(y=train_y,X=train_X)\n",
    "#     obj.predict(test_X)\n",
    "    \n",
    "#     print(\"Cross val score : \",model_selection.cross_val_score(obj, y=temp_df['trip_duration'], \n",
    "#                                             X=temp_df.drop(\"trip_duration\", axis=1),\n",
    "#                                             cv=5).mean())\n",
    "#     obj.predict(temp_df.drop(\"trip_duration\", axis=1))\n",
    "\n",
    "    ## CREATE THE SAMPLE FOR THE MODEL\n",
    "    sample_lat = []\n",
    "    sample_lng = []\n",
    "    sample_distance = []\n",
    "\n",
    "    for i in dict_location:\n",
    "        if int(i) > 5:\n",
    "            break\n",
    "        sample_lat.append(dict_location[i][0])\n",
    "        sample_lng.append(dict_location[i][1])\n",
    "        sample_distance.append(get_distance_between_points(wall_street_location[0],wall_street_location[1],dict_location[i][0],dict_location[i][1]))\n",
    "        \n",
    "    \n",
    "    d = {'dropoff_latitude' : sample_lat,\n",
    "     'dropoff_longitude' : sample_lng,\n",
    "    'dist_pickup_to_dropoff': sample_distance}\n",
    "    temp_pred_df = pd.DataFrame(d)  \n",
    "    \n",
    "    temp_pred_df['predicted_duration'] = obj.predict(temp_pred_df)\n",
    "    return temp_pred_df"
   ]
  },
  {
   "cell_type": "code",
   "execution_count": 71,
   "metadata": {},
   "outputs": [],
   "source": [
    "def get_location_names(lat,lng):\n",
    "    for k,v in dict_location.items():\n",
    "        if  (v[0] == lat) & (v[1] == lng) :\n",
    "            return k\n",
    "        "
   ]
  },
  {
   "cell_type": "code",
   "execution_count": 72,
   "metadata": {},
   "outputs": [
    {
     "data": {
      "text/html": [
       "<div>\n",
       "<style scoped>\n",
       "    .dataframe tbody tr th:only-of-type {\n",
       "        vertical-align: middle;\n",
       "    }\n",
       "\n",
       "    .dataframe tbody tr th {\n",
       "        vertical-align: top;\n",
       "    }\n",
       "\n",
       "    .dataframe thead th {\n",
       "        text-align: right;\n",
       "    }\n",
       "</style>\n",
       "<table border=\"1\" class=\"dataframe\">\n",
       "  <thead>\n",
       "    <tr style=\"text-align: right;\">\n",
       "      <th></th>\n",
       "      <th>dropoff_latitude</th>\n",
       "      <th>dropoff_longitude</th>\n",
       "      <th>dist_pickup_to_dropoff</th>\n",
       "      <th>predicted_duration</th>\n",
       "    </tr>\n",
       "  </thead>\n",
       "  <tbody>\n",
       "    <tr>\n",
       "      <th>0</th>\n",
       "      <td>40.730</td>\n",
       "      <td>-74.050</td>\n",
       "      <td>0.000000</td>\n",
       "      <td>1309.503333</td>\n",
       "    </tr>\n",
       "    <tr>\n",
       "      <th>1</th>\n",
       "      <td>40.665</td>\n",
       "      <td>-73.795</td>\n",
       "      <td>22.704878</td>\n",
       "      <td>2566.200000</td>\n",
       "    </tr>\n",
       "    <tr>\n",
       "      <th>2</th>\n",
       "      <td>40.770</td>\n",
       "      <td>-73.995</td>\n",
       "      <td>6.429525</td>\n",
       "      <td>1352.170000</td>\n",
       "    </tr>\n",
       "    <tr>\n",
       "      <th>3</th>\n",
       "      <td>40.740</td>\n",
       "      <td>-73.990</td>\n",
       "      <td>5.181914</td>\n",
       "      <td>1590.750000</td>\n",
       "    </tr>\n",
       "    <tr>\n",
       "      <th>4</th>\n",
       "      <td>40.695</td>\n",
       "      <td>-73.950</td>\n",
       "      <td>9.293823</td>\n",
       "      <td>1833.190000</td>\n",
       "    </tr>\n",
       "  </tbody>\n",
       "</table>\n",
       "</div>"
      ],
      "text/plain": [
       "   dropoff_latitude  dropoff_longitude  dist_pickup_to_dropoff  \\\n",
       "0            40.730            -74.050                0.000000   \n",
       "1            40.665            -73.795               22.704878   \n",
       "2            40.770            -73.995                6.429525   \n",
       "3            40.740            -73.990                5.181914   \n",
       "4            40.695            -73.950                9.293823   \n",
       "\n",
       "   predicted_duration  \n",
       "0         1309.503333  \n",
       "1         2566.200000  \n",
       "2         1352.170000  \n",
       "3         1590.750000  \n",
       "4         1833.190000  "
      ]
     },
     "execution_count": 72,
     "metadata": {},
     "output_type": "execute_result"
    }
   ],
   "source": [
    "df1 = create_model(temp_df,dict_location[\"1\"])\n",
    "df1"
   ]
  },
  {
   "cell_type": "code",
   "execution_count": 73,
   "metadata": {},
   "outputs": [
    {
     "name": "stdout",
     "output_type": "stream",
     "text": [
      "[924, 2955, 1546, 1479, 1860]\n",
      "[2323, 1249, 2602, 2090, 2188]\n",
      "[2190, 2206, 484, 839, 1983]\n",
      "[2489, 3053, 911, 1093, 1239]\n",
      "[1625, 2989, 1974, 1531, 1302]\n"
     ]
    }
   ],
   "source": [
    "prediction_list = []\n",
    "for i in dict_location:\n",
    "    if int(i) >5:\n",
    "        break\n",
    "    tdf = create_model(temp_df,dict_location[str(i)])\n",
    "    prediction_list.append(list(tdf['predicted_duration'].apply(lambda x : int(x))))\n",
    "    print(list(tdf['predicted_duration'].apply(lambda x : int(x))))"
   ]
  },
  {
   "cell_type": "code",
   "execution_count": 74,
   "metadata": {},
   "outputs": [
    {
     "name": "stdout",
     "output_type": "stream",
     "text": [
      "[0.0, 22.705, 6.43, 5.182, 9.294]\n",
      "[22.705, 0.0, 20.527, 18.453, 13.504]\n",
      "[6.43, 20.527, 0.0, 3.366, 9.171]\n",
      "[5.182, 18.453, 3.366, 0.0, 6.04]\n",
      "[9.294, 13.504, 9.171, 6.04, 0.0]\n"
     ]
    }
   ],
   "source": [
    "distance_list = []\n",
    "for i in dict_location:\n",
    "    if int(i) > 5:\n",
    "        break\n",
    "    tdf = create_model(temp_df,dict_location[str(i)])\n",
    "    distance_list.append(list(tdf['dist_pickup_to_dropoff'].round(3)))\n",
    "    print(list(tdf['dist_pickup_to_dropoff'].round(3)))\n",
    "    "
   ]
  },
  {
   "cell_type": "code",
   "execution_count": 75,
   "metadata": {},
   "outputs": [
    {
     "data": {
      "text/plain": [
       "[[0, 2955, 1546, 1479, 1860],\n",
       " [2323, 0, 2602, 2090, 2188],\n",
       " [2190, 2206, 0, 839, 1983],\n",
       " [2489, 3053, 911, 0, 1239],\n",
       " [1625, 2989, 1974, 1531, 0]]"
      ]
     },
     "execution_count": 75,
     "metadata": {},
     "output_type": "execute_result"
    }
   ],
   "source": [
    "for i in range(len(prediction_list)):\n",
    "    prediction_list[i][i] = 0\n",
    "prediction_list\n"
   ]
  },
  {
   "cell_type": "code",
   "execution_count": 76,
   "metadata": {},
   "outputs": [
    {
     "name": "stdout",
     "output_type": "stream",
     "text": [
      "The iminizinc extension is already loaded. To reload it, use:\n",
      "  %reload_ext iminizinc\n"
     ]
    }
   ],
   "source": [
    "%load_ext iminizinc"
   ]
  },
  {
   "cell_type": "code",
   "execution_count": 77,
   "metadata": {},
   "outputs": [],
   "source": [
    "dist = prediction_list\n",
    "NumLocs= 5;"
   ]
  },
  {
   "cell_type": "code",
   "execution_count": null,
   "metadata": {},
   "outputs": [],
   "source": []
  },
  {
   "cell_type": "code",
   "execution_count": 78,
   "metadata": {},
   "outputs": [],
   "source": [
    "%%mzn_model taxi_model\n",
    "%\n",
    "% Vehicle Routing Problem\n",
    "%\n",
    "\n",
    "% Location data\n",
    "\n",
    "% Each customer is represented as a pair of x and y coordinates.\n",
    "% The final location is that of the depot.\n",
    "\n",
    "% x coordinates of location\n",
    "% array[int] of float: locX;\n",
    "% % y coordinates of location\n",
    "% array[int] of float: locY;\n",
    "\n",
    "\n",
    "% Locations\n",
    "int: NumLocs;\n",
    "set of int: Locations = 1..NumLocs;\n",
    "\n",
    "array [Locations, Locations] of int: dist;\n",
    "\n",
    "\n",
    "% Survey\n",
    "int: N = NumLocs - 1;\n",
    "\n",
    "% Vehicles\n",
    "int: NumRoutes = 4*N; % Worst Case \n",
    "set of int: Vehicles = 1..NumRoutes;  % One Vehicle for each Route\n",
    "\n",
    "% Survey Time\n",
    "% We assume that the amount of time it takes to do a survey is constant, e.g. 70000 seconds\n",
    "int: surveyTime = 1800;\n",
    "\n",
    "\n",
    "% % Euclidian distance between locations, computed from\n",
    "% % x/y coordinates\n",
    "% array [Locations, Locations] of int: dist = \n",
    "%     array2d (\n",
    "%         Locations, Locations,\n",
    "%         [ round (1000.0 * sqrt( (locX[a] - locX[b]) * (locX[a] - locX[b]) +\n",
    "%                                 (locY[a] - locY[b]) * (locY[a] - locY[b]))\n",
    "%           )\n",
    "%         | a, b in Locations\n",
    "%         ]\n",
    "%     );\n",
    "\n",
    "\n",
    "\n",
    "\n",
    "% =====================================\n",
    "% Model\n",
    "% =====================================\n",
    "\n",
    "include \"globals.mzn\";\n",
    "\n",
    "% Define sets of nodes\n",
    "\n",
    "% Survey locations have 2 states, a start and an end state\n",
    "set of int: ArriveSurvey = 1..N;\n",
    "set of int: LeaveSurvey = N+1..2*N;\n",
    "% 1..2*N represent survey nodes, anything greater is a Depot Node  \n",
    "% At the worst case, A taxi will visit all survey nodes\n",
    "set of int: TaxiStart1 = 2*N+1..4*N;  % All Starting Nodes for Taxi 1\n",
    "set of int: TaxiStart2  = 4*N+1..6*N; % All Starting Nodes for Taxi 2\n",
    "set of int: TaxiEnd1 = 6*N+1..8*N; % All Ending Nodes for Taxi 1\n",
    "set of int: TaxiEnd2 = 8*N+1..10*N; % All Ending Nodes for Taxi 2\n",
    "\n",
    "% All Nodes\n",
    "set of int: Visits = 1..max(TaxiEnd2);\n",
    "% All Survey Nodes plus Taxi Starting Nodes\n",
    "set of int: SurveyPlusStarts = 1..max(TaxiStart2);\n",
    "\n",
    "\n",
    "% Array of Distances between 2 points i and j\n",
    "% Extended array of distances, including the depot start/end nodes.\n",
    "array[Visits,Visits] of int: visit_dist = array2d(Visits,Visits,\n",
    "  [if i> 2 * N /\\ j > 2 * N then 0  % Distance between Depots\n",
    "   elseif i > 2 * N then dist[NumLocs,(j mod N) + 1] % Distance between Depots and Survey (i > Survey)\n",
    "   elseif j> 2 * N then dist[(i mod N)+1,NumLocs] % Distance between Survey and Depot (j > Survey)\n",
    "   elseif i + N = j then 0\n",
    "   elseif j + N = i then 0               % Distance between the same depots is 0\n",
    "   else dist[(i mod N)+1 ,(j mod N)+1] endif | i,j in Visits]); % Euclidean Distance for the rest\n",
    "\n",
    "% =====================================\n",
    "% Decision variables\n",
    "% =====================================\n",
    "\n",
    "% Successor representation\n",
    "array[Visits] of var Visits: successor;\n",
    "\n",
    "% Time (i-th element is the time when the taxi visits the i-th node)\n",
    "array[Visits] of var 0..infinity: time;\n",
    "% Time (i-th element is the time when the i-th survey starts)\n",
    "array[ArriveSurvey] of var 0..infinity: surveyStart;\n",
    "\n",
    "% Mapping from visits to route (vehicle) number\n",
    "array[Visits] of var Vehicles: routeOf;\n",
    "\n",
    "% Objective function:\n",
    "% Maximum time taken to complete all surveys\n",
    "var int: objective = max(time);\n",
    "\n",
    "% =====================================\n",
    "% Problem Constraints\n",
    "% =====================================\n",
    "\n",
    "% Route & Successor Constraints\n",
    "% =====================================\n",
    "\n",
    "% Assign each vehicle depot start node to its route\n",
    "constraint forall (k in 1..4*N) ( routeOf[2*N + k] = k);\n",
    "\n",
    "% Assign each vehicle depot end node to its route\n",
    "constraint forall (k in 1..4*N) ( routeOf[6*N + k] = k);\n",
    "\n",
    "% The successors form a circuit (grand tour representation)\n",
    "constraint circuit (successor) ::domain;\n",
    "\n",
    "% successor of end is start of next, wraps around to first depot node\n",
    "constraint\n",
    "  forall (k in 1..4*N)\n",
    "    ( successor[2 * N + 4 * N + k] = ( 2*N + 1 + (k mod NumRoutes) ) );\n",
    "\n",
    "% Successor of starting survey node can only be a depot node or an ending survey node\n",
    "constraint forall(k in ArriveSurvey)(successor[k] > N);\n",
    "% Sucessor of ending survey node can only be a depot node or a starting survey node\n",
    "constraint forall(k in LeaveSurvey)(successor[k] <= N \\/ successor[k] >= 2*N + 1);\n",
    "    \n",
    "% Link up the routeOf and successor variables:\n",
    "% Each visit is on the same route as its successor.\n",
    "% This is true for all survey and start visits, but not for the end visits.\n",
    "constraint forall (i in SurveyPlusStarts) ( routeOf[i] = routeOf[successor[i]] );\n",
    "\n",
    "\n",
    "% =====================================\n",
    "% Survey Constraints\n",
    "% =====================================\n",
    "\n",
    "% Survey i should start after or at the time the survey team reaches survey site i\n",
    "constraint forall(i in ArriveSurvey)(surveyStart[i] >= time[i]);\n",
    "% The time the taxi leaves from survey site i should be after 1800 seconds from the time the survey starts\n",
    "constraint forall(i in ArriveSurvey)(surveyStart[i] + surveyTime <= time[i + N]);\n",
    "\n",
    "% This constraint makes sure that at any given time, only 2 surveys maybe be done in parallel\n",
    "% It takes in an array of start times, the amount of time it takes to finish the survey, how many survey teams are used for that survey, and the maximum number of survey teams available\n",
    "constraint cumulative(surveyStart, [surveyTime | i in 1..N], [1 | i in 1..N], 2);\n",
    "\n",
    "% =====================================\n",
    "% Time Constraints\n",
    "% =====================================\n",
    "\n",
    "% Accumulate Time\n",
    "constraint forall(i in Visits where i != 4 * N - 1 /\\ i != 6 * N - 1)(time[successor[i]] >= time[i] + visit_dist[i, successor[i]]);\n",
    "\n",
    "% Starting Taxi times are 0, at 2n + 1 and 4n + 1\n",
    "constraint time[2 * N + 1] = 0;\n",
    "constraint time[4 * N + 1] = 0;\n",
    "\n",
    "% Ending Depot Time should be the same as the next Starting Depot Time, for each Taxi\n",
    "constraint forall(i in 1..2, j in 1..2*N-1)(time[6*N + j + (i-1)*N] = time[2*N + j + 1 + (i-1)*N]);\n",
    "  \n",
    "\n",
    "% =====================================\n",
    "% Symmetry breaking\n",
    "% =====================================\n",
    "\n",
    "% If the successor of the i-th starting taxi node is its ending taxi node, then the successor of \n",
    "% the (i+1)-th starting taxi node will also be its corresponding ending taxi node\n",
    "constraint forall(i in 1..2*N-1) (successor[2*N+i] = 6*N + i -> successor[2*N+i+1] = 6*N + i + 1);\n",
    "\n",
    "% =====================================\n",
    "% Solve and output\n",
    "% =====================================\n",
    "\n",
    "% We want to minimize the time taken to complete all surveys\n",
    "solve\n",
    "  :: int_search ( successor, dom_w_deg, indomain_min, complete)\n",
    "  minimize (objective);\n",
    "\n",
    "output\n",
    "[ \"duration = \", show(objective), \"\\n\" ] ++\n",
    "[ \"successor = \", show(successor), \";\\n\" ] ++\n",
    "[ \"routeOf = \", show(routeOf), \";\\n\"] \n",
    "++ [ \"time = \", show(time), \";\\n\"]\n",
    "++ [ \"surveyStart = \", show(surveyStart), \";\\n\"];"
   ]
  },
  {
   "cell_type": "code",
   "execution_count": null,
   "metadata": {},
   "outputs": [],
   "source": [
    "output = %minizinc taxi_model --solver chuffed\n",
    "print(output)"
   ]
  },
  {
   "cell_type": "code",
   "execution_count": null,
   "metadata": {},
   "outputs": [],
   "source": []
  },
  {
   "cell_type": "code",
   "execution_count": null,
   "metadata": {},
   "outputs": [],
   "source": []
  },
  {
   "cell_type": "code",
   "execution_count": null,
   "metadata": {},
   "outputs": [],
   "source": []
  },
  {
   "cell_type": "code",
   "execution_count": 153,
   "metadata": {},
   "outputs": [
    {
     "data": {
      "text/html": [
       "<div style=\"width:100%;\"><div style=\"position:relative;width:100%;height:0;padding-bottom:60%;\"><iframe src=\"data:text/html;charset=utf-8;base64,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\" style=\"position:absolute;width:100%;height:100%;left:0;top:0;border:none !important;\" allowfullscreen webkitallowfullscreen mozallowfullscreen></iframe></div></div>"
      ],
      "text/plain": [
       "<folium.folium.Map at 0x1c79dc40b8>"
      ]
     },
     "execution_count": 153,
     "metadata": {},
     "output_type": "execute_result"
    }
   ],
   "source": [
    "# import libraries\n",
    "import folium\n",
    "import pandas as pd\n",
    " \n",
    "lat_list = []\n",
    "lon_list= []\n",
    "for i in dict_location:\n",
    "    lat_list.append(dict_location[i][0])\n",
    "    lon_list.append(dict_location[i][1])\n",
    "    \n",
    "# Make a data frame with dots to show on the map\n",
    "data = pd.DataFrame({\n",
    "'lat': lat_list,\n",
    "'lon': lon_list,\n",
    "'name':['HQ','1','2','3','4','5','6']\n",
    "})\n",
    "data\n",
    " \n",
    "# Make an empty map\n",
    "# m = folium.Map(location=[20, 0], tiles=\"Mapbox Bright\", zoom_start=2)\n",
    "m = folium.Map(location=wall_street_location, tiles=\"Mapbox Control Room\")\n",
    "\n",
    " \n",
    "# I can add marker one by one on the map\n",
    "for i in range(0,len(data)):\n",
    "    folium.Marker([data.iloc[i]['lat'], data.iloc[i]['lon']], popup=data.iloc[i]['name']).add_to(m)\n",
    "\n",
    "m"
   ]
  },
  {
   "cell_type": "code",
   "execution_count": null,
   "metadata": {},
   "outputs": [],
   "source": []
  }
 ],
 "metadata": {
  "kernelspec": {
   "display_name": "Python 3",
   "language": "python",
   "name": "python3"
  },
  "language_info": {
   "codemirror_mode": {
    "name": "ipython",
    "version": 3
   },
   "file_extension": ".py",
   "mimetype": "text/x-python",
   "name": "python",
   "nbconvert_exporter": "python",
   "pygments_lexer": "ipython3",
   "version": "3.7.3"
  }
 },
 "nbformat": 4,
 "nbformat_minor": 2
}
